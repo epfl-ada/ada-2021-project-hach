{
 "cells": [
  {
   "cell_type": "markdown",
   "id": "c13be940-91b2-4b48-8fba-850231af9783",
   "metadata": {},
   "source": [
    "# Data extraction"
   ]
  },
  {
   "cell_type": "markdown",
   "id": "53fa5719-d349-4ade-b9ae-e3fe31db2833",
   "metadata": {},
   "source": [
    "# 1. Imports"
   ]
  },
  {
   "cell_type": "code",
   "execution_count": 3,
   "id": "9244e7ab-5848-4a3f-b64a-de1a35a63b93",
   "metadata": {},
   "outputs": [],
   "source": [
    "import pandas as pd\n",
    "import numpy as np\n",
    "import matplotlib.pyplot as plt\n",
    "import seaborn as sns\n",
    "from tqdm.auto import tqdm\n",
    "from datetime import datetime"
   ]
  },
  {
   "cell_type": "code",
   "execution_count": 4,
   "id": "e7e05727-197d-4871-b8f3-4e601538daa6",
   "metadata": {},
   "outputs": [],
   "source": [
    "%load_ext autoreload\n",
    "%autoreload 2\n",
    "from hach.data import *"
   ]
  },
  {
   "cell_type": "markdown",
   "id": "9e38b11b-da0d-4fcf-b591-e5882204478c",
   "metadata": {
    "tags": []
   },
   "source": [
    "# 2. Extracting data to specific datasets"
   ]
  },
  {
   "cell_type": "markdown",
   "id": "fd7f5a56-e630-4c0d-98ac-c7cd77837875",
   "metadata": {},
   "source": [
    "These extractions should be **_run only once!_** The resulting datasets are written to pickle files to be reused later on to create more specific dataframes manipulated for our analyses."
   ]
  },
  {
   "cell_type": "markdown",
   "id": "24eb9648-52db-4d6f-b03e-8b9fb600fd9c",
   "metadata": {},
   "source": [
    "### 2.1 Exctracting the climate related quotes"
   ]
  },
  {
   "cell_type": "markdown",
   "id": "bd39ef21-ace4-4360-a920-5e2dad806fbf",
   "metadata": {},
   "source": [
    "In order to extract climate related quotations, we used a list of words inspired by the COP21 Glossary of Terms Guiding the Long-term Emissions-Reduction Goal (https://www.wri.org/insights/cop21-glossary-terms-guiding-long-term-emissions-reduction-goal)."
   ]
  },
  {
   "cell_type": "code",
   "execution_count": 3,
   "id": "9f403baa-536f-4396-b826-e8f6fad318ae",
   "metadata": {},
   "outputs": [],
   "source": [
    "related_words = [\"climate\", \"global warming\", \"greenhouse gas\", \"gas emissions\", \"greenhouse effect\", \"pollution\", \"carbon emissions\"]"
   ]
  },
  {
   "cell_type": "code",
   "execution_count": null,
   "id": "725cef88-efb1-4746-94b0-761869f36ff9",
   "metadata": {},
   "outputs": [],
   "source": [
    "# will extract climate change related quotes and save a pickle for each year in the data folder\n",
    "%%time\n",
    "extract_related_quotes(related_words, [2017, 2018, 2019, 2020])"
   ]
  },
  {
   "cell_type": "markdown",
   "id": "c26842b7-ada0-47d3-b477-d7703b796cd4",
   "metadata": {
    "tags": []
   },
   "source": [
    "**How to load the data**"
   ]
  },
  {
   "cell_type": "code",
   "execution_count": 12,
   "id": "d3b7581b-0b2b-47b8-ab7b-0db54d10acfe",
   "metadata": {},
   "outputs": [],
   "source": [
    "# get climate related data in one single dataframe, and a dict of dfs per year\n",
    "full_df, dfs = get_climate_data()"
   ]
  },
  {
   "cell_type": "markdown",
   "id": "e978ae86-cf94-45a9-a0eb-c88b07f177ef",
   "metadata": {},
   "source": [
    "### 2.2 Exctracting the wiki data and labels"
   ]
  },
  {
   "cell_type": "markdown",
   "id": "28e6fff8-7c4b-410c-bfdb-9ba66eb4e5eb",
   "metadata": {},
   "source": [
    "We extract the wiki data and wiki labels to merge both datasets, into one - wiki speakers"
   ]
  },
  {
   "cell_type": "code",
   "execution_count": null,
   "id": "2e64f011-04b2-4bdf-9ba3-b0b1ab3fcf88",
   "metadata": {},
   "outputs": [],
   "source": [
    "%%time\n",
    "wiki_data, wiki_labels, wiki_speakers = extract_wiki_speakers(full_df)"
   ]
  },
  {
   "cell_type": "markdown",
   "id": "5de22bb5-b8ba-4604-894e-e033501918e9",
   "metadata": {},
   "source": [
    "### 2.3 Exctracting the speakers with all their attributes"
   ]
  },
  {
   "cell_type": "code",
   "execution_count": null,
   "id": "f71e7258-5948-4a24-bdec-786eee28f3f1",
   "metadata": {},
   "outputs": [],
   "source": [
    "extract_speakers(dfs, wiki_speakers, wiki_labels)"
   ]
  }
 ],
 "metadata": {
  "kernelspec": {
   "display_name": "Python 3 (ipykernel)",
   "language": "python",
   "name": "python3"
  },
  "language_info": {
   "codemirror_mode": {
    "name": "ipython",
    "version": 3
   },
   "file_extension": ".py",
   "mimetype": "text/x-python",
   "name": "python",
   "nbconvert_exporter": "python",
   "pygments_lexer": "ipython3",
   "version": "3.9.7"
  }
 },
 "nbformat": 4,
 "nbformat_minor": 5
}
