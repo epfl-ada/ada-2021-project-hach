{
 "cells": [
  {
   "cell_type": "code",
   "execution_count": 1,
   "id": "7a2489df-29f1-45ec-8d20-a52516bbe3b5",
   "metadata": {},
   "outputs": [],
   "source": [
    "import numpy as np\n",
    "import pandas as pd\n",
    "from os import path\n",
    "from PIL import Image\n",
    "#from wordcloud import WordCloud, STOPWORDS, ImageColorGenerator\n",
    "\n",
    "import matplotlib.pyplot as plt\n",
    "import seaborn as sns\n",
    "%matplotlib inline"
   ]
  },
  {
   "cell_type": "markdown",
   "id": "5858f4ad-1fae-44bc-931f-3519563978c9",
   "metadata": {},
   "source": [
    "Load all the datasets and extract the climate quotes for each year into a separate pickle file"
   ]
  },
  {
   "cell_type": "code",
   "execution_count": null,
   "id": "25a3de7d-957b-4331-949a-fad547180ddb",
   "metadata": {},
   "outputs": [
    {
     "name": "stdout",
     "output_type": "stream",
     "text": [
      "2015\n",
      "Chunks for year 2015 done\n",
      "Pickle done\n",
      "2016\n",
      "Chunks for year 2016 done\n",
      "Pickle done\n",
      "2017\n"
     ]
    }
   ],
   "source": [
    "# RUN ONLY ONCE\n",
    "# iteratively extract climate quotation datasets for each year\n",
    "\n",
    "for year in range(2015, 2021):\n",
    "    print(year)\n",
    "    df_reader = pd.read_json('data/quotebank/quotes-{}.json.bz2'.format(year), lines=True, compression='bz2', chunksize=10000)\n",
    "\n",
    "    climate_quotes = []\n",
    "    for chunk in df_reader:\n",
    "        df = chunk[chunk.quotation.str.contains('climate', case=False, na=False)]\n",
    "        climate_quotes.append(df)\n",
    "    print('Chunks for year {} done'.format(year))\n",
    "    climate_df = pd.concat(climate_quotes)\n",
    "    # pickle pickle pickle\n",
    "    climate_df.to_pickle('data/climate_df_{}.pkl'.format(year))\n",
    "    print('Pickle done')"
   ]
  },
  {
   "cell_type": "markdown",
   "id": "736d2ed8-27e4-48de-a743-03a09756bd69",
   "metadata": {},
   "source": [
    "**Loading the climate dataframes pickles for each year into a dictionary**"
   ]
  },
  {
   "cell_type": "code",
   "execution_count": 2,
   "id": "125e3063-46d4-45b9-b983-0995bb20ac9d",
   "metadata": {},
   "outputs": [],
   "source": [
    "climate_dfs = {}\n",
    "for i in range(2015, 2021):\n",
    "    climate_dfs['{}'.format(i)] = pd.read_pickle('data/climate_df_{}.pkl'.format(i))"
   ]
  },
  {
   "cell_type": "markdown",
   "id": "37775824-66bd-4f9e-a2e5-1ab326119167",
   "metadata": {},
   "source": [
    "## Wiki data"
   ]
  },
  {
   "cell_type": "code",
   "execution_count": 3,
   "id": "02f0e595-e55e-4e3f-a1af-f5e0093ecde4",
   "metadata": {},
   "outputs": [],
   "source": [
    "# load wiki data\n",
    "wiki_data = pd.read_parquet('parquet-data/speaker_attributes.parquet')\n",
    "\n",
    "# load the labels for wiki data\n",
    "wiki_labels = pd.read_csv('data/wikidata_labels_descriptions_quotebank.csv.bz2', compression='bz2', index_col='QID')"
   ]
  },
  {
   "cell_type": "code",
   "execution_count": 4,
   "id": "0f065cb8-b2cc-485f-b995-f7de3b3644dc",
   "metadata": {},
   "outputs": [
    {
     "data": {
      "text/html": [
       "<div>\n",
       "<style scoped>\n",
       "    .dataframe tbody tr th:only-of-type {\n",
       "        vertical-align: middle;\n",
       "    }\n",
       "\n",
       "    .dataframe tbody tr th {\n",
       "        vertical-align: top;\n",
       "    }\n",
       "\n",
       "    .dataframe thead th {\n",
       "        text-align: right;\n",
       "    }\n",
       "</style>\n",
       "<table border=\"1\" class=\"dataframe\">\n",
       "  <thead>\n",
       "    <tr style=\"text-align: right;\">\n",
       "      <th></th>\n",
       "      <th>aliases</th>\n",
       "      <th>date_of_birth</th>\n",
       "      <th>nationality</th>\n",
       "      <th>gender</th>\n",
       "      <th>lastrevid</th>\n",
       "      <th>ethnic_group</th>\n",
       "      <th>US_congress_bio_ID</th>\n",
       "      <th>occupation</th>\n",
       "      <th>party</th>\n",
       "      <th>academic_degree</th>\n",
       "      <th>id</th>\n",
       "      <th>label</th>\n",
       "      <th>candidacy</th>\n",
       "      <th>type</th>\n",
       "      <th>religion</th>\n",
       "    </tr>\n",
       "  </thead>\n",
       "  <tbody>\n",
       "    <tr>\n",
       "      <th>0</th>\n",
       "      <td>[Washington, President Washington, G. Washingt...</td>\n",
       "      <td>[+1732-02-22T00:00:00Z]</td>\n",
       "      <td>[Q161885, Q30]</td>\n",
       "      <td>[Q6581097]</td>\n",
       "      <td>1395141751</td>\n",
       "      <td>None</td>\n",
       "      <td>W000178</td>\n",
       "      <td>[Q82955, Q189290, Q131512, Q1734662, Q294126, ...</td>\n",
       "      <td>[Q327591]</td>\n",
       "      <td>None</td>\n",
       "      <td>Q23</td>\n",
       "      <td>George Washington</td>\n",
       "      <td>[Q698073, Q697949]</td>\n",
       "      <td>item</td>\n",
       "      <td>[Q682443]</td>\n",
       "    </tr>\n",
       "    <tr>\n",
       "      <th>1</th>\n",
       "      <td>[Douglas Noel Adams, Douglas Noël Adams, Dougl...</td>\n",
       "      <td>[+1952-03-11T00:00:00Z]</td>\n",
       "      <td>[Q145]</td>\n",
       "      <td>[Q6581097]</td>\n",
       "      <td>1395737157</td>\n",
       "      <td>[Q7994501]</td>\n",
       "      <td>None</td>\n",
       "      <td>[Q214917, Q28389, Q6625963, Q4853732, Q1884422...</td>\n",
       "      <td>None</td>\n",
       "      <td>None</td>\n",
       "      <td>Q42</td>\n",
       "      <td>Douglas Adams</td>\n",
       "      <td>None</td>\n",
       "      <td>item</td>\n",
       "      <td>None</td>\n",
       "    </tr>\n",
       "    <tr>\n",
       "      <th>2</th>\n",
       "      <td>[Paul Marie Ghislain Otlet, Paul Marie Otlet]</td>\n",
       "      <td>[+1868-08-23T00:00:00Z]</td>\n",
       "      <td>[Q31]</td>\n",
       "      <td>[Q6581097]</td>\n",
       "      <td>1380367296</td>\n",
       "      <td>None</td>\n",
       "      <td>None</td>\n",
       "      <td>[Q36180, Q40348, Q182436, Q1265807, Q205375, Q...</td>\n",
       "      <td>None</td>\n",
       "      <td>None</td>\n",
       "      <td>Q1868</td>\n",
       "      <td>Paul Otlet</td>\n",
       "      <td>None</td>\n",
       "      <td>item</td>\n",
       "      <td>None</td>\n",
       "    </tr>\n",
       "    <tr>\n",
       "      <th>3</th>\n",
       "      <td>[George Walker Bush, Bush Jr., Dubya, GWB, Bus...</td>\n",
       "      <td>[+1946-07-06T00:00:00Z]</td>\n",
       "      <td>[Q30]</td>\n",
       "      <td>[Q6581097]</td>\n",
       "      <td>1395142029</td>\n",
       "      <td>None</td>\n",
       "      <td>None</td>\n",
       "      <td>[Q82955, Q15982858, Q18814623, Q1028181, Q1408...</td>\n",
       "      <td>[Q29468]</td>\n",
       "      <td>None</td>\n",
       "      <td>Q207</td>\n",
       "      <td>George W. Bush</td>\n",
       "      <td>[Q327959, Q464075, Q3586276, Q4450587]</td>\n",
       "      <td>item</td>\n",
       "      <td>[Q329646, Q682443, Q33203]</td>\n",
       "    </tr>\n",
       "    <tr>\n",
       "      <th>4</th>\n",
       "      <td>[Velázquez, Diego Rodríguez de Silva y Velázqu...</td>\n",
       "      <td>[+1599-06-06T00:00:00Z]</td>\n",
       "      <td>[Q29]</td>\n",
       "      <td>[Q6581097]</td>\n",
       "      <td>1391704596</td>\n",
       "      <td>None</td>\n",
       "      <td>None</td>\n",
       "      <td>[Q1028181]</td>\n",
       "      <td>None</td>\n",
       "      <td>None</td>\n",
       "      <td>Q297</td>\n",
       "      <td>Diego Velázquez</td>\n",
       "      <td>None</td>\n",
       "      <td>item</td>\n",
       "      <td>None</td>\n",
       "    </tr>\n",
       "  </tbody>\n",
       "</table>\n",
       "</div>"
      ],
      "text/plain": [
       "                                             aliases            date_of_birth  \\\n",
       "0  [Washington, President Washington, G. Washingt...  [+1732-02-22T00:00:00Z]   \n",
       "1  [Douglas Noel Adams, Douglas Noël Adams, Dougl...  [+1952-03-11T00:00:00Z]   \n",
       "2      [Paul Marie Ghislain Otlet, Paul Marie Otlet]  [+1868-08-23T00:00:00Z]   \n",
       "3  [George Walker Bush, Bush Jr., Dubya, GWB, Bus...  [+1946-07-06T00:00:00Z]   \n",
       "4  [Velázquez, Diego Rodríguez de Silva y Velázqu...  [+1599-06-06T00:00:00Z]   \n",
       "\n",
       "      nationality      gender   lastrevid ethnic_group US_congress_bio_ID  \\\n",
       "0  [Q161885, Q30]  [Q6581097]  1395141751         None            W000178   \n",
       "1          [Q145]  [Q6581097]  1395737157   [Q7994501]               None   \n",
       "2           [Q31]  [Q6581097]  1380367296         None               None   \n",
       "3           [Q30]  [Q6581097]  1395142029         None               None   \n",
       "4           [Q29]  [Q6581097]  1391704596         None               None   \n",
       "\n",
       "                                          occupation      party  \\\n",
       "0  [Q82955, Q189290, Q131512, Q1734662, Q294126, ...  [Q327591]   \n",
       "1  [Q214917, Q28389, Q6625963, Q4853732, Q1884422...       None   \n",
       "2  [Q36180, Q40348, Q182436, Q1265807, Q205375, Q...       None   \n",
       "3  [Q82955, Q15982858, Q18814623, Q1028181, Q1408...   [Q29468]   \n",
       "4                                         [Q1028181]       None   \n",
       "\n",
       "  academic_degree     id              label  \\\n",
       "0            None    Q23  George Washington   \n",
       "1            None    Q42      Douglas Adams   \n",
       "2            None  Q1868         Paul Otlet   \n",
       "3            None   Q207     George W. Bush   \n",
       "4            None   Q297    Diego Velázquez   \n",
       "\n",
       "                                candidacy  type                    religion  \n",
       "0                      [Q698073, Q697949]  item                   [Q682443]  \n",
       "1                                    None  item                        None  \n",
       "2                                    None  item                        None  \n",
       "3  [Q327959, Q464075, Q3586276, Q4450587]  item  [Q329646, Q682443, Q33203]  \n",
       "4                                    None  item                        None  "
      ]
     },
     "execution_count": 4,
     "metadata": {},
     "output_type": "execute_result"
    }
   ],
   "source": [
    "wiki_data.head()"
   ]
  },
  {
   "cell_type": "markdown",
   "id": "5e305501-f44f-401f-94cb-d0b9c1f3de05",
   "metadata": {},
   "source": [
    "**Cleaning dataset**"
   ]
  },
  {
   "cell_type": "code",
   "execution_count": 5,
   "id": "bc824838-6385-41c9-8a52-c480979118a9",
   "metadata": {},
   "outputs": [],
   "source": [
    "# set a unique label_name for speakers with several versions of name\n",
    "# RESOLVES THE TRUMP PROBLEM\n",
    "def clean_name(df, name):\n",
    "    \n",
    "    df_copy = df.copy()\n",
    "    \n",
    "    df_name = df[df['speaker'].apply(lambda x: name in x)]\n",
    "    # get the qid of the speaker in wiki_data\n",
    "    wiki_qid = df_name['qids'].iloc[0][0]\n",
    "    # get the label of speaker\n",
    "    label_name = wiki_data[wiki_data['id'] == wiki_qid]['label'].iloc[0].lower()\n",
    "    #replace speaker with his label\n",
    "    df_copy = df.replace(df_name['speaker'].iloc[0], label_name)\n",
    "    \n",
    "    return df_copy"
   ]
  },
  {
   "cell_type": "code",
   "execution_count": 6,
   "id": "fe1a3211-0777-49b5-a0c9-a865bd8d15be",
   "metadata": {},
   "outputs": [],
   "source": [
    "def clean_df(df):\n",
    "    \"\"\"Cleans the dataset for speakers only for now\"\"\"\n",
    "    \n",
    "    # remove all the 'None' speakers\n",
    "    df = df[df['speaker'] != 'None']\n",
    "    # all names to lower case\n",
    "    df['speaker'] = df['speaker'].str.lower()\n",
    "    \n",
    "    #clean different Trump names\n",
    "    trump_names = df[df['speaker'].apply(lambda x: ('trump' in x) and ('president' in x) or x=='donald trump' or x=='donald j. trump')]['speaker'].unique()\n",
    "    for t in trump_names:\n",
    "        df = clean_name(df, t)\n",
    "        \n",
    "    # clean different Obama names\n",
    "    obama_names = df[df['speaker'].apply(lambda x: ('barack' in x) or ('president' in x and 'obama' in x))]['speaker'].unique()\n",
    "    for i in obama_names:\n",
    "        df = clean_name(df, i)\n",
    "    \n",
    "    \n",
    "    return df"
   ]
  },
  {
   "cell_type": "markdown",
   "id": "d3f6d7d2-3278-4cb8-93ea-322f0d722da0",
   "metadata": {},
   "source": [
    "We clean climate dataset 2018"
   ]
  },
  {
   "cell_type": "code",
   "execution_count": 8,
   "id": "7f92c91e-ff4d-4c14-8506-ff9d99f9652d",
   "metadata": {},
   "outputs": [],
   "source": [
    "climate_dfs['2018'] = clean_df(climate_dfs['2018'])"
   ]
  },
  {
   "cell_type": "markdown",
   "id": "29f932a6-a37e-4acc-9c91-3e0271e5ffa2",
   "metadata": {},
   "source": [
    "**Top 10 functions**"
   ]
  },
  {
   "cell_type": "code",
   "execution_count": 10,
   "id": "04871ffb-5a23-49a7-90c0-8468b3bea23a",
   "metadata": {},
   "outputs": [],
   "source": [
    "def top_speakers(df):\n",
    "    \"\"\"function to extract the top 10 speakers\"\"\"\n",
    "    \n",
    "    top_speakers = df.groupby('speaker')['speaker'].count().sort_values(ascending=False).to_frame().add_suffix('_count')\n",
    "    top_speakers.reset_index(drop=False, inplace=True)\n",
    "    \n",
    "    return top_speakers.head(10)\n",
    "\n",
    "\n",
    "def top_quotations(df):\n",
    "    \"\"\"function to extract the top 10 msot repeated quotations\"\"\"\n",
    "    \n",
    "    top_quotations = df.sort_values('numOccurrences', ascending=False)[['speaker', 'quotation', 'numOccurrences']]\n",
    "    # remove quotations of unidentified speakers\n",
    "    top_quotations.reset_index(drop=True, inplace=True)\n",
    "    \n",
    "    return top_quotations.head(10)"
   ]
  },
  {
   "cell_type": "code",
   "execution_count": 11,
   "id": "36c37321-4e1b-49dc-b09f-b9337f2748d4",
   "metadata": {},
   "outputs": [],
   "source": [
    "# quick visualization\n",
    "def visualize_top(x, y):\n",
    "    plt.figure(figsize=(16, 6))\n",
    "    #plt.bar(x, y, color=['orange', 'blue', 'green' , 'red', 'brown', 'yellow', 'pink', 'gray', 'lime', 'darkblue'])\n",
    "    sns.barplot(x=x,y=y)\n",
    "    plt.title(\"Most quoted speakers\")\n",
    "    "
   ]
  },
  {
   "cell_type": "code",
   "execution_count": 19,
   "id": "7e145737-6a37-420a-b8c5-b029a06a23f1",
   "metadata": {},
   "outputs": [
    {
     "data": {
      "image/png": "[encoded data removed]",
      "text/plain": [
       "<Figure size 1152x432 with 1 Axes>"
      ]
     },
     "metadata": {
      "needs_background": "light"
     },
     "output_type": "display_data"
    }
   ],
   "source": [
    "# show top speakers from 2017\n",
    "speakers_10 = top_speakers(climate_dfs['2018'])\n",
    "visualize_top(speakers_10.speaker, speakers_10.speaker_count)"
   ]
  },
  {
   "cell_type": "code",
   "execution_count": 13,
   "id": "dc3cd8bc-99a2-4957-9542-cb9fbd4849b4",
   "metadata": {},
   "outputs": [
    {
     "data": {
      "text/html": [
       "<div>\n",
       "<style scoped>\n",
       "    .dataframe tbody tr th:only-of-type {\n",
       "        vertical-align: middle;\n",
       "    }\n",
       "\n",
       "    .dataframe tbody tr th {\n",
       "        vertical-align: top;\n",
       "    }\n",
       "\n",
       "    .dataframe thead th {\n",
       "        text-align: right;\n",
       "    }\n",
       "</style>\n",
       "<table border=\"1\" class=\"dataframe\">\n",
       "  <thead>\n",
       "    <tr style=\"text-align: right;\">\n",
       "      <th></th>\n",
       "      <th>speaker</th>\n",
       "      <th>quotation</th>\n",
       "      <th>numOccurrences</th>\n",
       "    </tr>\n",
       "  </thead>\n",
       "  <tbody>\n",
       "    <tr>\n",
       "      <th>0</th>\n",
       "      <td>valeri liukin</td>\n",
       "      <td>the present climate causes me, and more import...</td>\n",
       "      <td>578</td>\n",
       "    </tr>\n",
       "    <tr>\n",
       "      <th>1</th>\n",
       "      <td>greta thunberg</td>\n",
       "      <td>School strike for the Climate.</td>\n",
       "      <td>425</td>\n",
       "    </tr>\n",
       "    <tr>\n",
       "      <th>2</th>\n",
       "      <td>greta thunberg</td>\n",
       "      <td>School Strike For Climate,</td>\n",
       "      <td>302</td>\n",
       "    </tr>\n",
       "    <tr>\n",
       "      <th>3</th>\n",
       "      <td>antonio guterres</td>\n",
       "      <td>Even as we witness devastating climate impacts...</td>\n",
       "      <td>296</td>\n",
       "    </tr>\n",
       "    <tr>\n",
       "      <th>4</th>\n",
       "      <td>jim steele</td>\n",
       "      <td>What's happened with the more warming climate ...</td>\n",
       "      <td>288</td>\n",
       "    </tr>\n",
       "    <tr>\n",
       "      <th>5</th>\n",
       "      <td>donald trump</td>\n",
       "      <td>There is a cooling, and there's a heating. I m...</td>\n",
       "      <td>287</td>\n",
       "    </tr>\n",
       "    <tr>\n",
       "      <th>6</th>\n",
       "      <td>donald trump</td>\n",
       "      <td>I'm not denying climate change,</td>\n",
       "      <td>285</td>\n",
       "    </tr>\n",
       "    <tr>\n",
       "      <th>7</th>\n",
       "      <td>kim jong un</td>\n",
       "      <td>warm climate of reconciliation and dialogue,</td>\n",
       "      <td>283</td>\n",
       "    </tr>\n",
       "    <tr>\n",
       "      <th>8</th>\n",
       "      <td>dave robertson</td>\n",
       "      <td>I would say that the obvious inability in the ...</td>\n",
       "      <td>278</td>\n",
       "    </tr>\n",
       "    <tr>\n",
       "      <th>9</th>\n",
       "      <td>katharine hayhoe</td>\n",
       "      <td>As a climate scientist, it is almost surreal.</td>\n",
       "      <td>256</td>\n",
       "    </tr>\n",
       "  </tbody>\n",
       "</table>\n",
       "</div>"
      ],
      "text/plain": [
       "            speaker                                          quotation  \\\n",
       "0     valeri liukin  the present climate causes me, and more import...   \n",
       "1    greta thunberg                     School strike for the Climate.   \n",
       "2    greta thunberg                         School Strike For Climate,   \n",
       "3  antonio guterres  Even as we witness devastating climate impacts...   \n",
       "4        jim steele  What's happened with the more warming climate ...   \n",
       "5      donald trump  There is a cooling, and there's a heating. I m...   \n",
       "6      donald trump                    I'm not denying climate change,   \n",
       "7       kim jong un       warm climate of reconciliation and dialogue,   \n",
       "8    dave robertson  I would say that the obvious inability in the ...   \n",
       "9  katharine hayhoe      As a climate scientist, it is almost surreal.   \n",
       "\n",
       "   numOccurrences  \n",
       "0             578  \n",
       "1             425  \n",
       "2             302  \n",
       "3             296  \n",
       "4             288  \n",
       "5             287  \n",
       "6             285  \n",
       "7             283  \n",
       "8             278  \n",
       "9             256  "
      ]
     },
     "execution_count": 13,
     "metadata": {},
     "output_type": "execute_result"
    }
   ],
   "source": [
    "# show top quotations from 2015\n",
    "top_quotations(climate_dfs['2018'])"
   ]
  },
  {
   "cell_type": "code",
   "execution_count": 14,
   "id": "15b0e9f5-b00f-4f6b-a91e-9b0569406096",
   "metadata": {},
   "outputs": [],
   "source": [
    "from tld import get_tld\n",
    "\n",
    "def get_domain(url):\n",
    "    res = get_tld(url, as_object=True)\n",
    "    return res.domain\n",
    "\n",
    "# function extracting the top 10 newspapers mentioning climate \n",
    "def top_newspapers(df):\n",
    "    top_newspapers = pd.Series([x for _list in df['urls'] for x in _list]).apply(lambda u: get_domain(u)).value_counts()\n",
    "    top_newspapers = top_newspapers.to_frame().reset_index(drop=False)\n",
    "    top_newspapers.columns = ['newspaper', 'count']\n",
    "    \n",
    "    return top_newspapers.head(10)\n"
   ]
  },
  {
   "cell_type": "markdown",
   "id": "a9b59885-005b-4d52-80fd-325fe0284b64",
   "metadata": {},
   "source": [
    "**Extracting gender**"
   ]
  },
  {
   "cell_type": "code",
   "execution_count": 54,
   "id": "0718050d-aef7-4409-b23d-9dd84fe9bbbf",
   "metadata": {},
   "outputs": [],
   "source": [
    "# get the gender of the speaker\n",
    "# ids: the list of qids of the speaker \n",
    "def get_gender(ids):\n",
    "    \n",
    "    if not ids:\n",
    "        gender = None\n",
    "    else:\n",
    "        qid = wiki_data[wiki_data['id'] == ids[0]]['gender'].iloc[0][0]\n",
    "        gender = wiki_labels.loc[qid]['Label']\n",
    "    \n",
    "    return gender\n",
    "\n",
    "# get the list of qids for a speaker from df\n",
    "def get_qids(df, name):\n",
    "    qids = df[df.speaker == name].iloc[0].qids\n",
    "    \n",
    "    return qids"
   ]
  },
  {
   "cell_type": "markdown",
   "id": "ea5e8bec-329a-49bf-9922-69d6be58def9",
   "metadata": {},
   "source": [
    "Lets see the proportion of men and women in top 10 speakers"
   ]
  },
  {
   "cell_type": "code",
   "execution_count": 55,
   "id": "e563ce65-68f3-4dc8-9c40-db625ff7631c",
   "metadata": {},
   "outputs": [],
   "source": [
    "# add the gender column for top speakers je ferai aussi un commit\n",
    "speakers_10['gender'] = speakers_10['speaker'].apply(lambda s: get_qids(climate_dfs['2018'],s)).apply(lambda q: get_gender(q))"
   ]
  },
  {
   "cell_type": "code",
   "execution_count": 56,
   "id": "3b8ab7dd-7621-4eb5-8075-bf29ebacbfbf",
   "metadata": {},
   "outputs": [
    {
     "data": {
      "text/plain": [
       "<AxesSubplot:xlabel='gender', ylabel='Count'>"
      ]
     },
     "execution_count": 56,
     "metadata": {},
     "output_type": "execute_result"
    },
    {
     "data": {
      "image/png": "[encoded data removed]",
      "text/plain": [
       "<Figure size 432x288 with 1 Axes>"
      ]
     },
     "metadata": {
      "needs_background": "light"
     },
     "output_type": "display_data"
    }
   ],
   "source": [
    "sns.histplot(speakers_10.gender)"
   ]
  },
  {
   "cell_type": "code",
   "execution_count": 57,
   "id": "a34ddc75-ff1a-4d0c-bc62-22e95089ed35",
   "metadata": {},
   "outputs": [
    {
     "data": {
      "text/plain": [
       "([<matplotlib.patches.Wedge at 0x7f2716d929a0>,\n",
       "  <matplotlib.patches.Wedge at 0x7f2716d8d8b0>],\n",
       " [Text(-0.8899187180267095, 0.6465637441936395, 'men'),\n",
       "  Text(0.8899187482945414, -0.6465637025335375, 'women')])"
      ]
     },
     "execution_count": 57,
     "metadata": {},
     "output_type": "execute_result"
    },
    {
     "data": {
      "image/png": "[encoded data removed]",
      "text/plain": [
       "<Figure size 432x288 with 1 Axes>"
      ]
     },
     "metadata": {},
     "output_type": "display_data"
    }
   ],
   "source": [
    "nb_men = speakers_10[speakers_10.gender == 'male'].speaker.count()\n",
    "nb_women = 10 - nb_men\n",
    "\n",
    "plt.pie([nb_men, nb_women], labels=['men', 'women'])"
   ]
  },
  {
   "cell_type": "code",
   "execution_count": null,
   "id": "9e14f068-c4b7-4165-9398-d4a21ec2cf00",
   "metadata": {},
   "outputs": [],
   "source": []
  },
  {
   "cell_type": "code",
   "execution_count": null,
   "id": "4739d36f-0ca4-4a65-8e69-0dd1bd5625b6",
   "metadata": {},
   "outputs": [],
   "source": []
  }
 ],
 "metadata": {
  "kernelspec": {
   "display_name": "Python 3 (ipykernel)",
   "language": "python",
   "name": "python3"
  },
  "language_info": {
   "codemirror_mode": {
    "name": "ipython",
    "version": 3
   },
   "file_extension": ".py",
   "mimetype": "text/x-python",
   "name": "python",
   "nbconvert_exporter": "python",
   "pygments_lexer": "ipython3",
   "version": "3.8.12"
  }
 },
 "nbformat": 4,
 "nbformat_minor": 5
}
