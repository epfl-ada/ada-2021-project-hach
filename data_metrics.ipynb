{
 "cells": [
  {
   "cell_type": "code",
   "execution_count": 1,
   "id": "7a2489df-29f1-45ec-8d20-a52516bbe3b5",
   "metadata": {},
   "outputs": [],
   "source": [
    "# imports\n",
    "import numpy as np\n",
    "import pandas as pd\n",
    "from os import path\n",
    "from PIL import Image\n",
    "from datetime import datetime\n",
    "#from wordcloud import WordCloud, STOPWORDS, ImageColorGenerator\n",
    "\n",
    "import matplotlib.pyplot as plt\n",
    "import seaborn as sns\n",
    "%matplotlib inline"
   ]
  },
  {
   "cell_type": "markdown",
   "id": "5858f4ad-1fae-44bc-931f-3519563978c9",
   "metadata": {},
   "source": [
    "Load all the datasets and extract the climate quotes for each year into a separate pickle file"
   ]
  },
  {
   "cell_type": "code",
   "execution_count": null,
   "id": "25a3de7d-957b-4331-949a-fad547180ddb",
   "metadata": {},
   "outputs": [
    {
     "name": "stdout",
     "output_type": "stream",
     "text": [
      "2015\n",
      "Chunks for year 2015 done\n",
      "Pickle done\n",
      "2016\n",
      "Chunks for year 2016 done\n",
      "Pickle done\n",
      "2017\n"
     ]
    }
   ],
   "source": [
    "# RUN ONLY ONCE\n",
    "# iteratively extract climate quotation datasets for each year\n",
    "\n",
    "for year in range(2015, 2021):\n",
    "    print(year)\n",
    "    df_reader = pd.read_json('data/quotebank/quotes-{}.json.bz2'.format(year), lines=True, compression='bz2', chunksize=10000)\n",
    "\n",
    "    climate_quotes = []\n",
    "    for chunk in df_reader:\n",
    "        df = chunk[chunk.quotation.str.contains('climate', case=False, na=False)]\n",
    "        climate_quotes.append(df)\n",
    "    print('Chunks for year {} done'.format(year))\n",
    "    climate_df = pd.concat(climate_quotes)\n",
    "    # pickle pickle pickle\n",
    "    climate_df.to_pickle('data/climate_df_{}.pkl'.format(year))\n",
    "    print('Pickle done')"
   ]
  },
  {
   "cell_type": "markdown",
   "id": "736d2ed8-27e4-48de-a743-03a09756bd69",
   "metadata": {},
   "source": [
    "**Loading the climate dataframes pickles for each year into a dictionary**"
   ]
  },
  {
   "cell_type": "code",
   "execution_count": 2,
   "id": "125e3063-46d4-45b9-b983-0995bb20ac9d",
   "metadata": {},
   "outputs": [],
   "source": [
    "climate_dfs = {}\n",
    "for i in range(2015, 2021):\n",
    "    climate_dfs[i] = pd.read_pickle('data/climate_df_{}.pkl'.format(i))"
   ]
  },
  {
   "cell_type": "code",
   "execution_count": 3,
   "id": "4be1a34b-004e-4845-92fd-4a006ed860d4",
   "metadata": {},
   "outputs": [],
   "source": [
    "# full climate df\n",
    "full_climate_df = pd.DataFrame(columns = climate_dfs[2015].columns)\n",
    "for y in range(2015, 2021):\n",
    "    full_climate_df = full_climate_df.append(climate_dfs[y])"
   ]
  },
  {
   "cell_type": "markdown",
   "id": "37775824-66bd-4f9e-a2e5-1ab326119167",
   "metadata": {},
   "source": [
    "### Wiki data"
   ]
  },
  {
   "cell_type": "code",
   "execution_count": 4,
   "id": "02f0e595-e55e-4e3f-a1af-f5e0093ecde4",
   "metadata": {},
   "outputs": [],
   "source": [
    "# load wiki data\n",
    "#wiki_data = pd.read_parquet('parquet-data/speaker_attributes.parquet')\n",
    "\n",
    "# load the labels for wiki data\n",
    "wiki_labels = pd.read_csv('data/wikidata_labels_descriptions_quotebank.csv.bz2', compression='bz2', index_col='QID')"
   ]
  },
  {
   "cell_type": "code",
   "execution_count": 5,
   "id": "21c61ac3-98f8-441d-bdf1-1f91b9a09a1b",
   "metadata": {},
   "outputs": [
    {
     "data": {
      "text/html": [
       "<div>\n",
       "<style scoped>\n",
       "    .dataframe tbody tr th:only-of-type {\n",
       "        vertical-align: middle;\n",
       "    }\n",
       "\n",
       "    .dataframe tbody tr th {\n",
       "        vertical-align: top;\n",
       "    }\n",
       "\n",
       "    .dataframe thead th {\n",
       "        text-align: right;\n",
       "    }\n",
       "</style>\n",
       "<table border=\"1\" class=\"dataframe\">\n",
       "  <thead>\n",
       "    <tr style=\"text-align: right;\">\n",
       "      <th></th>\n",
       "      <th>Label</th>\n",
       "      <th>Description</th>\n",
       "    </tr>\n",
       "    <tr>\n",
       "      <th>QID</th>\n",
       "      <th></th>\n",
       "      <th></th>\n",
       "    </tr>\n",
       "  </thead>\n",
       "  <tbody>\n",
       "    <tr>\n",
       "      <th>Q31</th>\n",
       "      <td>Belgium</td>\n",
       "      <td>country in western Europe</td>\n",
       "    </tr>\n",
       "    <tr>\n",
       "      <th>Q45</th>\n",
       "      <td>Portugal</td>\n",
       "      <td>country in southwestern Europe</td>\n",
       "    </tr>\n",
       "    <tr>\n",
       "      <th>Q75</th>\n",
       "      <td>Internet</td>\n",
       "      <td>global system of connected computer networks</td>\n",
       "    </tr>\n",
       "    <tr>\n",
       "      <th>Q148</th>\n",
       "      <td>People's Republic of China</td>\n",
       "      <td>sovereign state in East Asia</td>\n",
       "    </tr>\n",
       "    <tr>\n",
       "      <th>Q155</th>\n",
       "      <td>Brazil</td>\n",
       "      <td>country in South America</td>\n",
       "    </tr>\n",
       "    <tr>\n",
       "      <th>...</th>\n",
       "      <td>...</td>\n",
       "      <td>...</td>\n",
       "    </tr>\n",
       "    <tr>\n",
       "      <th>Q106302506</th>\n",
       "      <td>didgeridooist</td>\n",
       "      <td>musician who plays the didgeridoo</td>\n",
       "    </tr>\n",
       "    <tr>\n",
       "      <th>Q106341153</th>\n",
       "      <td>biochemistry teacher</td>\n",
       "      <td>teacher of biochemistry at any level</td>\n",
       "    </tr>\n",
       "    <tr>\n",
       "      <th>Q106368830</th>\n",
       "      <td>2018 Wigan Metropolitan Borough Council electi...</td>\n",
       "      <td>NaN</td>\n",
       "    </tr>\n",
       "    <tr>\n",
       "      <th>Q106369692</th>\n",
       "      <td>2018 Wigan Metropolitan Borough Council electi...</td>\n",
       "      <td>NaN</td>\n",
       "    </tr>\n",
       "    <tr>\n",
       "      <th>Q106376887</th>\n",
       "      <td>NaN</td>\n",
       "      <td>NaN</td>\n",
       "    </tr>\n",
       "  </tbody>\n",
       "</table>\n",
       "<p>36969 rows × 2 columns</p>\n",
       "</div>"
      ],
      "text/plain": [
       "                                                        Label  \\\n",
       "QID                                                             \n",
       "Q31                                                   Belgium   \n",
       "Q45                                                  Portugal   \n",
       "Q75                                                  Internet   \n",
       "Q148                               People's Republic of China   \n",
       "Q155                                                   Brazil   \n",
       "...                                                       ...   \n",
       "Q106302506                                      didgeridooist   \n",
       "Q106341153                               biochemistry teacher   \n",
       "Q106368830  2018 Wigan Metropolitan Borough Council electi...   \n",
       "Q106369692  2018 Wigan Metropolitan Borough Council electi...   \n",
       "Q106376887                                                NaN   \n",
       "\n",
       "                                             Description  \n",
       "QID                                                       \n",
       "Q31                            country in western Europe  \n",
       "Q45                       country in southwestern Europe  \n",
       "Q75         global system of connected computer networks  \n",
       "Q148                        sovereign state in East Asia  \n",
       "Q155                            country in South America  \n",
       "...                                                  ...  \n",
       "Q106302506             musician who plays the didgeridoo  \n",
       "Q106341153          teacher of biochemistry at any level  \n",
       "Q106368830                                           NaN  \n",
       "Q106369692                                           NaN  \n",
       "Q106376887                                           NaN  \n",
       "\n",
       "[36969 rows x 2 columns]"
      ]
     },
     "execution_count": 5,
     "metadata": {},
     "output_type": "execute_result"
    }
   ],
   "source": [
    "wiki_labels"
   ]
  },
  {
   "cell_type": "markdown",
   "id": "5e305501-f44f-401f-94cb-d0b9c1f3de05",
   "metadata": {},
   "source": [
    "**Cleaning dataset**"
   ]
  },
  {
   "cell_type": "code",
   "execution_count": 6,
   "id": "bc824838-6385-41c9-8a52-c480979118a9",
   "metadata": {},
   "outputs": [],
   "source": [
    "# RESOLVES THE TRUMP PROBLEM\n",
    "def clean_name(df, name):\n",
    "    \"\"\"Set a unique label_name for speakers with several versions of name\"\"\"\n",
    "    \n",
    "    df_copy = df.copy()\n",
    "    \n",
    "    df_name = df[df['speaker'].apply(lambda x: name in x)]\n",
    "    # get the qid of the speaker in wiki_data\n",
    "    wiki_qid = df_name['qids'].iloc[0][0]\n",
    "    # get the label of speaker\n",
    "    label_name = wiki_data[wiki_data['id'] == wiki_qid]['label'].iloc[0].lower()\n",
    "    #replace speaker with his label\n",
    "    df_copy = df.replace(df_name['speaker'].iloc[0], label_name)\n",
    "    \n",
    "    return df_copy"
   ]
  },
  {
   "cell_type": "code",
   "execution_count": 7,
   "id": "d2e9c93d-1920-4442-ad19-bd48c1dd7674",
   "metadata": {},
   "outputs": [],
   "source": [
    "def replace_name(q, qids_to_name={}):\n",
    "    if 0 < len(q.qids):\n",
    "        if q.qids[0] not in qids_to_name:\n",
    "            qids_to_name[q.qids[0]] = q.speaker\n",
    "        else:\n",
    "            q.speaker = qids_to_name[q.qids[0]]\n",
    "    return q"
   ]
  },
  {
   "cell_type": "code",
   "execution_count": 8,
   "id": "fe1a3211-0777-49b5-a0c9-a865bd8d15be",
   "metadata": {},
   "outputs": [],
   "source": [
    "def clean_df(df):\n",
    "    \"\"\"Cleans the dataset for speakers only for now\"\"\"\n",
    "    \n",
    "    # remove all the 'None' speakers\n",
    "    df = df[df['speaker'] != 'None']\n",
    "    \n",
    "    df = df.apply(replace_name, axis=1)\n",
    "    # all names to lower case\n",
    "    #df['speaker'] = df['speaker'].str.lower()\n",
    "    \n",
    "    #clean different Trump names\n",
    "   # trump_names = df[df['speaker'].apply(lambda x: ('trump' in x) and ('president' in x) or x=='donald trump' or x=='donald j. trump')]['speaker'].unique()\n",
    "    #for t in trump_names:\n",
    "     #   df = clean_name(df, t)\n",
    "        \n",
    "    # clean different Obama names\n",
    "    #obama_names = df[df['speaker'].apply(lambda x: ('barack' in x) or ('president' in x and 'obama' in x))]['speaker'].unique()\n",
    "    #for i in obama_names:\n",
    "     #   df = clean_name(df, i)\n",
    "    \n",
    "    \n",
    "    return df"
   ]
  },
  {
   "cell_type": "code",
   "execution_count": 9,
   "id": "4d1f6d2f-63ce-4e43-b217-328ce001d020",
   "metadata": {
    "tags": []
   },
   "outputs": [],
   "source": [
    "full_climate_df = clean_df(full_climate_df)"
   ]
  },
  {
   "cell_type": "code",
   "execution_count": 10,
   "id": "848fbf19-fb45-40c8-b4ba-8cf3f55a1696",
   "metadata": {},
   "outputs": [
    {
     "data": {
      "text/plain": [
       "(46792,)"
      ]
     },
     "execution_count": 10,
     "metadata": {},
     "output_type": "execute_result"
    }
   ],
   "source": [
    "full_climate_df.qids.apply(lambda x: x[0]).unique().shape"
   ]
  },
  {
   "cell_type": "code",
   "execution_count": 87,
   "id": "6e709c7e-d646-42c0-9cc1-65a0b258773c",
   "metadata": {},
   "outputs": [
    {
     "ename": "NameError",
     "evalue": "name 'wiki_data' is not defined",
     "output_type": "error",
     "traceback": [
      "\u001b[0;31m---------------------------------------------------------------------------\u001b[0m",
      "\u001b[0;31mNameError\u001b[0m                                 Traceback (most recent call last)",
      "\u001b[0;32m/tmp/ipykernel_14569/3309939549.py\u001b[0m in \u001b[0;36m<module>\u001b[0;34m\u001b[0m\n\u001b[0;32m----> 1\u001b[0;31m \u001b[0mwiki_speakers\u001b[0m \u001b[0;34m=\u001b[0m \u001b[0mpd\u001b[0m\u001b[0;34m.\u001b[0m\u001b[0mDataFrame\u001b[0m\u001b[0;34m(\u001b[0m\u001b[0mcolumns\u001b[0m\u001b[0;34m=\u001b[0m\u001b[0mwiki_data\u001b[0m\u001b[0;34m.\u001b[0m\u001b[0mcolumns\u001b[0m\u001b[0;34m)\u001b[0m\u001b[0;34m\u001b[0m\u001b[0;34m\u001b[0m\u001b[0m\n\u001b[0m\u001b[1;32m      2\u001b[0m \u001b[0mspeakers_ids\u001b[0m \u001b[0;34m=\u001b[0m \u001b[0mfull_climate_df\u001b[0m\u001b[0;34m.\u001b[0m\u001b[0mqids\u001b[0m\u001b[0;34m.\u001b[0m\u001b[0mapply\u001b[0m\u001b[0;34m(\u001b[0m\u001b[0;32mlambda\u001b[0m \u001b[0mx\u001b[0m\u001b[0;34m:\u001b[0m \u001b[0mx\u001b[0m\u001b[0;34m[\u001b[0m\u001b[0;36m0\u001b[0m\u001b[0;34m]\u001b[0m\u001b[0;34m)\u001b[0m\u001b[0;34m.\u001b[0m\u001b[0munique\u001b[0m\u001b[0;34m(\u001b[0m\u001b[0;34m)\u001b[0m\u001b[0;34m.\u001b[0m\u001b[0mtolist\u001b[0m\u001b[0;34m(\u001b[0m\u001b[0;34m)\u001b[0m\u001b[0;34m\u001b[0m\u001b[0;34m\u001b[0m\u001b[0m\n\u001b[1;32m      3\u001b[0m \u001b[0;34m\u001b[0m\u001b[0m\n\u001b[1;32m      4\u001b[0m \u001b[0mwiki_data\u001b[0m \u001b[0;34m=\u001b[0m \u001b[0mwiki_data\u001b[0m\u001b[0;34m.\u001b[0m\u001b[0mset_index\u001b[0m\u001b[0;34m(\u001b[0m\u001b[0mwiki_data\u001b[0m\u001b[0;34m.\u001b[0m\u001b[0mid\u001b[0m\u001b[0;34m)\u001b[0m\u001b[0;34m\u001b[0m\u001b[0;34m\u001b[0m\u001b[0m\n",
      "\u001b[0;31mNameError\u001b[0m: name 'wiki_data' is not defined"
     ]
    }
   ],
   "source": [
    "wiki_speakers = pd.DataFrame(columns=wiki_data.columns)\n",
    "speakers_ids = full_climate_df.qids.apply(lambda x: x[0]).unique().tolist()\n",
    "\n",
    "wiki_data = wiki_data.set_index(wiki_data.id)\n"
   ]
  },
  {
   "cell_type": "code",
   "execution_count": 52,
   "id": "3efafc6c-646e-401f-a0e6-d172d3e6c1a3",
   "metadata": {},
   "outputs": [
    {
     "name": "stderr",
     "output_type": "stream",
     "text": [
      "100%|██████████| 46792/46792 [09:12<00:00, 84.76it/s] "
     ]
    },
    {
     "name": "stdout",
     "output_type": "stream",
     "text": [
      "CPU times: user 9min 11s, sys: 2.05 s, total: 9min 13s\n",
      "Wall time: 9min 12s\n"
     ]
    },
    {
     "name": "stderr",
     "output_type": "stream",
     "text": [
      "\n"
     ]
    }
   ],
   "source": [
    "# DO ONCE\n",
    "%%time\n",
    "from tqdm import tqdm\n",
    "\n",
    "for i in tqdm(speakers_ids):\n",
    "    if i in wiki_data.index:\n",
    "        wiki_speakers = wiki_speakers.append(wiki_data.loc[i])"
   ]
  },
  {
   "cell_type": "code",
   "execution_count": 53,
   "id": "628a84c8-e823-4162-bd11-639cfa3abe82",
   "metadata": {},
   "outputs": [],
   "source": [
    "#DO ONCE\n",
    "# pickle pickle pickle\n",
    "wiki_speakers.to_pickle('data/wiki_speakers.pkl')"
   ]
  },
  {
   "cell_type": "markdown",
   "id": "55984c3e-5c5e-4ed2-a930-e2b93a8b3cc2",
   "metadata": {},
   "source": [
    "Load the wiki speakers pickle"
   ]
  },
  {
   "cell_type": "code",
   "execution_count": 9,
   "id": "0143346f-4ab2-451b-af98-2e8fd7a88f0b",
   "metadata": {
    "tags": []
   },
   "outputs": [],
   "source": [
    "wiki_speakers = pd.read_pickle('data/wiki_speakers.pkl')"
   ]
  },
  {
   "cell_type": "code",
   "execution_count": 24,
   "id": "d2160a69-5891-422b-9146-59c99ae83caa",
   "metadata": {},
   "outputs": [
    {
     "data": {
      "text/html": [
       "<div>\n",
       "<style scoped>\n",
       "    .dataframe tbody tr th:only-of-type {\n",
       "        vertical-align: middle;\n",
       "    }\n",
       "\n",
       "    .dataframe tbody tr th {\n",
       "        vertical-align: top;\n",
       "    }\n",
       "\n",
       "    .dataframe thead th {\n",
       "        text-align: right;\n",
       "    }\n",
       "</style>\n",
       "<table border=\"1\" class=\"dataframe\">\n",
       "  <thead>\n",
       "    <tr style=\"text-align: right;\">\n",
       "      <th></th>\n",
       "      <th>aliases</th>\n",
       "      <th>date_of_birth</th>\n",
       "      <th>nationality</th>\n",
       "      <th>gender</th>\n",
       "      <th>lastrevid</th>\n",
       "      <th>ethnic_group</th>\n",
       "      <th>US_congress_bio_ID</th>\n",
       "      <th>occupation</th>\n",
       "      <th>party</th>\n",
       "      <th>academic_degree</th>\n",
       "      <th>id</th>\n",
       "      <th>label</th>\n",
       "      <th>candidacy</th>\n",
       "      <th>type</th>\n",
       "      <th>religion</th>\n",
       "    </tr>\n",
       "  </thead>\n",
       "  <tbody>\n",
       "    <tr>\n",
       "      <th>Q23762578</th>\n",
       "      <td>None</td>\n",
       "      <td>[+1947-12-20T00:00:00Z]</td>\n",
       "      <td>[Q902, Q843]</td>\n",
       "      <td>[Q6581097]</td>\n",
       "      <td>1319692653</td>\n",
       "      <td>None</td>\n",
       "      <td>None</td>\n",
       "      <td>[Q82955]</td>\n",
       "      <td>[Q1361491]</td>\n",
       "      <td>None</td>\n",
       "      <td>Q23762578</td>\n",
       "      <td>Anisul Islam Mahmud</td>\n",
       "      <td>None</td>\n",
       "      <td>item</td>\n",
       "      <td>[Q432]</td>\n",
       "    </tr>\n",
       "    <tr>\n",
       "      <th>Q18199405</th>\n",
       "      <td>None</td>\n",
       "      <td>[+1963-08-13T00:00:00Z]</td>\n",
       "      <td>[Q34]</td>\n",
       "      <td>[Q6581097]</td>\n",
       "      <td>1280534852</td>\n",
       "      <td>None</td>\n",
       "      <td>None</td>\n",
       "      <td>[Q1281618]</td>\n",
       "      <td>None</td>\n",
       "      <td>None</td>\n",
       "      <td>Q18199405</td>\n",
       "      <td>Anders Jansson</td>\n",
       "      <td>None</td>\n",
       "      <td>item</td>\n",
       "      <td>None</td>\n",
       "    </tr>\n",
       "    <tr>\n",
       "      <th>Q5415483</th>\n",
       "      <td>None</td>\n",
       "      <td>[+1981-11-01T00:00:00Z]</td>\n",
       "      <td>[Q30]</td>\n",
       "      <td>[Q6581097]</td>\n",
       "      <td>1378227353</td>\n",
       "      <td>None</td>\n",
       "      <td>None</td>\n",
       "      <td>[Q19204627, Q15295720]</td>\n",
       "      <td>None</td>\n",
       "      <td>None</td>\n",
       "      <td>Q5415483</td>\n",
       "      <td>Evan Mathis</td>\n",
       "      <td>None</td>\n",
       "      <td>item</td>\n",
       "      <td>None</td>\n",
       "    </tr>\n",
       "    <tr>\n",
       "      <th>Q4911497</th>\n",
       "      <td>[Warren Wilhelm, Jr., Bill deBlasio, Warren Wi...</td>\n",
       "      <td>[+1961-05-08T00:00:00Z]</td>\n",
       "      <td>[Q30]</td>\n",
       "      <td>[Q6581097]</td>\n",
       "      <td>1393528151</td>\n",
       "      <td>None</td>\n",
       "      <td>None</td>\n",
       "      <td>[Q82955, Q40348]</td>\n",
       "      <td>[Q29552]</td>\n",
       "      <td>None</td>\n",
       "      <td>Q4911497</td>\n",
       "      <td>Bill de Blasio</td>\n",
       "      <td>None</td>\n",
       "      <td>item</td>\n",
       "      <td>None</td>\n",
       "    </tr>\n",
       "    <tr>\n",
       "      <th>Q3061333</th>\n",
       "      <td>[Evan Lee Scribner]</td>\n",
       "      <td>[+1985-07-19T00:00:00Z]</td>\n",
       "      <td>[Q30]</td>\n",
       "      <td>[Q6581097]</td>\n",
       "      <td>1377322587</td>\n",
       "      <td>None</td>\n",
       "      <td>None</td>\n",
       "      <td>[Q10871364]</td>\n",
       "      <td>None</td>\n",
       "      <td>None</td>\n",
       "      <td>Q3061333</td>\n",
       "      <td>Evan Scribner</td>\n",
       "      <td>None</td>\n",
       "      <td>item</td>\n",
       "      <td>None</td>\n",
       "    </tr>\n",
       "    <tr>\n",
       "      <th>...</th>\n",
       "      <td>...</td>\n",
       "      <td>...</td>\n",
       "      <td>...</td>\n",
       "      <td>...</td>\n",
       "      <td>...</td>\n",
       "      <td>...</td>\n",
       "      <td>...</td>\n",
       "      <td>...</td>\n",
       "      <td>...</td>\n",
       "      <td>...</td>\n",
       "      <td>...</td>\n",
       "      <td>...</td>\n",
       "      <td>...</td>\n",
       "      <td>...</td>\n",
       "      <td>...</td>\n",
       "    </tr>\n",
       "    <tr>\n",
       "      <th>Q19271892</th>\n",
       "      <td>None</td>\n",
       "      <td>[+1959-00-00T00:00:00Z]</td>\n",
       "      <td>[Q145]</td>\n",
       "      <td>[Q6581097]</td>\n",
       "      <td>1392939803</td>\n",
       "      <td>None</td>\n",
       "      <td>None</td>\n",
       "      <td>[Q43845]</td>\n",
       "      <td>None</td>\n",
       "      <td>None</td>\n",
       "      <td>Q19271892</td>\n",
       "      <td>Chris Banks</td>\n",
       "      <td>None</td>\n",
       "      <td>item</td>\n",
       "      <td>None</td>\n",
       "    </tr>\n",
       "    <tr>\n",
       "      <th>Q15815037</th>\n",
       "      <td>None</td>\n",
       "      <td>[+1964-09-08T00:00:00Z]</td>\n",
       "      <td>[Q225, Q36704]</td>\n",
       "      <td>[Q6581072]</td>\n",
       "      <td>1375826663</td>\n",
       "      <td>None</td>\n",
       "      <td>None</td>\n",
       "      <td>[Q1476215]</td>\n",
       "      <td>None</td>\n",
       "      <td>None</td>\n",
       "      <td>Q15815037</td>\n",
       "      <td>Dunja Mijatović</td>\n",
       "      <td>None</td>\n",
       "      <td>item</td>\n",
       "      <td>None</td>\n",
       "    </tr>\n",
       "    <tr>\n",
       "      <th>Q43911177</th>\n",
       "      <td>None</td>\n",
       "      <td>None</td>\n",
       "      <td>None</td>\n",
       "      <td>[Q6581097]</td>\n",
       "      <td>985959416</td>\n",
       "      <td>None</td>\n",
       "      <td>None</td>\n",
       "      <td>[Q5131856]</td>\n",
       "      <td>None</td>\n",
       "      <td>None</td>\n",
       "      <td>Q43911177</td>\n",
       "      <td>James Meldrum</td>\n",
       "      <td>None</td>\n",
       "      <td>item</td>\n",
       "      <td>None</td>\n",
       "    </tr>\n",
       "    <tr>\n",
       "      <th>Q5087105</th>\n",
       "      <td>None</td>\n",
       "      <td>[+1954-11-22T00:00:00Z]</td>\n",
       "      <td>[Q30]</td>\n",
       "      <td>[Q6581097]</td>\n",
       "      <td>1315183141</td>\n",
       "      <td>None</td>\n",
       "      <td>None</td>\n",
       "      <td>[Q43845, Q3282637]</td>\n",
       "      <td>None</td>\n",
       "      <td>None</td>\n",
       "      <td>Q5087105</td>\n",
       "      <td>Chase Carey</td>\n",
       "      <td>None</td>\n",
       "      <td>item</td>\n",
       "      <td>None</td>\n",
       "    </tr>\n",
       "    <tr>\n",
       "      <th>Q57862394</th>\n",
       "      <td>None</td>\n",
       "      <td>None</td>\n",
       "      <td>None</td>\n",
       "      <td>[Q6581072]</td>\n",
       "      <td>1361261352</td>\n",
       "      <td>None</td>\n",
       "      <td>None</td>\n",
       "      <td>[Q1650915]</td>\n",
       "      <td>None</td>\n",
       "      <td>None</td>\n",
       "      <td>Q57862394</td>\n",
       "      <td>Jennifer Hall</td>\n",
       "      <td>None</td>\n",
       "      <td>item</td>\n",
       "      <td>None</td>\n",
       "    </tr>\n",
       "  </tbody>\n",
       "</table>\n",
       "<p>46376 rows × 15 columns</p>\n",
       "</div>"
      ],
      "text/plain": [
       "                                                     aliases  \\\n",
       "Q23762578                                               None   \n",
       "Q18199405                                               None   \n",
       "Q5415483                                                None   \n",
       "Q4911497   [Warren Wilhelm, Jr., Bill deBlasio, Warren Wi...   \n",
       "Q3061333                                 [Evan Lee Scribner]   \n",
       "...                                                      ...   \n",
       "Q19271892                                               None   \n",
       "Q15815037                                               None   \n",
       "Q43911177                                               None   \n",
       "Q5087105                                                None   \n",
       "Q57862394                                               None   \n",
       "\n",
       "                     date_of_birth     nationality      gender   lastrevid  \\\n",
       "Q23762578  [+1947-12-20T00:00:00Z]    [Q902, Q843]  [Q6581097]  1319692653   \n",
       "Q18199405  [+1963-08-13T00:00:00Z]           [Q34]  [Q6581097]  1280534852   \n",
       "Q5415483   [+1981-11-01T00:00:00Z]           [Q30]  [Q6581097]  1378227353   \n",
       "Q4911497   [+1961-05-08T00:00:00Z]           [Q30]  [Q6581097]  1393528151   \n",
       "Q3061333   [+1985-07-19T00:00:00Z]           [Q30]  [Q6581097]  1377322587   \n",
       "...                            ...             ...         ...         ...   \n",
       "Q19271892  [+1959-00-00T00:00:00Z]          [Q145]  [Q6581097]  1392939803   \n",
       "Q15815037  [+1964-09-08T00:00:00Z]  [Q225, Q36704]  [Q6581072]  1375826663   \n",
       "Q43911177                     None            None  [Q6581097]   985959416   \n",
       "Q5087105   [+1954-11-22T00:00:00Z]           [Q30]  [Q6581097]  1315183141   \n",
       "Q57862394                     None            None  [Q6581072]  1361261352   \n",
       "\n",
       "          ethnic_group US_congress_bio_ID              occupation       party  \\\n",
       "Q23762578         None               None                [Q82955]  [Q1361491]   \n",
       "Q18199405         None               None              [Q1281618]        None   \n",
       "Q5415483          None               None  [Q19204627, Q15295720]        None   \n",
       "Q4911497          None               None        [Q82955, Q40348]    [Q29552]   \n",
       "Q3061333          None               None             [Q10871364]        None   \n",
       "...                ...                ...                     ...         ...   \n",
       "Q19271892         None               None                [Q43845]        None   \n",
       "Q15815037         None               None              [Q1476215]        None   \n",
       "Q43911177         None               None              [Q5131856]        None   \n",
       "Q5087105          None               None      [Q43845, Q3282637]        None   \n",
       "Q57862394         None               None              [Q1650915]        None   \n",
       "\n",
       "          academic_degree         id                label candidacy  type  \\\n",
       "Q23762578            None  Q23762578  Anisul Islam Mahmud      None  item   \n",
       "Q18199405            None  Q18199405       Anders Jansson      None  item   \n",
       "Q5415483             None   Q5415483          Evan Mathis      None  item   \n",
       "Q4911497             None   Q4911497       Bill de Blasio      None  item   \n",
       "Q3061333             None   Q3061333        Evan Scribner      None  item   \n",
       "...                   ...        ...                  ...       ...   ...   \n",
       "Q19271892            None  Q19271892          Chris Banks      None  item   \n",
       "Q15815037            None  Q15815037      Dunja Mijatović      None  item   \n",
       "Q43911177            None  Q43911177        James Meldrum      None  item   \n",
       "Q5087105             None   Q5087105          Chase Carey      None  item   \n",
       "Q57862394            None  Q57862394        Jennifer Hall      None  item   \n",
       "\n",
       "          religion  \n",
       "Q23762578   [Q432]  \n",
       "Q18199405     None  \n",
       "Q5415483      None  \n",
       "Q4911497      None  \n",
       "Q3061333      None  \n",
       "...            ...  \n",
       "Q19271892     None  \n",
       "Q15815037     None  \n",
       "Q43911177     None  \n",
       "Q5087105      None  \n",
       "Q57862394     None  \n",
       "\n",
       "[46376 rows x 15 columns]"
      ]
     },
     "execution_count": 24,
     "metadata": {},
     "output_type": "execute_result"
    }
   ],
   "source": [
    "wiki_speakers"
   ]
  },
  {
   "cell_type": "code",
   "execution_count": 25,
   "id": "5fea8b69-01e8-4245-b76d-5923f75432ad",
   "metadata": {},
   "outputs": [],
   "source": [
    "wiki_speakers = wiki_speakers.drop_duplicates('id')\n"
   ]
  },
  {
   "cell_type": "markdown",
   "id": "d3f6d7d2-3278-4cb8-93ea-322f0d722da0",
   "metadata": {},
   "source": [
    "We will focus on climate datasets 2018 and 2019"
   ]
  },
  {
   "cell_type": "code",
   "execution_count": 26,
   "id": "7f92c91e-ff4d-4c14-8506-ff9d99f9652d",
   "metadata": {},
   "outputs": [],
   "source": [
    "# cleaning\n",
    "climate_dfs[2018] = clean_df(climate_dfs[2018])\n",
    "climate_dfs[2019] = clean_df(climate_dfs[2019])"
   ]
  },
  {
   "cell_type": "markdown",
   "id": "29f932a6-a37e-4acc-9c91-3e0271e5ffa2",
   "metadata": {},
   "source": [
    "**Top 10 functions**"
   ]
  },
  {
   "cell_type": "code",
   "execution_count": 27,
   "id": "04871ffb-5a23-49a7-90c0-8468b3bea23a",
   "metadata": {},
   "outputs": [],
   "source": [
    "def top_speakers(df):\n",
    "    \"\"\"function to extract the top 10 speakers\"\"\"\n",
    "    \n",
    "    top_speakers = df.groupby('speaker')['speaker'].count().sort_values(ascending=False).to_frame().add_suffix('_count')\n",
    "    top_speakers.reset_index(drop=False, inplace=True)\n",
    "    \n",
    "    return top_speakers.head(10)\n",
    "\n",
    "\n",
    "def top_quotations(df):\n",
    "    \"\"\"function to extract the top 10 msot repeated quotations\"\"\"\n",
    "    \n",
    "    top_quotations = df.sort_values('numOccurrences', ascending=False)[['speaker', 'quotation', 'numOccurrences']]\n",
    "    # remove quotations of unidentified speakers\n",
    "    top_quotations.reset_index(drop=True, inplace=True)\n",
    "    \n",
    "    return top_quotations.head(10)"
   ]
  },
  {
   "cell_type": "code",
   "execution_count": 28,
   "id": "36c37321-4e1b-49dc-b09f-b9337f2748d4",
   "metadata": {},
   "outputs": [],
   "source": [
    "# quick visualization\n",
    "def visualize_top(x, y):\n",
    "    plt.figure(figsize=(16, 6))\n",
    "    sns.barplot(x=x,y=y)\n",
    "    plt.title(\"Most quoted speakers\")\n",
    "    "
   ]
  },
  {
   "cell_type": "markdown",
   "id": "fa732c42-6471-4f86-9648-488dfe3a1c10",
   "metadata": {},
   "source": [
    "**Top speakers barplots**"
   ]
  },
  {
   "cell_type": "code",
   "execution_count": 29,
   "id": "ca049501-8475-4350-8357-b3946fa08972",
   "metadata": {
    "tags": []
   },
   "outputs": [
    {
     "data": {
      "image/png": "[encoded data removed]",
      "text/plain": [
       "<Figure size 1440x720 with 2 Axes>"
      ]
     },
     "metadata": {
      "needs_background": "light"
     },
     "output_type": "display_data"
    }
   ],
   "source": [
    "fig, ax = plt.subplots(2, figsize=(20,10), sharey=True)\n",
    "\n",
    "# show top speakers from 2018 and 2019\n",
    "speakers_2018 = top_speakers(climate_dfs[2018])\n",
    "speakers_2019 = top_speakers(climate_dfs[2019])\n",
    "\n",
    "ax[0].set_title('Top speakers in 2018')\n",
    "ax[1].set_title('Top speakers in 2019')\n",
    "\n",
    "sns.barplot(ax = ax[0], x=speakers_2018.speaker, y=speakers_2018.speaker_count)\n",
    "sns.barplot(ax = ax[1], x=speakers_2019.speaker, y=speakers_2019.speaker_count)\n",
    "\n",
    "plt.show()"
   ]
  },
  {
   "cell_type": "code",
   "execution_count": 30,
   "id": "dc3cd8bc-99a2-4957-9542-cb9fbd4849b4",
   "metadata": {},
   "outputs": [
    {
     "data": {
      "text/html": [
       "<div>\n",
       "<style scoped>\n",
       "    .dataframe tbody tr th:only-of-type {\n",
       "        vertical-align: middle;\n",
       "    }\n",
       "\n",
       "    .dataframe tbody tr th {\n",
       "        vertical-align: top;\n",
       "    }\n",
       "\n",
       "    .dataframe thead th {\n",
       "        text-align: right;\n",
       "    }\n",
       "</style>\n",
       "<table border=\"1\" class=\"dataframe\">\n",
       "  <thead>\n",
       "    <tr style=\"text-align: right;\">\n",
       "      <th></th>\n",
       "      <th>speaker</th>\n",
       "      <th>quotation</th>\n",
       "      <th>numOccurrences</th>\n",
       "    </tr>\n",
       "  </thead>\n",
       "  <tbody>\n",
       "    <tr>\n",
       "      <th>0</th>\n",
       "      <td>Valeri Liukin</td>\n",
       "      <td>the present climate causes me, and more import...</td>\n",
       "      <td>578</td>\n",
       "    </tr>\n",
       "    <tr>\n",
       "      <th>1</th>\n",
       "      <td>Greta Thunberg</td>\n",
       "      <td>School strike for the Climate.</td>\n",
       "      <td>425</td>\n",
       "    </tr>\n",
       "    <tr>\n",
       "      <th>2</th>\n",
       "      <td>Greta Thunberg</td>\n",
       "      <td>School Strike For Climate,</td>\n",
       "      <td>302</td>\n",
       "    </tr>\n",
       "    <tr>\n",
       "      <th>3</th>\n",
       "      <td>Antonio Guterres</td>\n",
       "      <td>Even as we witness devastating climate impacts...</td>\n",
       "      <td>296</td>\n",
       "    </tr>\n",
       "    <tr>\n",
       "      <th>4</th>\n",
       "      <td>Jim Steele</td>\n",
       "      <td>What's happened with the more warming climate ...</td>\n",
       "      <td>288</td>\n",
       "    </tr>\n",
       "    <tr>\n",
       "      <th>5</th>\n",
       "      <td>President Trump</td>\n",
       "      <td>There is a cooling, and there's a heating. I m...</td>\n",
       "      <td>287</td>\n",
       "    </tr>\n",
       "    <tr>\n",
       "      <th>6</th>\n",
       "      <td>President Trump</td>\n",
       "      <td>I'm not denying climate change,</td>\n",
       "      <td>285</td>\n",
       "    </tr>\n",
       "    <tr>\n",
       "      <th>7</th>\n",
       "      <td>Kim Jong Un</td>\n",
       "      <td>warm climate of reconciliation and dialogue,</td>\n",
       "      <td>283</td>\n",
       "    </tr>\n",
       "    <tr>\n",
       "      <th>8</th>\n",
       "      <td>Dave Robertson</td>\n",
       "      <td>I would say that the obvious inability in the ...</td>\n",
       "      <td>278</td>\n",
       "    </tr>\n",
       "    <tr>\n",
       "      <th>9</th>\n",
       "      <td>Katharine Hayhoe</td>\n",
       "      <td>As a climate scientist, it is almost surreal.</td>\n",
       "      <td>256</td>\n",
       "    </tr>\n",
       "  </tbody>\n",
       "</table>\n",
       "</div>"
      ],
      "text/plain": [
       "            speaker                                          quotation  \\\n",
       "0     Valeri Liukin  the present climate causes me, and more import...   \n",
       "1    Greta Thunberg                     School strike for the Climate.   \n",
       "2    Greta Thunberg                         School Strike For Climate,   \n",
       "3  Antonio Guterres  Even as we witness devastating climate impacts...   \n",
       "4        Jim Steele  What's happened with the more warming climate ...   \n",
       "5   President Trump  There is a cooling, and there's a heating. I m...   \n",
       "6   President Trump                    I'm not denying climate change,   \n",
       "7       Kim Jong Un       warm climate of reconciliation and dialogue,   \n",
       "8    Dave Robertson  I would say that the obvious inability in the ...   \n",
       "9  Katharine Hayhoe      As a climate scientist, it is almost surreal.   \n",
       "\n",
       "   numOccurrences  \n",
       "0             578  \n",
       "1             425  \n",
       "2             302  \n",
       "3             296  \n",
       "4             288  \n",
       "5             287  \n",
       "6             285  \n",
       "7             283  \n",
       "8             278  \n",
       "9             256  "
      ]
     },
     "execution_count": 30,
     "metadata": {},
     "output_type": "execute_result"
    }
   ],
   "source": [
    "# show top quotations from 2018\n",
    "top_quotations(climate_dfs[2018])"
   ]
  },
  {
   "cell_type": "code",
   "execution_count": 31,
   "id": "2beab304-b026-44e9-8dc4-ab2ea5cbb931",
   "metadata": {},
   "outputs": [
    {
     "data": {
      "text/html": [
       "<div>\n",
       "<style scoped>\n",
       "    .dataframe tbody tr th:only-of-type {\n",
       "        vertical-align: middle;\n",
       "    }\n",
       "\n",
       "    .dataframe tbody tr th {\n",
       "        vertical-align: top;\n",
       "    }\n",
       "\n",
       "    .dataframe thead th {\n",
       "        text-align: right;\n",
       "    }\n",
       "</style>\n",
       "<table border=\"1\" class=\"dataframe\">\n",
       "  <thead>\n",
       "    <tr style=\"text-align: right;\">\n",
       "      <th></th>\n",
       "      <th>speaker</th>\n",
       "      <th>quotation</th>\n",
       "      <th>numOccurrences</th>\n",
       "    </tr>\n",
       "  </thead>\n",
       "  <tbody>\n",
       "    <tr>\n",
       "      <th>0</th>\n",
       "      <td>Gavin Newsom</td>\n",
       "      <td>You don't believe in climate change. You are e...</td>\n",
       "      <td>474</td>\n",
       "    </tr>\n",
       "    <tr>\n",
       "      <th>1</th>\n",
       "      <td>President Trump</td>\n",
       "      <td>You're bang out of order, you're wrong... you ...</td>\n",
       "      <td>463</td>\n",
       "    </tr>\n",
       "    <tr>\n",
       "      <th>2</th>\n",
       "      <td>Nancy Pelosi</td>\n",
       "      <td>We must ensure a climate of integrity and dign...</td>\n",
       "      <td>407</td>\n",
       "    </tr>\n",
       "    <tr>\n",
       "      <th>3</th>\n",
       "      <td>President Trump</td>\n",
       "      <td>I did mention a number of things, I did say th...</td>\n",
       "      <td>405</td>\n",
       "    </tr>\n",
       "    <tr>\n",
       "      <th>4</th>\n",
       "      <td>Mark Carney</td>\n",
       "      <td>climate action and climate finance</td>\n",
       "      <td>384</td>\n",
       "    </tr>\n",
       "    <tr>\n",
       "      <th>5</th>\n",
       "      <td>Ben de Pear</td>\n",
       "      <td>However, as we made clear to him repeatedly, b...</td>\n",
       "      <td>362</td>\n",
       "    </tr>\n",
       "    <tr>\n",
       "      <th>6</th>\n",
       "      <td>Helge Braun</td>\n",
       "      <td>We all share an interest in climate protection...</td>\n",
       "      <td>350</td>\n",
       "    </tr>\n",
       "    <tr>\n",
       "      <th>7</th>\n",
       "      <td>Scott Morrison</td>\n",
       "      <td>climate change, along with many other factors.</td>\n",
       "      <td>334</td>\n",
       "    </tr>\n",
       "    <tr>\n",
       "      <th>8</th>\n",
       "      <td>Leo Varadkar</td>\n",
       "      <td>do more on climate action</td>\n",
       "      <td>326</td>\n",
       "    </tr>\n",
       "    <tr>\n",
       "      <th>9</th>\n",
       "      <td>Stefan Rahmstorf</td>\n",
       "      <td>monthly heat records all over the globe occur ...</td>\n",
       "      <td>280</td>\n",
       "    </tr>\n",
       "  </tbody>\n",
       "</table>\n",
       "</div>"
      ],
      "text/plain": [
       "            speaker                                          quotation  \\\n",
       "0      Gavin Newsom  You don't believe in climate change. You are e...   \n",
       "1   President Trump  You're bang out of order, you're wrong... you ...   \n",
       "2      Nancy Pelosi  We must ensure a climate of integrity and dign...   \n",
       "3   President Trump  I did mention a number of things, I did say th...   \n",
       "4       Mark Carney                 climate action and climate finance   \n",
       "5       Ben de Pear  However, as we made clear to him repeatedly, b...   \n",
       "6       Helge Braun  We all share an interest in climate protection...   \n",
       "7    Scott Morrison     climate change, along with many other factors.   \n",
       "8      Leo Varadkar                          do more on climate action   \n",
       "9  Stefan Rahmstorf  monthly heat records all over the globe occur ...   \n",
       "\n",
       "   numOccurrences  \n",
       "0             474  \n",
       "1             463  \n",
       "2             407  \n",
       "3             405  \n",
       "4             384  \n",
       "5             362  \n",
       "6             350  \n",
       "7             334  \n",
       "8             326  \n",
       "9             280  "
      ]
     },
     "execution_count": 31,
     "metadata": {},
     "output_type": "execute_result"
    }
   ],
   "source": [
    "# show top quotations from 2019\n",
    "top_quotations(climate_dfs[2019])"
   ]
  },
  {
   "cell_type": "code",
   "execution_count": 32,
   "id": "15b0e9f5-b00f-4f6b-a91e-9b0569406096",
   "metadata": {},
   "outputs": [],
   "source": [
    "# for top newspapers talking about climate\n",
    "from tld import get_tld\n",
    "\n",
    "def get_domain(url):\n",
    "    res = get_tld(url, as_object=True)\n",
    "    return res.domain\n",
    "\n",
    "# function extracting the top 10 newspapers mentioning climate \n",
    "def top_newspapers(df):\n",
    "    top_newspapers = pd.Series([x for _list in df['urls'] for x in _list]).apply(lambda u: get_domain(u)).value_counts()\n",
    "    top_newspapers = top_newspapers.to_frame().reset_index(drop=False)\n",
    "    top_newspapers.columns = ['newspaper', 'count']\n",
    "    \n",
    "    return top_newspapers.head(10)\n"
   ]
  },
  {
   "cell_type": "markdown",
   "id": "a9b59885-005b-4d52-80fd-325fe0284b64",
   "metadata": {},
   "source": [
    "### Metrics of top speakers"
   ]
  },
  {
   "cell_type": "markdown",
   "id": "4b91a965-6e9c-4014-a206-edd0225b888d",
   "metadata": {},
   "source": [
    "**Gender**"
   ]
  },
  {
   "cell_type": "code",
   "execution_count": 67,
   "id": "6eba7f4b-b9b8-428a-a04f-053ed3a3042b",
   "metadata": {},
   "outputs": [
    {
     "data": {
      "text/html": [
       "<div>\n",
       "<style scoped>\n",
       "    .dataframe tbody tr th:only-of-type {\n",
       "        vertical-align: middle;\n",
       "    }\n",
       "\n",
       "    .dataframe tbody tr th {\n",
       "        vertical-align: top;\n",
       "    }\n",
       "\n",
       "    .dataframe thead th {\n",
       "        text-align: right;\n",
       "    }\n",
       "</style>\n",
       "<table border=\"1\" class=\"dataframe\">\n",
       "  <thead>\n",
       "    <tr style=\"text-align: right;\">\n",
       "      <th></th>\n",
       "      <th>speaker</th>\n",
       "      <th>speaker_count</th>\n",
       "      <th>gender</th>\n",
       "      <th>age</th>\n",
       "      <th>political_party</th>\n",
       "    </tr>\n",
       "  </thead>\n",
       "  <tbody>\n",
       "    <tr>\n",
       "      <th>0</th>\n",
       "      <td>President Trump</td>\n",
       "      <td>328</td>\n",
       "      <td>male</td>\n",
       "      <td>75</td>\n",
       "      <td>Republican Party</td>\n",
       "    </tr>\n",
       "    <tr>\n",
       "      <th>1</th>\n",
       "      <td>Antonio Guterres</td>\n",
       "      <td>289</td>\n",
       "      <td>male</td>\n",
       "      <td>72</td>\n",
       "      <td>Socialist Party</td>\n",
       "    </tr>\n",
       "    <tr>\n",
       "      <th>2</th>\n",
       "      <td>Catherine McKenna</td>\n",
       "      <td>273</td>\n",
       "      <td>female</td>\n",
       "      <td>50</td>\n",
       "      <td>Liberal Party of Canada</td>\n",
       "    </tr>\n",
       "    <tr>\n",
       "      <th>3</th>\n",
       "      <td>Jerry Brown</td>\n",
       "      <td>228</td>\n",
       "      <td>male</td>\n",
       "      <td>83</td>\n",
       "      <td>Democratic Party</td>\n",
       "    </tr>\n",
       "    <tr>\n",
       "      <th>4</th>\n",
       "      <td>Michael Mann</td>\n",
       "      <td>193</td>\n",
       "      <td>male</td>\n",
       "      <td>79</td>\n",
       "      <td>None</td>\n",
       "    </tr>\n",
       "    <tr>\n",
       "      <th>5</th>\n",
       "      <td>Narendra Modi</td>\n",
       "      <td>186</td>\n",
       "      <td>male</td>\n",
       "      <td>71</td>\n",
       "      <td>Bharatiya Janata Party</td>\n",
       "    </tr>\n",
       "    <tr>\n",
       "      <th>6</th>\n",
       "      <td>Al Gore</td>\n",
       "      <td>146</td>\n",
       "      <td>male</td>\n",
       "      <td>73</td>\n",
       "      <td>Democratic Party</td>\n",
       "    </tr>\n",
       "    <tr>\n",
       "      <th>7</th>\n",
       "      <td>Justin Trudeau</td>\n",
       "      <td>140</td>\n",
       "      <td>male</td>\n",
       "      <td>50</td>\n",
       "      <td>Liberal Party of Canada</td>\n",
       "    </tr>\n",
       "    <tr>\n",
       "      <th>8</th>\n",
       "      <td>Patricia Espinosa</td>\n",
       "      <td>133</td>\n",
       "      <td>female</td>\n",
       "      <td>63</td>\n",
       "      <td>National Action Party</td>\n",
       "    </tr>\n",
       "    <tr>\n",
       "      <th>9</th>\n",
       "      <td>Emmanuel Macron</td>\n",
       "      <td>132</td>\n",
       "      <td>male</td>\n",
       "      <td>44</td>\n",
       "      <td>La République En Marche</td>\n",
       "    </tr>\n",
       "  </tbody>\n",
       "</table>\n",
       "</div>"
      ],
      "text/plain": [
       "             speaker  speaker_count  gender  age          political_party\n",
       "0    President Trump            328    male   75         Republican Party\n",
       "1   Antonio Guterres            289    male   72          Socialist Party\n",
       "2  Catherine McKenna            273  female   50  Liberal Party of Canada\n",
       "3        Jerry Brown            228    male   83         Democratic Party\n",
       "4       Michael Mann            193    male   79                     None\n",
       "5      Narendra Modi            186    male   71   Bharatiya Janata Party\n",
       "6            Al Gore            146    male   73         Democratic Party\n",
       "7     Justin Trudeau            140    male   50  Liberal Party of Canada\n",
       "8  Patricia Espinosa            133  female   63    National Action Party\n",
       "9    Emmanuel Macron            132    male   44  La République En Marche"
      ]
     },
     "execution_count": 67,
     "metadata": {},
     "output_type": "execute_result"
    }
   ],
   "source": [
    "speakers_2018"
   ]
  },
  {
   "cell_type": "code",
   "execution_count": 50,
   "id": "0718050d-aef7-4409-b23d-9dd84fe9bbbf",
   "metadata": {},
   "outputs": [],
   "source": [
    "# get the list of qids for a speaker from df\n",
    "def get_qids(df, name):\n",
    "    qids = df[df.speaker == name].iloc[0].qids\n",
    "    \n",
    "    return qids\n",
    "\n",
    "# get the gender of the speaker\n",
    "# ids: the list of qids of the speaker \n",
    "def get_gender(ids):\n",
    "    \n",
    "    if not ids:\n",
    "        gender = None\n",
    "    else:\n",
    "        qid = wiki_speakers.loc[ids[0]]['gender'][0]\n",
    "        \n",
    "        gender = wiki_labels.loc[qid]['Label']\n",
    "    \n",
    "    return gender\n"
   ]
  },
  {
   "cell_type": "markdown",
   "id": "ea5e8bec-329a-49bf-9922-69d6be58def9",
   "metadata": {},
   "source": [
    "Lets see the proportion of men and women in top 10 speakers"
   ]
  },
  {
   "cell_type": "code",
   "execution_count": 51,
   "id": "e563ce65-68f3-4dc8-9c40-db625ff7631c",
   "metadata": {},
   "outputs": [],
   "source": [
    "# add the gender column for top speakers\n",
    "speakers_2018['gender'] = speakers_2018['speaker'].apply(lambda s: get_qids(climate_dfs[2018],s)).apply(lambda q: get_gender(q))\n",
    "speakers_2019['gender'] = speakers_2019['speaker'].apply(lambda s: get_qids(climate_dfs[2019],s)).apply(lambda q: get_gender(q))"
   ]
  },
  {
   "cell_type": "code",
   "execution_count": 52,
   "id": "a34ddc75-ff1a-4d0c-bc62-22e95089ed35",
   "metadata": {},
   "outputs": [
    {
     "data": {
      "image/png": "[encoded data removed]",
      "text/plain": [
       "<Figure size 576x432 with 2 Axes>"
      ]
     },
     "metadata": {},
     "output_type": "display_data"
    }
   ],
   "source": [
    "# counts 2018\n",
    "nb_men_2018 = speakers_2018[speakers_2018.gender == 'male'].speaker.count()\n",
    "nb_women_2018 = 10 - nb_men_2018\n",
    "# counts 2019\n",
    "nb_men_2019 = speakers_2019[speakers_2019.gender == 'male'].speaker.count()\n",
    "nb_women_2019 = 10 - nb_men_2019\n",
    "\n",
    "fig, (ax1, ax2) = plt.subplots(1, 2, figsize=(8,6))\n",
    "\n",
    "ax1.set_title('Gender of top speakers 2018')\n",
    "ax2.set_title('Gender of top speakers 2019')\n",
    "\n",
    "ax1.pie([nb_men_2018, nb_women_2018], labels=['men', 'women'], autopct='%1.0f%%')\n",
    "ax2.pie([nb_men_2019, nb_women_2019], labels=['men', 'women'], autopct='%1.0f%%')\n",
    "\n",
    "plt.show()"
   ]
  },
  {
   "cell_type": "markdown",
   "id": "77c60b24-9f60-4484-ac82-0a39e6ac5c1e",
   "metadata": {},
   "source": [
    "**Age**"
   ]
  },
  {
   "cell_type": "code",
   "execution_count": 36,
   "id": "4739d36f-0ca4-4a65-8e69-0dd1bd5625b6",
   "metadata": {},
   "outputs": [],
   "source": [
    "# get the age of the speaker\n",
    "def get_age(ids):\n",
    "    \n",
    "    if not ids:\n",
    "        age = Nan\n",
    "    else:\n",
    "        birth_date = wiki_speakers.loc[ids[0]]['date_of_birth'][0]\n",
    "        birth_year = birth_date[1:5]\n",
    "        age = int(datetime.now().strftime('%Y')) - int(birth_year)\n",
    "        \n",
    "    return age\n",
    "    "
   ]
  },
  {
   "cell_type": "code",
   "execution_count": 37,
   "id": "225d7c1d-421d-4fe7-91df-d61e46565139",
   "metadata": {},
   "outputs": [],
   "source": [
    "# add the gender column for top speakers\n",
    "speakers_2018['age'] = speakers_2018['speaker'].apply(lambda s: get_qids(climate_dfs[2018],s)).apply(lambda q: get_age(q))\n",
    "speakers_2019['age'] = speakers_2019['speaker'].apply(lambda s: get_qids(climate_dfs[2019],s)).apply(lambda q: get_age(q))"
   ]
  },
  {
   "cell_type": "code",
   "execution_count": 38,
   "id": "e863390d-7b4c-43a9-bc8a-68c7ed87230a",
   "metadata": {},
   "outputs": [
    {
     "data": {
      "image/png": "[encoded data removed]",
      "text/plain": [
       "<Figure size 720x288 with 2 Axes>"
      ]
     },
     "metadata": {
      "needs_background": "light"
     },
     "output_type": "display_data"
    }
   ],
   "source": [
    "fig, (ax1, ax2) = plt.subplots(1, 2, figsize=(10,4), sharex=True, sharey=True)\n",
    "\n",
    "ax1.set_title('Age of speakers in 2018')\n",
    "ax2.set_title('Age of speakers in 2019')\n",
    "\n",
    "sns.histplot(speakers_2018['age'], ax = ax1)\n",
    "sns.histplot(speakers_2019['age'], ax = ax2)\n",
    "\n",
    "plt.show()\n"
   ]
  },
  {
   "cell_type": "markdown",
   "id": "472582c4-1a48-4aa5-8ba6-7dbd829c108b",
   "metadata": {},
   "source": [
    "**Political party**"
   ]
  },
  {
   "cell_type": "code",
   "execution_count": 39,
   "id": "208b28f2-b794-4ff8-856d-8817cc3dc89e",
   "metadata": {},
   "outputs": [],
   "source": [
    "# get the political party of the speaker\n",
    "def get_party(ids):\n",
    "    if not ids:\n",
    "        party = None\n",
    "    else:\n",
    "        party_id = wiki_speakers.loc[ids[0]].party\n",
    "        \n",
    "        if party_id is None:\n",
    "            party = None\n",
    "        else:\n",
    "            party = wiki_labels.loc[party_id[0]].Label\n",
    "        \n",
    "    return party"
   ]
  },
  {
   "cell_type": "code",
   "execution_count": 40,
   "id": "8448600e-d227-4349-b838-03d422c8dc6b",
   "metadata": {},
   "outputs": [],
   "source": [
    "speakers_2018['political_party'] = speakers_2018['speaker'].apply(lambda s: get_qids(climate_dfs[2018],s)).apply(lambda q: get_party(q))\n",
    "speakers_2019['political_party'] = speakers_2019['speaker'].apply(lambda s: get_qids(climate_dfs[2019],s)).apply(lambda q: get_party(q))"
   ]
  },
  {
   "cell_type": "code",
   "execution_count": 41,
   "id": "c83f9ac3-2cac-43a4-8f24-a530ccd0d7e1",
   "metadata": {},
   "outputs": [],
   "source": [
    "party_count_2018 = speakers_2018.groupby('political_party').speaker.count().to_frame()\n",
    "party_count_2019 = speakers_2019.groupby('political_party').speaker.count().to_frame()"
   ]
  },
  {
   "cell_type": "code",
   "execution_count": 66,
   "id": "b0f75ac7-f0b9-4e3d-8c75-1e7960e74135",
   "metadata": {},
   "outputs": [
    {
     "data": {
      "image/png": "[encoded data removed]",
      "text/plain": [
       "<Figure size 1008x288 with 2 Axes>"
      ]
     },
     "metadata": {},
     "output_type": "display_data"
    }
   ],
   "source": [
    "fig, (ax1, ax2) = plt.subplots(1, 2, figsize=(14,4))\n",
    "\n",
    "ax1.pie(party_count_2018.speaker.tolist(), labels = party_count_2018.index.tolist(), autopct='%1.0f%%')\n",
    "ax2.pie(party_count_2019.speaker.tolist(), labels = party_count_2019.index.tolist(), autopct='%1.0f%%')\n",
    "\n",
    "plt.show()"
   ]
  },
  {
   "cell_type": "code",
   "execution_count": null,
   "id": "fe0ad219-d086-44ce-9283-886c39562ab2",
   "metadata": {},
   "outputs": [],
   "source": []
  }
 ],
 "metadata": {
  "kernelspec": {
   "display_name": "Python 3 (ipykernel)",
   "language": "python",
   "name": "python3"
  },
  "language_info": {
   "codemirror_mode": {
    "name": "ipython",
    "version": 3
   },
   "file_extension": ".py",
   "mimetype": "text/x-python",
   "name": "python",
   "nbconvert_exporter": "python",
   "pygments_lexer": "ipython3",
   "version": "3.9.7"
  }
 },
 "nbformat": 4,
 "nbformat_minor": 5
}
