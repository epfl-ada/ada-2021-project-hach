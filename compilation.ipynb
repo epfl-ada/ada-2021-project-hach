{
 "cells": [
  {
   "cell_type": "code",
   "execution_count": 157,
   "id": "9244e7ab-5848-4a3f-b64a-de1a35a63b93",
   "metadata": {},
   "outputs": [],
   "source": [
    "import pandas as pd\n",
    "import numpy as np\n",
    "import matplotlib.pyplot as plt"
   ]
  },
  {
   "cell_type": "markdown",
   "id": "9e38b11b-da0d-4fcf-b591-e5882204478c",
   "metadata": {},
   "source": [
    "# Getting quotes related to climate change"
   ]
  },
  {
   "cell_type": "code",
   "execution_count": 2,
   "id": "9f403baa-536f-4396-b826-e8f6fad318ae",
   "metadata": {},
   "outputs": [],
   "source": [
    "reg_query = \"|\".join([\"climate\", \"global warming\", \"greenhouse gas\", \"gas emissions\", \"greenhouse effect\", \"pesticide\", \"pollution\", \"carbon emissions\"])\n"
   ]
  },
  {
   "cell_type": "code",
   "execution_count": 4,
   "id": "48305f27-6c5d-4643-88b0-23fe023dff3f",
   "metadata": {
    "tags": []
   },
   "outputs": [
    {
     "data": {
      "text/plain": [
       "'climate|global warming|greenhouse gas|gas emissions|greenhouse effect|pesticide|pollution|carbon emissions'"
      ]
     },
     "execution_count": 4,
     "metadata": {},
     "output_type": "execute_result"
    }
   ],
   "source": [
    "reg_query"
   ]
  },
  {
   "cell_type": "code",
   "execution_count": 7,
   "id": "743ec602-20ac-4932-8524-9fe76bfeea2e",
   "metadata": {},
   "outputs": [],
   "source": [
    "df_reader = pd.read_json('data/quotebank/quotes-2020.json.bz2', lines=True, compression='bz2', chunksize =100000)"
   ]
  },
  {
   "cell_type": "code",
   "execution_count": 6,
   "id": "f358a555-a315-4daf-905d-3460fabd9820",
   "metadata": {},
   "outputs": [
    {
     "name": "stdout",
     "output_type": "stream",
     "text": [
      "CPU times: user 5min 22s, sys: 6.49 s, total: 5min 28s\n",
      "Wall time: 5min 28s\n"
     ]
    }
   ],
   "source": [
    "%%time\n",
    "climate_like_quotes = []\n",
    "for chunk in df_reader:\n",
    "    df = chunk[chunk.quotation.str.contains(reg_query, case=False, na=False)]\n",
    "    climate_like_quotes.append(df)"
   ]
  },
  {
   "cell_type": "code",
   "execution_count": 8,
   "id": "bdab09d9-3ae8-4a14-81e1-5856c7b39361",
   "metadata": {},
   "outputs": [],
   "source": [
    "climate_like_df = pd.concat(climate_like_quotes)"
   ]
  },
  {
   "cell_type": "code",
   "execution_count": 9,
   "id": "1c21e6d3-6ed7-4b67-bba7-c8a973ab413e",
   "metadata": {},
   "outputs": [
    {
     "data": {
      "text/plain": [
       "(22690, 9)"
      ]
     },
     "execution_count": 9,
     "metadata": {},
     "output_type": "execute_result"
    }
   ],
   "source": [
    "climate_like_df.shape"
   ]
  },
  {
   "cell_type": "code",
   "execution_count": 100,
   "id": "4a69a231-7cce-478e-bc75-1af634a7353d",
   "metadata": {},
   "outputs": [
    {
     "data": {
      "text/plain": [
       "\"We have international students who are worried about what's going on in Australia... I think some of the worry is the air pollution. People have seen the pictures of the red sky.\""
      ]
     },
     "execution_count": 100,
     "metadata": {},
     "output_type": "execute_result"
    }
   ],
   "source": [
    "climate_like_df.quotation.iloc[1401]"
   ]
  },
  {
   "cell_type": "code",
   "execution_count": 11,
   "id": "469913fd-ee44-47e3-a4df-454478f0abb2",
   "metadata": {},
   "outputs": [],
   "source": [
    "climate_like_df.to_pickle('data/climate_like_2020.pkl')"
   ]
  },
  {
   "cell_type": "code",
   "execution_count": 4,
   "id": "8fef5a09-bb6c-4778-859f-4ed5a2a471c8",
   "metadata": {},
   "outputs": [],
   "source": [
    "climate_df = pd.read_pickle(\"data/climate_df_2020.pkl\")"
   ]
  },
  {
   "cell_type": "markdown",
   "id": "c26842b7-ada0-47d3-b477-d7703b796cd4",
   "metadata": {
    "tags": []
   },
   "source": [
    "# Basic analysis"
   ]
  },
  {
   "cell_type": "code",
   "execution_count": 26,
   "id": "d9982ff0-aed5-443a-95f9-978ac9ab06cb",
   "metadata": {},
   "outputs": [],
   "source": [
    "climate_dfs = {}\n",
    "for y in range(2015, 2021):\n",
    "    climate_dfs[y] = pd.read_pickle('data/climate_df_{}.pkl'.format(y))"
   ]
  },
  {
   "cell_type": "code",
   "execution_count": 179,
   "id": "85aa54b4-d37d-4db4-b292-1d4717786c55",
   "metadata": {},
   "outputs": [],
   "source": [
    "full_climate_df = pd.DataFrame(columns = climate_dfs[2015].columns)\n",
    "for y in range(2015, 2021):\n",
    "    full_climate_df = full_climate_df.append(climate_dfs[y])"
   ]
  },
  {
   "cell_type": "markdown",
   "id": "2186e56d-1cd4-4ee5-ac17-e81808dbd801",
   "metadata": {
    "tags": []
   },
   "source": [
    "## Cleaning dataset"
   ]
  },
  {
   "cell_type": "code",
   "execution_count": 3,
   "id": "94936fa2-79ee-4845-9388-5514c5a0b962",
   "metadata": {},
   "outputs": [
    {
     "name": "stdout",
     "output_type": "stream",
     "text": [
      "CPU times: user 12.2 s, sys: 2.79 s, total: 15 s\n",
      "Wall time: 11.9 s\n"
     ]
    }
   ],
   "source": [
    "%%time\n",
    "# load wiki data\n",
    "wiki_data = pd.read_parquet('parquet-data/speaker_attributes.parquet')"
   ]
  },
  {
   "cell_type": "code",
   "execution_count": 155,
   "id": "5eb675cc-ffa0-444b-9f6e-a3a913550fa9",
   "metadata": {},
   "outputs": [
    {
     "data": {
      "text/plain": [
       "quoteID                                           2015-09-09-008765\n",
       "quotation         As siltation is a natural process in the Meghn...\n",
       "speaker                                         Anisul Islam Mahmud\n",
       "qids                                                    [Q23762578]\n",
       "date                                            2015-09-09 07:40:37\n",
       "numOccurrences                                                   11\n",
       "probas                [[Anisul Islam Mahmud, 0.942], [None, 0.058]]\n",
       "urls              [http://trust.org/item/20150909073825-39czr, h...\n",
       "phase                                                             E\n",
       "Name: 1266, dtype: object"
      ]
     },
     "execution_count": 155,
     "metadata": {},
     "output_type": "execute_result"
    }
   ],
   "source": [
    "full_climate_df.loc[1266]"
   ]
  },
  {
   "cell_type": "code",
   "execution_count": 180,
   "id": "71f58b97-6ecf-4e49-b4bb-8fc374b99c0f",
   "metadata": {},
   "outputs": [],
   "source": [
    "def replace_name(q, qids_to_name={}):\n",
    "    if 0 < len(q.qids):\n",
    "        if q.qids[0] not in qids_to_name:\n",
    "            qids_to_name[q.qids[0]] = q.speaker\n",
    "        else:\n",
    "            q.speaker = qids_to_name[q.qids[0]]\n",
    "    return q\n",
    "    "
   ]
  },
  {
   "cell_type": "code",
   "execution_count": 181,
   "id": "1f1a3c17-97b3-4d0a-9d76-c7b6f47697a5",
   "metadata": {},
   "outputs": [
    {
     "name": "stdout",
     "output_type": "stream",
     "text": [
      "CPU times: user 22.2 s, sys: 234 ms, total: 22.4 s\n",
      "Wall time: 22.4 s\n"
     ]
    }
   ],
   "source": [
    "%%time\n",
    "full_climate_df = full_climate_df.apply(replace_name, axis=1)"
   ]
  },
  {
   "cell_type": "markdown",
   "id": "1d1cd6f6-8d75-4816-82e7-65d7e8c25088",
   "metadata": {},
   "source": [
    "## Getting top speakers"
   ]
  },
  {
   "cell_type": "code",
   "execution_count": 119,
   "id": "2f7b5271-2a00-4ed2-ad7e-aa386d838402",
   "metadata": {},
   "outputs": [],
   "source": [
    "top_speakers = pd.DataFrame()\n",
    "for y in range(2015, 2021):\n",
    "    count = climate_dfs[y].query('speaker != \"None\"').groupby('speaker')['quoteID'].count().sort_values(ascending=False).to_frame()\n",
    "    count = count.rename(columns={\"quoteID\": \"count\"}).reset_index()\n",
    "    count.insert(0, 'year', y)\n",
    "    count.insert(3, 'rank', count.index + 1)\n",
    "    top_speakers = top_speakers.append(count)"
   ]
  },
  {
   "cell_type": "code",
   "execution_count": 125,
   "id": "fee9cdfd-2664-4046-b20a-c3e7a559ceb7",
   "metadata": {},
   "outputs": [],
   "source": [
    "top_speakers = top_speakers.reset_index()"
   ]
  },
  {
   "cell_type": "code",
   "execution_count": 126,
   "id": "46304bcc-f9fc-4938-9524-7b34356bd662",
   "metadata": {},
   "outputs": [
    {
     "data": {
      "text/html": [
       "<div>\n",
       "<style scoped>\n",
       "    .dataframe tbody tr th:only-of-type {\n",
       "        vertical-align: middle;\n",
       "    }\n",
       "\n",
       "    .dataframe tbody tr th {\n",
       "        vertical-align: top;\n",
       "    }\n",
       "\n",
       "    .dataframe thead th {\n",
       "        text-align: right;\n",
       "    }\n",
       "</style>\n",
       "<table border=\"1\" class=\"dataframe\">\n",
       "  <thead>\n",
       "    <tr style=\"text-align: right;\">\n",
       "      <th></th>\n",
       "      <th>index</th>\n",
       "      <th>year</th>\n",
       "      <th>speaker</th>\n",
       "      <th>count</th>\n",
       "      <th>rank</th>\n",
       "    </tr>\n",
       "  </thead>\n",
       "  <tbody>\n",
       "    <tr>\n",
       "      <th>0</th>\n",
       "      <td>0</td>\n",
       "      <td>2015</td>\n",
       "      <td>President Barack Obama</td>\n",
       "      <td>731</td>\n",
       "      <td>1</td>\n",
       "    </tr>\n",
       "    <tr>\n",
       "      <th>1</th>\n",
       "      <td>1</td>\n",
       "      <td>2015</td>\n",
       "      <td>President Obama</td>\n",
       "      <td>567</td>\n",
       "      <td>2</td>\n",
       "    </tr>\n",
       "    <tr>\n",
       "      <th>2</th>\n",
       "      <td>2</td>\n",
       "      <td>2015</td>\n",
       "      <td>Narendra Modi</td>\n",
       "      <td>362</td>\n",
       "      <td>3</td>\n",
       "    </tr>\n",
       "    <tr>\n",
       "      <th>3</th>\n",
       "      <td>3</td>\n",
       "      <td>2015</td>\n",
       "      <td>Bernie Sanders</td>\n",
       "      <td>345</td>\n",
       "      <td>4</td>\n",
       "    </tr>\n",
       "    <tr>\n",
       "      <th>4</th>\n",
       "      <td>4</td>\n",
       "      <td>2015</td>\n",
       "      <td>Ban Ki-moon</td>\n",
       "      <td>331</td>\n",
       "      <td>5</td>\n",
       "    </tr>\n",
       "    <tr>\n",
       "      <th>...</th>\n",
       "      <td>...</td>\n",
       "      <td>...</td>\n",
       "      <td>...</td>\n",
       "      <td>...</td>\n",
       "      <td>...</td>\n",
       "    </tr>\n",
       "    <tr>\n",
       "      <th>72171</th>\n",
       "      <td>5809</td>\n",
       "      <td>2020</td>\n",
       "      <td>Kevin Sheekey</td>\n",
       "      <td>1</td>\n",
       "      <td>5810</td>\n",
       "    </tr>\n",
       "    <tr>\n",
       "      <th>72172</th>\n",
       "      <td>5810</td>\n",
       "      <td>2020</td>\n",
       "      <td>Kevin Stiroh</td>\n",
       "      <td>1</td>\n",
       "      <td>5811</td>\n",
       "    </tr>\n",
       "    <tr>\n",
       "      <th>72173</th>\n",
       "      <td>5811</td>\n",
       "      <td>2020</td>\n",
       "      <td>Kevin Vann</td>\n",
       "      <td>1</td>\n",
       "      <td>5812</td>\n",
       "    </tr>\n",
       "    <tr>\n",
       "      <th>72174</th>\n",
       "      <td>5812</td>\n",
       "      <td>2020</td>\n",
       "      <td>Kevin Walters</td>\n",
       "      <td>1</td>\n",
       "      <td>5813</td>\n",
       "    </tr>\n",
       "    <tr>\n",
       "      <th>72175</th>\n",
       "      <td>5813</td>\n",
       "      <td>2020</td>\n",
       "      <td>50 Cent</td>\n",
       "      <td>1</td>\n",
       "      <td>5814</td>\n",
       "    </tr>\n",
       "  </tbody>\n",
       "</table>\n",
       "<p>72176 rows × 5 columns</p>\n",
       "</div>"
      ],
      "text/plain": [
       "       index  year                 speaker  count  rank\n",
       "0          0  2015  President Barack Obama    731     1\n",
       "1          1  2015         President Obama    567     2\n",
       "2          2  2015           Narendra Modi    362     3\n",
       "3          3  2015          Bernie Sanders    345     4\n",
       "4          4  2015             Ban Ki-moon    331     5\n",
       "...      ...   ...                     ...    ...   ...\n",
       "72171   5809  2020           Kevin Sheekey      1  5810\n",
       "72172   5810  2020            Kevin Stiroh      1  5811\n",
       "72173   5811  2020              Kevin Vann      1  5812\n",
       "72174   5812  2020           Kevin Walters      1  5813\n",
       "72175   5813  2020                 50 Cent      1  5814\n",
       "\n",
       "[72176 rows x 5 columns]"
      ]
     },
     "execution_count": 126,
     "metadata": {},
     "output_type": "execute_result"
    }
   ],
   "source": [
    "top_speakers"
   ]
  },
  {
   "cell_type": "code",
   "execution_count": 183,
   "id": "f2328624-f16c-4c6b-a9e7-adb7665c008b",
   "metadata": {},
   "outputs": [],
   "source": [
    "selected_speakers = full_climate_df.query('speaker != \"None\"').groupby('speaker')['quoteID'].count().sort_values(ascending=False).to_frame()"
   ]
  },
  {
   "cell_type": "code",
   "execution_count": 184,
   "id": "8d7c8827-b23c-4b24-b6a1-850d8d543a76",
   "metadata": {},
   "outputs": [
    {
     "data": {
      "text/html": [
       "<div>\n",
       "<style scoped>\n",
       "    .dataframe tbody tr th:only-of-type {\n",
       "        vertical-align: middle;\n",
       "    }\n",
       "\n",
       "    .dataframe tbody tr th {\n",
       "        vertical-align: top;\n",
       "    }\n",
       "\n",
       "    .dataframe thead th {\n",
       "        text-align: right;\n",
       "    }\n",
       "</style>\n",
       "<table border=\"1\" class=\"dataframe\">\n",
       "  <thead>\n",
       "    <tr style=\"text-align: right;\">\n",
       "      <th></th>\n",
       "      <th>quoteID</th>\n",
       "    </tr>\n",
       "    <tr>\n",
       "      <th>speaker</th>\n",
       "      <th></th>\n",
       "    </tr>\n",
       "  </thead>\n",
       "  <tbody>\n",
       "    <tr>\n",
       "      <th>President Barack Obama</th>\n",
       "      <td>2304</td>\n",
       "    </tr>\n",
       "    <tr>\n",
       "      <th>Donald Trump</th>\n",
       "      <td>1714</td>\n",
       "    </tr>\n",
       "    <tr>\n",
       "      <th>Bernie Sanders</th>\n",
       "      <td>1413</td>\n",
       "    </tr>\n",
       "    <tr>\n",
       "      <th>António Guterres</th>\n",
       "      <td>1147</td>\n",
       "    </tr>\n",
       "    <tr>\n",
       "      <th>Jerry Brown</th>\n",
       "      <td>894</td>\n",
       "    </tr>\n",
       "    <tr>\n",
       "      <th>Jay Inslee</th>\n",
       "      <td>880</td>\n",
       "    </tr>\n",
       "    <tr>\n",
       "      <th>Catherine Mckenna</th>\n",
       "      <td>856</td>\n",
       "    </tr>\n",
       "    <tr>\n",
       "      <th>Greta Thunberg</th>\n",
       "      <td>855</td>\n",
       "    </tr>\n",
       "    <tr>\n",
       "      <th>Narendra Modi</th>\n",
       "      <td>835</td>\n",
       "    </tr>\n",
       "    <tr>\n",
       "      <th>Al Gore</th>\n",
       "      <td>791</td>\n",
       "    </tr>\n",
       "  </tbody>\n",
       "</table>\n",
       "</div>"
      ],
      "text/plain": [
       "                        quoteID\n",
       "speaker                        \n",
       "President Barack Obama     2304\n",
       "Donald Trump               1714\n",
       "Bernie Sanders             1413\n",
       "António Guterres           1147\n",
       "Jerry Brown                 894\n",
       "Jay Inslee                  880\n",
       "Catherine Mckenna           856\n",
       "Greta Thunberg              855\n",
       "Narendra Modi               835\n",
       "Al Gore                     791"
      ]
     },
     "execution_count": 184,
     "metadata": {},
     "output_type": "execute_result"
    }
   ],
   "source": [
    "selected_speakers[:10]"
   ]
  },
  {
   "cell_type": "code",
   "execution_count": 185,
   "id": "9f103602-541b-45b5-a508-fa81af0331ab",
   "metadata": {},
   "outputs": [
    {
     "data": {
      "text/html": [
       "<div>\n",
       "<style scoped>\n",
       "    .dataframe tbody tr th:only-of-type {\n",
       "        vertical-align: middle;\n",
       "    }\n",
       "\n",
       "    .dataframe tbody tr th {\n",
       "        vertical-align: top;\n",
       "    }\n",
       "\n",
       "    .dataframe thead th {\n",
       "        text-align: right;\n",
       "    }\n",
       "</style>\n",
       "<table border=\"1\" class=\"dataframe\">\n",
       "  <thead>\n",
       "    <tr style=\"text-align: right;\">\n",
       "      <th></th>\n",
       "      <th>quoteID</th>\n",
       "    </tr>\n",
       "    <tr>\n",
       "      <th>speaker</th>\n",
       "      <th></th>\n",
       "    </tr>\n",
       "  </thead>\n",
       "  <tbody>\n",
       "    <tr>\n",
       "      <th>President Barack Obama</th>\n",
       "      <td>2304</td>\n",
       "    </tr>\n",
       "  </tbody>\n",
       "</table>\n",
       "</div>"
      ],
      "text/plain": [
       "                        quoteID\n",
       "speaker                        \n",
       "President Barack Obama     2304"
      ]
     },
     "execution_count": 185,
     "metadata": {},
     "output_type": "execute_result"
    }
   ],
   "source": [
    "selected_speakers.query('speaker == \"President Barack Obama\"')"
   ]
  },
  {
   "cell_type": "code",
   "execution_count": 5,
   "id": "f125c16a-7ffb-4541-957c-b4a351f3f134",
   "metadata": {},
   "outputs": [],
   "source": [
    "speakers = climate_like_df.groupby('speaker')['quoteID'].count().sort_values(ascending=False)"
   ]
  },
  {
   "cell_type": "code",
   "execution_count": 6,
   "id": "164a4cc6-c9c6-4b75-a996-47030f0fce55",
   "metadata": {},
   "outputs": [
    {
     "data": {
      "text/plain": [
       "speaker\n",
       "None                7227\n",
       "Bernie Sanders       185\n",
       "Greta Thunberg       146\n",
       "Scott Morrison       123\n",
       "Larry Fink            95\n",
       "Jane Fonda            68\n",
       "Tom Steyer            68\n",
       "Joe Biden             66\n",
       "Joaquin Phoenix       65\n",
       "Antonio Guterres      65\n",
       "Pete Buttigieg        64\n",
       "Malcolm Turnbull      59\n",
       "Michael Mann          58\n",
       "Elizabeth Warren      56\n",
       "Boris Johnson         56\n",
       "Name: quoteID, dtype: int64"
      ]
     },
     "execution_count": 6,
     "metadata": {},
     "output_type": "execute_result"
    }
   ],
   "source": [
    "speakers.head(15)"
   ]
  }
 ],
 "metadata": {
  "kernelspec": {
   "display_name": "Python 3 (ipykernel)",
   "language": "python",
   "name": "python3"
  },
  "language_info": {
   "codemirror_mode": {
    "name": "ipython",
    "version": 3
   },
   "file_extension": ".py",
   "mimetype": "text/x-python",
   "name": "python",
   "nbconvert_exporter": "python",
   "pygments_lexer": "ipython3",
   "version": "3.9.7"
  }
 },
 "nbformat": 4,
 "nbformat_minor": 5
}
