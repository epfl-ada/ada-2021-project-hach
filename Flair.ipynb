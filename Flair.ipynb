{
 "cells": [
  {
   "cell_type": "code",
   "execution_count": 2,
   "id": "8e984e79-281e-425e-b661-2a65afc94f11",
   "metadata": {
    "execution": {
     "iopub.execute_input": "2021-11-07T15:48:46.864179Z",
     "iopub.status.busy": "2021-11-07T15:48:46.863644Z",
     "iopub.status.idle": "2021-11-07T15:48:47.048510Z",
     "shell.execute_reply": "2021-11-07T15:48:47.048075Z",
     "shell.execute_reply.started": "2021-11-07T15:48:46.864122Z"
    },
    "tags": []
   },
   "outputs": [],
   "source": [
    "import pandas as pd"
   ]
  },
  {
   "cell_type": "code",
   "execution_count": 8,
   "id": "0008f55b-0334-444e-89f2-829ba9ce358c",
   "metadata": {
    "execution": {
     "iopub.execute_input": "2021-11-07T15:49:08.108579Z",
     "iopub.status.busy": "2021-11-07T15:49:08.108000Z",
     "iopub.status.idle": "2021-11-07T15:49:20.847924Z",
     "shell.execute_reply": "2021-11-07T15:49:20.847298Z",
     "shell.execute_reply.started": "2021-11-07T15:49:08.108560Z"
    },
    "tags": []
   },
   "outputs": [
    {
     "name": "stdout",
     "output_type": "stream",
     "text": [
      "2021-11-07 15:49:12,676 loading file /home/ubuntu/.flair/models/sentiment-en-mix-distillbert_4.pt\n",
      "Sentence above is:  [POSITIVE (0.9997)]\n",
      "POSITIVE\n",
      " (0.9997)\n"
     ]
    }
   ],
   "source": [
    "from flair.models import TextClassifier\n",
    "from flair.data import Sentence\n",
    "classifier = TextClassifier.load('en-sentiment')\n",
    "sentence = Sentence('Flair is pretty neat!')\n",
    "classifier.predict(sentence)\n",
    "# print sentence with predicted labels\n",
    "print('Sentence above is: ', sentence.labels)\n",
    "print(str(sentence.labels[0])[0:8])\n",
    "print(str(sentence.labels[0])[8:])\n"
   ]
  },
  {
   "cell_type": "code",
   "execution_count": 3,
   "id": "e6884d94-f362-4b96-ae53-13c799d318f6",
   "metadata": {
    "execution": {
     "iopub.execute_input": "2021-11-07T15:48:49.814822Z",
     "iopub.status.busy": "2021-11-07T15:48:49.814490Z",
     "iopub.status.idle": "2021-11-07T15:48:50.381181Z",
     "shell.execute_reply": "2021-11-07T15:48:50.380774Z",
     "shell.execute_reply.started": "2021-11-07T15:48:49.814805Z"
    },
    "tags": []
   },
   "outputs": [],
   "source": [
    "df = pd.read_pickle('data/climate_df_2018.pkl')"
   ]
  },
  {
   "cell_type": "code",
   "execution_count": 4,
   "id": "4feb1bbe-e01b-4843-9ac5-dc454d384850",
   "metadata": {
    "execution": {
     "iopub.execute_input": "2021-11-07T15:48:50.382074Z",
     "iopub.status.busy": "2021-11-07T15:48:50.381956Z",
     "iopub.status.idle": "2021-11-07T15:48:50.401273Z",
     "shell.execute_reply": "2021-11-07T15:48:50.400958Z",
     "shell.execute_reply.started": "2021-11-07T15:48:50.382060Z"
    },
    "tags": []
   },
   "outputs": [
    {
     "data": {
      "text/html": [
       "<div>\n",
       "<style scoped>\n",
       "    .dataframe tbody tr th:only-of-type {\n",
       "        vertical-align: middle;\n",
       "    }\n",
       "\n",
       "    .dataframe tbody tr th {\n",
       "        vertical-align: top;\n",
       "    }\n",
       "\n",
       "    .dataframe thead th {\n",
       "        text-align: right;\n",
       "    }\n",
       "</style>\n",
       "<table border=\"1\" class=\"dataframe\">\n",
       "  <thead>\n",
       "    <tr style=\"text-align: right;\">\n",
       "      <th></th>\n",
       "      <th>quoteID</th>\n",
       "      <th>quotation</th>\n",
       "      <th>speaker</th>\n",
       "      <th>qids</th>\n",
       "      <th>date</th>\n",
       "      <th>numOccurrences</th>\n",
       "      <th>probas</th>\n",
       "      <th>urls</th>\n",
       "      <th>phase</th>\n",
       "    </tr>\n",
       "  </thead>\n",
       "  <tbody>\n",
       "    <tr>\n",
       "      <th>429</th>\n",
       "      <td>2018-03-06-005798</td>\n",
       "      <td>Alternative technologies outside North Carolin...</td>\n",
       "      <td>Mark Anderson</td>\n",
       "      <td>[Q16150195, Q16150206, Q16197597, Q20894995, Q...</td>\n",
       "      <td>2018-03-06 13:52:24</td>\n",
       "      <td>4</td>\n",
       "      <td>[[Mark Anderson, 0.94], [None, 0.06]]</td>\n",
       "      <td>[https://www.seattletimes.com/business/hog-ind...</td>\n",
       "      <td>E</td>\n",
       "    </tr>\n",
       "    <tr>\n",
       "      <th>771</th>\n",
       "      <td>2018-06-12-008636</td>\n",
       "      <td>As any farmer will tell you, June is a very di...</td>\n",
       "      <td>Erin Foster</td>\n",
       "      <td>[Q5389146, Q57081966]</td>\n",
       "      <td>2018-06-12 14:00:00</td>\n",
       "      <td>2</td>\n",
       "      <td>[[Erin Foster, 0.606], [None, 0.394]]</td>\n",
       "      <td>[http://www.southwestfarmpress.com/farm-policy...</td>\n",
       "      <td>E</td>\n",
       "    </tr>\n",
       "    <tr>\n",
       "      <th>839</th>\n",
       "      <td>2018-11-14-010036</td>\n",
       "      <td>At 3AM when I stare at the ceiling and worry a...</td>\n",
       "      <td>PETER THOMSON</td>\n",
       "      <td>[Q1359387, Q21289642, Q21464307, Q22213056, Q3...</td>\n",
       "      <td>2018-11-14 19:28:55</td>\n",
       "      <td>3</td>\n",
       "      <td>[[PETER THOMSON, 0.5299], [None, 0.4701]]</td>\n",
       "      <td>[http://www.ipsnews.net/2018/11/qa-sustainable...</td>\n",
       "      <td>E</td>\n",
       "    </tr>\n",
       "    <tr>\n",
       "      <th>1312</th>\n",
       "      <td>2018-12-10-013086</td>\n",
       "      <td>By 2030 the human-machine/AI collaboration wil...</td>\n",
       "      <td>None</td>\n",
       "      <td>[]</td>\n",
       "      <td>2018-12-10 16:55:56</td>\n",
       "      <td>1</td>\n",
       "      <td>[[None, 0.5226], [John C. Havens, 0.4774]]</td>\n",
       "      <td>[http://www.pewinternet.org/2018/12/10/artific...</td>\n",
       "      <td>E</td>\n",
       "    </tr>\n",
       "    <tr>\n",
       "      <th>1434</th>\n",
       "      <td>2018-11-28-015410</td>\n",
       "      <td>Climate change is directly impacting our healt...</td>\n",
       "      <td>Howard Frumkin</td>\n",
       "      <td>[Q40165933]</td>\n",
       "      <td>2018-11-28 23:41:00</td>\n",
       "      <td>6</td>\n",
       "      <td>[[Howard Frumkin, 0.9444], [None, 0.0557]]</td>\n",
       "      <td>[http://news.trust.org/item/20181128232622-2gv...</td>\n",
       "      <td>E</td>\n",
       "    </tr>\n",
       "  </tbody>\n",
       "</table>\n",
       "</div>"
      ],
      "text/plain": [
       "                quoteID                                          quotation  \\\n",
       "429   2018-03-06-005798  Alternative technologies outside North Carolin...   \n",
       "771   2018-06-12-008636  As any farmer will tell you, June is a very di...   \n",
       "839   2018-11-14-010036  At 3AM when I stare at the ceiling and worry a...   \n",
       "1312  2018-12-10-013086  By 2030 the human-machine/AI collaboration wil...   \n",
       "1434  2018-11-28-015410  Climate change is directly impacting our healt...   \n",
       "\n",
       "             speaker                                               qids  \\\n",
       "429    Mark Anderson  [Q16150195, Q16150206, Q16197597, Q20894995, Q...   \n",
       "771      Erin Foster                              [Q5389146, Q57081966]   \n",
       "839    PETER THOMSON  [Q1359387, Q21289642, Q21464307, Q22213056, Q3...   \n",
       "1312            None                                                 []   \n",
       "1434  Howard Frumkin                                        [Q40165933]   \n",
       "\n",
       "                    date  numOccurrences  \\\n",
       "429  2018-03-06 13:52:24               4   \n",
       "771  2018-06-12 14:00:00               2   \n",
       "839  2018-11-14 19:28:55               3   \n",
       "1312 2018-12-10 16:55:56               1   \n",
       "1434 2018-11-28 23:41:00               6   \n",
       "\n",
       "                                          probas  \\\n",
       "429        [[Mark Anderson, 0.94], [None, 0.06]]   \n",
       "771        [[Erin Foster, 0.606], [None, 0.394]]   \n",
       "839    [[PETER THOMSON, 0.5299], [None, 0.4701]]   \n",
       "1312  [[None, 0.5226], [John C. Havens, 0.4774]]   \n",
       "1434  [[Howard Frumkin, 0.9444], [None, 0.0557]]   \n",
       "\n",
       "                                                   urls phase  \n",
       "429   [https://www.seattletimes.com/business/hog-ind...     E  \n",
       "771   [http://www.southwestfarmpress.com/farm-policy...     E  \n",
       "839   [http://www.ipsnews.net/2018/11/qa-sustainable...     E  \n",
       "1312  [http://www.pewinternet.org/2018/12/10/artific...     E  \n",
       "1434  [http://news.trust.org/item/20181128232622-2gv...     E  "
      ]
     },
     "execution_count": 4,
     "metadata": {},
     "output_type": "execute_result"
    }
   ],
   "source": [
    "df.head()"
   ]
  },
  {
   "cell_type": "code",
   "execution_count": 6,
   "id": "5a04249c-c8ef-4b80-b56a-6e180b7177ed",
   "metadata": {
    "execution": {
     "iopub.execute_input": "2021-11-07T14:46:47.774022Z",
     "iopub.status.busy": "2021-11-07T14:46:47.773904Z",
     "iopub.status.idle": "2021-11-07T14:46:47.813561Z",
     "shell.execute_reply": "2021-11-07T14:46:47.813037Z",
     "shell.execute_reply.started": "2021-11-07T14:46:47.774007Z"
    },
    "tags": []
   },
   "outputs": [
    {
     "data": {
      "text/plain": [
       "speaker\n",
       "None                        17477\n",
       "Catherine McKenna             272\n",
       "Jerry Brown                   227\n",
       "Antonio Guterres              194\n",
       "Michael Mann                  193\n",
       "Narendra Modi                 186\n",
       "President Donald Trump        154\n",
       "Al Gore                       144\n",
       "Justin Trudeau                140\n",
       "Patricia Espinosa             133\n",
       "Emmanuel Macron               131\n",
       "Bill McKibben                 116\n",
       "Jay Inslee                    116\n",
       "President Trump               106\n",
       "Scott Pruitt                  104\n",
       "Michael Bloomberg              95\n",
       "António Guterres               95\n",
       "James Shaw                     91\n",
       "Bernie Sanders                 84\n",
       "Jacinda Ardern                 80\n",
       "Pope Francis                   75\n",
       "Claire Perry                   74\n",
       "Malcolm Turnbull               72\n",
       "Andrew Weaver                  70\n",
       "Katharine Hayhoe               70\n",
       "Andrew Cuomo                   68\n",
       "Bill de Blasio                 61\n",
       "Michael Brune                  61\n",
       "Dabo Guan                      60\n",
       "Alexandria Ocasio-Cortez       60\n",
       "Name: quoteID, dtype: int64"
      ]
     },
     "execution_count": 6,
     "metadata": {},
     "output_type": "execute_result"
    }
   ],
   "source": [
    "df.groupby('speaker')['quoteID'].count().sort_values(ascending=False).head(30)"
   ]
  },
  {
   "cell_type": "code",
   "execution_count": 7,
   "id": "02901bbd-890f-4de7-8e20-fc143bb43dfe",
   "metadata": {
    "execution": {
     "iopub.execute_input": "2021-11-07T14:46:47.814507Z",
     "iopub.status.busy": "2021-11-07T14:46:47.814374Z",
     "iopub.status.idle": "2021-11-07T14:46:47.832467Z",
     "shell.execute_reply": "2021-11-07T14:46:47.831865Z",
     "shell.execute_reply.started": "2021-11-07T14:46:47.814491Z"
    },
    "tags": []
   },
   "outputs": [],
   "source": [
    "df['month'] = df.quoteID.str.slice(start=5, stop=7)"
   ]
  },
  {
   "cell_type": "code",
   "execution_count": 11,
   "id": "6d83e3e5-aef6-4110-9653-6fffea9509a9",
   "metadata": {
    "execution": {
     "iopub.execute_input": "2021-11-07T14:51:09.625002Z",
     "iopub.status.busy": "2021-11-07T14:51:09.624684Z",
     "iopub.status.idle": "2021-11-07T14:51:09.643009Z",
     "shell.execute_reply": "2021-11-07T14:51:09.642524Z",
     "shell.execute_reply.started": "2021-11-07T14:51:09.624983Z"
    }
   },
   "outputs": [],
   "source": [
    "df['date'] = df.quoteID.str.slice(stop=10)"
   ]
  },
  {
   "cell_type": "code",
   "execution_count": 13,
   "id": "c8b76503-6bde-49e4-99c1-28b3490ce31f",
   "metadata": {
    "execution": {
     "iopub.execute_input": "2021-11-07T14:51:52.622391Z",
     "iopub.status.busy": "2021-11-07T14:51:52.622014Z",
     "iopub.status.idle": "2021-11-07T14:51:52.645352Z",
     "shell.execute_reply": "2021-11-07T14:51:52.644921Z",
     "shell.execute_reply.started": "2021-11-07T14:51:52.622372Z"
    },
    "tags": []
   },
   "outputs": [],
   "source": [
    "days = df.groupby('date')['quoteID'].count()"
   ]
  },
  {
   "cell_type": "code",
   "execution_count": 6,
   "id": "cea31a1c-c905-4484-a1f5-5ad2835c2284",
   "metadata": {
    "execution": {
     "iopub.execute_input": "2021-11-07T15:49:01.695604Z",
     "iopub.status.busy": "2021-11-07T15:49:01.695117Z",
     "iopub.status.idle": "2021-11-07T15:49:01.698465Z",
     "shell.execute_reply": "2021-11-07T15:49:01.698007Z",
     "shell.execute_reply.started": "2021-11-07T15:49:01.695569Z"
    },
    "tags": []
   },
   "outputs": [],
   "source": [
    "def get_sentiment_score(text): \n",
    "    sentence = Sentence(text)\n",
    "    classifier.predict(sentence)\n",
    "    return str(sentence.labels[0])[9:]"
   ]
  },
  {
   "cell_type": "code",
   "execution_count": 9,
   "id": "7c66b911-c1b0-4a1f-bfae-5598c7c359f6",
   "metadata": {
    "execution": {
     "iopub.execute_input": "2021-11-07T15:54:44.657490Z",
     "iopub.status.busy": "2021-11-07T15:54:44.657059Z",
     "iopub.status.idle": "2021-11-07T16:19:29.605895Z",
     "shell.execute_reply": "2021-11-07T16:19:29.605508Z",
     "shell.execute_reply.started": "2021-11-07T15:54:44.657456Z"
    },
    "tags": []
   },
   "outputs": [],
   "source": [
    "df['sentiment'] = df.apply(lambda x : get_sentiment_score(x.quotation), axis=1)"
   ]
  },
  {
   "cell_type": "code",
   "execution_count": 11,
   "id": "e9c376ce-2626-4a12-870a-3abaf5138f74",
   "metadata": {
    "execution": {
     "iopub.execute_input": "2021-11-07T16:21:13.117516Z",
     "iopub.status.busy": "2021-11-07T16:21:13.116915Z",
     "iopub.status.idle": "2021-11-07T16:21:13.372750Z",
     "shell.execute_reply": "2021-11-07T16:21:13.372333Z",
     "shell.execute_reply.started": "2021-11-07T16:21:13.117492Z"
    },
    "tags": []
   },
   "outputs": [],
   "source": [
    "df.to_pickle('data/climate_df_sentiments_2018.pkl')"
   ]
  },
  {
   "cell_type": "code",
   "execution_count": null,
   "id": "94aaf478-bf9b-4607-b975-aeea6ca96e92",
   "metadata": {},
   "outputs": [],
   "source": []
  }
 ],
 "metadata": {
  "kernelspec": {
   "display_name": "Python 3 (ipykernel)",
   "language": "python",
   "name": "python3"
  },
  "language_info": {
   "codemirror_mode": {
    "name": "ipython",
    "version": 3
   },
   "file_extension": ".py",
   "mimetype": "text/x-python",
   "name": "python",
   "nbconvert_exporter": "python",
   "pygments_lexer": "ipython3",
   "version": "3.8.12"
  }
 },
 "nbformat": 4,
 "nbformat_minor": 5
}
