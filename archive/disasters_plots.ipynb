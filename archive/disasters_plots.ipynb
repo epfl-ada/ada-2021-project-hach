{
 "cells": [
  {
   "cell_type": "markdown",
   "id": "1180ec2e-4059-4f93-90b3-13dcf3907164",
   "metadata": {},
   "source": [
    "# Natural disasters data"
   ]
  },
  {
   "cell_type": "markdown",
   "id": "b336cc9b-1515-402d-9a90-df7258a2e1d6",
   "metadata": {},
   "source": [
    "In order to have a global view on our \"climate change\" topic, we also needed information about the natural disasters. The kind of events recorded in the dataset we are using are listed here : https://www.nws.noaa.gov/directives/sym/pd01016005curr.pdf.\n",
    "<br>\n",
    "<br>\n",
    "The dataset was created and maintained since 1950 by the national centers for environmental information in the USA. You can download the dataset from this link : https://www.ncdc.noaa.gov/stormevents/ftp.jsp."
   ]
  },
  {
   "cell_type": "markdown",
   "id": "b4455872-6fe3-4383-9593-7fe2ee517130",
   "metadata": {},
   "source": [
    "# 1. Imports"
   ]
  },
  {
   "cell_type": "code",
   "execution_count": 1,
   "id": "45b202d8-ed96-4ab3-8fe9-9ccce3ee3059",
   "metadata": {},
   "outputs": [],
   "source": [
    "# Imports for work in this notebook\n",
    "import pandas as pd\n",
    "from os import listdir\n",
    "from os.path import join\n",
    "import matplotlib.pyplot as plt\n",
    "import seaborn as sns\n",
    "import datetime\n",
    "import numpy as np\n",
    "from fastdtw import fastdtw\n",
    "\n",
    "# Imports from results obtained by the team\n",
    "from hach.cleaning import clean_df\n",
    "\n",
    "# Options to make the whole notebook smoother\n",
    "%matplotlib inline\n",
    "pd.options.mode.chained_assignment = None  # default='warn'\n",
    "import warnings\n",
    "warnings.filterwarnings(\"ignore\")"
   ]
  },
  {
   "cell_type": "markdown",
   "id": "32bcbe7a-8fac-486a-afdb-63afbc958d32",
   "metadata": {},
   "source": [
    "# 2. Loading Dataset\n",
    "The dataset is split across mulitple files, from different years, of 3 types :\n",
    "* Locations\n",
    "* Fatalities\n",
    "* Details\n",
    "\n",
    "We have therefore combined all years of a type into one dataframe, so that we obtain 3 dataframes from the 3 different types."
   ]
  },
  {
   "cell_type": "markdown",
   "id": "23d619ad-910c-454d-b5bd-e8f4a7bcc7cb",
   "metadata": {},
   "source": [
    "### 2.1. Loading all files and performing the split"
   ]
  },
  {
   "cell_type": "code",
   "execution_count": 2,
   "id": "11230517-6455-4384-97e7-3c0345406cf4",
   "metadata": {},
   "outputs": [],
   "source": [
    "# Fetch all files in directory\n",
    "files = [f for f in listdir('data/US - Storm Events/')]\n",
    "\n",
    "# Load data from differnt files into array\n",
    "dfs_loc = []\n",
    "dfs_fat = []\n",
    "dfs_det = []\n",
    "\n",
    "for i in range(len(files)):\n",
    "    filename = files[i]\n",
    "    df = pd.read_csv(join('data/US - Storm Events/', filename), compression='gzip')\n",
    "    \n",
    "    if filename.startswith('StormEvents_locations'):\n",
    "        dfs_loc.append(df)\n",
    "    elif filename.startswith('StormEvents_fatalities'):\n",
    "        dfs_fat.append(df)\n",
    "    else:\n",
    "        dfs_det.append(df)\n",
    "    \n",
    "df_loc = pd.concat(dfs_loc)\n",
    "df_fat = pd.concat(dfs_fat)\n",
    "df_det = pd.concat(dfs_det)"
   ]
  },
  {
   "cell_type": "markdown",
   "id": "262f59cb-f1d7-477d-96f3-edab23a0e4fe",
   "metadata": {},
   "source": [
    "### 2.2. Analysing content of each dataset"
   ]
  },
  {
   "cell_type": "code",
   "execution_count": 3,
   "id": "0dea1d8f-8811-4065-b7c9-7d060e7c5138",
   "metadata": {},
   "outputs": [
    {
     "data": {
      "text/html": [
       "<div>\n",
       "<style scoped>\n",
       "    .dataframe tbody tr th:only-of-type {\n",
       "        vertical-align: middle;\n",
       "    }\n",
       "\n",
       "    .dataframe tbody tr th {\n",
       "        vertical-align: top;\n",
       "    }\n",
       "\n",
       "    .dataframe thead th {\n",
       "        text-align: right;\n",
       "    }\n",
       "</style>\n",
       "<table border=\"1\" class=\"dataframe\">\n",
       "  <thead>\n",
       "    <tr style=\"text-align: right;\">\n",
       "      <th></th>\n",
       "      <th>YEARMONTH</th>\n",
       "      <th>EPISODE_ID</th>\n",
       "      <th>EVENT_ID</th>\n",
       "      <th>LOCATION_INDEX</th>\n",
       "      <th>RANGE</th>\n",
       "      <th>AZIMUTH</th>\n",
       "      <th>LOCATION</th>\n",
       "      <th>LATITUDE</th>\n",
       "      <th>LONGITUDE</th>\n",
       "      <th>LAT2</th>\n",
       "      <th>LON2</th>\n",
       "    </tr>\n",
       "  </thead>\n",
       "  <tbody>\n",
       "    <tr>\n",
       "      <th>0</th>\n",
       "      <td>201808</td>\n",
       "      <td>130479</td>\n",
       "      <td>780978</td>\n",
       "      <td>2</td>\n",
       "      <td>3.01</td>\n",
       "      <td>SSW</td>\n",
       "      <td>JACKSONVILLE</td>\n",
       "      <td>30.3100</td>\n",
       "      <td>-81.6900</td>\n",
       "      <td>3018600</td>\n",
       "      <td>8141400</td>\n",
       "    </tr>\n",
       "    <tr>\n",
       "      <th>1</th>\n",
       "      <td>201808</td>\n",
       "      <td>130479</td>\n",
       "      <td>780978</td>\n",
       "      <td>3</td>\n",
       "      <td>2.08</td>\n",
       "      <td>SSW</td>\n",
       "      <td>JACKSONVILLE</td>\n",
       "      <td>30.3238</td>\n",
       "      <td>-81.6871</td>\n",
       "      <td>3019428</td>\n",
       "      <td>8141226</td>\n",
       "    </tr>\n",
       "    <tr>\n",
       "      <th>2</th>\n",
       "      <td>201808</td>\n",
       "      <td>130479</td>\n",
       "      <td>780978</td>\n",
       "      <td>4</td>\n",
       "      <td>2.64</td>\n",
       "      <td>SSW</td>\n",
       "      <td>LAKE FOREST</td>\n",
       "      <td>30.3158</td>\n",
       "      <td>-81.6497</td>\n",
       "      <td>3018948</td>\n",
       "      <td>8138982</td>\n",
       "    </tr>\n",
       "    <tr>\n",
       "      <th>3</th>\n",
       "      <td>201808</td>\n",
       "      <td>130476</td>\n",
       "      <td>782301</td>\n",
       "      <td>4</td>\n",
       "      <td>1.52</td>\n",
       "      <td>NW</td>\n",
       "      <td>WEST AUBURN</td>\n",
       "      <td>41.7437</td>\n",
       "      <td>-76.1232</td>\n",
       "      <td>4144622</td>\n",
       "      <td>767392</td>\n",
       "    </tr>\n",
       "    <tr>\n",
       "      <th>4</th>\n",
       "      <td>201808</td>\n",
       "      <td>130476</td>\n",
       "      <td>782300</td>\n",
       "      <td>3</td>\n",
       "      <td>1.00</td>\n",
       "      <td>SSE</td>\n",
       "      <td>DIMOCK</td>\n",
       "      <td>41.7361</td>\n",
       "      <td>-75.8946</td>\n",
       "      <td>4144166</td>\n",
       "      <td>7553676</td>\n",
       "    </tr>\n",
       "  </tbody>\n",
       "</table>\n",
       "</div>"
      ],
      "text/plain": [
       "   YEARMONTH  EPISODE_ID  EVENT_ID  LOCATION_INDEX  RANGE AZIMUTH  \\\n",
       "0     201808      130479    780978               2   3.01     SSW   \n",
       "1     201808      130479    780978               3   2.08     SSW   \n",
       "2     201808      130479    780978               4   2.64     SSW   \n",
       "3     201808      130476    782301               4   1.52      NW   \n",
       "4     201808      130476    782300               3   1.00     SSE   \n",
       "\n",
       "       LOCATION  LATITUDE  LONGITUDE     LAT2     LON2  \n",
       "0  JACKSONVILLE   30.3100   -81.6900  3018600  8141400  \n",
       "1  JACKSONVILLE   30.3238   -81.6871  3019428  8141226  \n",
       "2   LAKE FOREST   30.3158   -81.6497  3018948  8138982  \n",
       "3   WEST AUBURN   41.7437   -76.1232  4144622   767392  \n",
       "4        DIMOCK   41.7361   -75.8946  4144166  7553676  "
      ]
     },
     "execution_count": 3,
     "metadata": {},
     "output_type": "execute_result"
    }
   ],
   "source": [
    "df_loc.head()"
   ]
  },
  {
   "cell_type": "code",
   "execution_count": 4,
   "id": "7a273e6b-68ff-4372-9d9b-170b82cc77cd",
   "metadata": {},
   "outputs": [
    {
     "data": {
      "text/html": [
       "<div>\n",
       "<style scoped>\n",
       "    .dataframe tbody tr th:only-of-type {\n",
       "        vertical-align: middle;\n",
       "    }\n",
       "\n",
       "    .dataframe tbody tr th {\n",
       "        vertical-align: top;\n",
       "    }\n",
       "\n",
       "    .dataframe thead th {\n",
       "        text-align: right;\n",
       "    }\n",
       "</style>\n",
       "<table border=\"1\" class=\"dataframe\">\n",
       "  <thead>\n",
       "    <tr style=\"text-align: right;\">\n",
       "      <th></th>\n",
       "      <th>FAT_YEARMONTH</th>\n",
       "      <th>FAT_DAY</th>\n",
       "      <th>FAT_TIME</th>\n",
       "      <th>FATALITY_ID</th>\n",
       "      <th>EVENT_ID</th>\n",
       "      <th>FATALITY_TYPE</th>\n",
       "      <th>FATALITY_DATE</th>\n",
       "      <th>FATALITY_AGE</th>\n",
       "      <th>FATALITY_SEX</th>\n",
       "      <th>FATALITY_LOCATION</th>\n",
       "      <th>EVENT_YEARMONTH</th>\n",
       "    </tr>\n",
       "  </thead>\n",
       "  <tbody>\n",
       "    <tr>\n",
       "      <th>0</th>\n",
       "      <td>201804</td>\n",
       "      <td>13</td>\n",
       "      <td>0</td>\n",
       "      <td>35464</td>\n",
       "      <td>753636</td>\n",
       "      <td>I</td>\n",
       "      <td>04/13/2018 00:00:00</td>\n",
       "      <td>NaN</td>\n",
       "      <td>M</td>\n",
       "      <td>Outside/Open Areas</td>\n",
       "      <td>201804.0</td>\n",
       "    </tr>\n",
       "    <tr>\n",
       "      <th>1</th>\n",
       "      <td>201805</td>\n",
       "      <td>28</td>\n",
       "      <td>0</td>\n",
       "      <td>35476</td>\n",
       "      <td>754296</td>\n",
       "      <td>D</td>\n",
       "      <td>05/28/2018 00:00:00</td>\n",
       "      <td>7.0</td>\n",
       "      <td>M</td>\n",
       "      <td>Under Tree</td>\n",
       "      <td>201805.0</td>\n",
       "    </tr>\n",
       "    <tr>\n",
       "      <th>2</th>\n",
       "      <td>201805</td>\n",
       "      <td>9</td>\n",
       "      <td>0</td>\n",
       "      <td>39699</td>\n",
       "      <td>854804</td>\n",
       "      <td>I</td>\n",
       "      <td>05/09/2018 00:00:00</td>\n",
       "      <td>NaN</td>\n",
       "      <td>NaN</td>\n",
       "      <td>Unknown</td>\n",
       "      <td>201805.0</td>\n",
       "    </tr>\n",
       "    <tr>\n",
       "      <th>3</th>\n",
       "      <td>201807</td>\n",
       "      <td>23</td>\n",
       "      <td>0</td>\n",
       "      <td>39903</td>\n",
       "      <td>862273</td>\n",
       "      <td>D</td>\n",
       "      <td>07/23/2018 00:00:00</td>\n",
       "      <td>NaN</td>\n",
       "      <td>NaN</td>\n",
       "      <td>Unknown</td>\n",
       "      <td>201807.0</td>\n",
       "    </tr>\n",
       "    <tr>\n",
       "      <th>4</th>\n",
       "      <td>201807</td>\n",
       "      <td>26</td>\n",
       "      <td>0</td>\n",
       "      <td>39914</td>\n",
       "      <td>862273</td>\n",
       "      <td>D</td>\n",
       "      <td>07/26/2018 00:00:00</td>\n",
       "      <td>NaN</td>\n",
       "      <td>NaN</td>\n",
       "      <td>Unknown</td>\n",
       "      <td>201807.0</td>\n",
       "    </tr>\n",
       "  </tbody>\n",
       "</table>\n",
       "</div>"
      ],
      "text/plain": [
       "   FAT_YEARMONTH  FAT_DAY  FAT_TIME  FATALITY_ID  EVENT_ID FATALITY_TYPE  \\\n",
       "0         201804       13         0        35464    753636             I   \n",
       "1         201805       28         0        35476    754296             D   \n",
       "2         201805        9         0        39699    854804             I   \n",
       "3         201807       23         0        39903    862273             D   \n",
       "4         201807       26         0        39914    862273             D   \n",
       "\n",
       "         FATALITY_DATE  FATALITY_AGE FATALITY_SEX   FATALITY_LOCATION  \\\n",
       "0  04/13/2018 00:00:00           NaN            M  Outside/Open Areas   \n",
       "1  05/28/2018 00:00:00           7.0            M          Under Tree   \n",
       "2  05/09/2018 00:00:00           NaN          NaN             Unknown   \n",
       "3  07/23/2018 00:00:00           NaN          NaN             Unknown   \n",
       "4  07/26/2018 00:00:00           NaN          NaN             Unknown   \n",
       "\n",
       "   EVENT_YEARMONTH  \n",
       "0         201804.0  \n",
       "1         201805.0  \n",
       "2         201805.0  \n",
       "3         201807.0  \n",
       "4         201807.0  "
      ]
     },
     "execution_count": 4,
     "metadata": {},
     "output_type": "execute_result"
    }
   ],
   "source": [
    "df_fat.head()"
   ]
  },
  {
   "cell_type": "code",
   "execution_count": 5,
   "id": "5bca405a-461e-4df5-912b-b1d9f3da2a55",
   "metadata": {},
   "outputs": [
    {
     "data": {
      "text/html": [
       "<div>\n",
       "<style scoped>\n",
       "    .dataframe tbody tr th:only-of-type {\n",
       "        vertical-align: middle;\n",
       "    }\n",
       "\n",
       "    .dataframe tbody tr th {\n",
       "        vertical-align: top;\n",
       "    }\n",
       "\n",
       "    .dataframe thead th {\n",
       "        text-align: right;\n",
       "    }\n",
       "</style>\n",
       "<table border=\"1\" class=\"dataframe\">\n",
       "  <thead>\n",
       "    <tr style=\"text-align: right;\">\n",
       "      <th></th>\n",
       "      <th>BEGIN_YEARMONTH</th>\n",
       "      <th>BEGIN_DAY</th>\n",
       "      <th>BEGIN_TIME</th>\n",
       "      <th>END_YEARMONTH</th>\n",
       "      <th>END_DAY</th>\n",
       "      <th>END_TIME</th>\n",
       "      <th>EPISODE_ID</th>\n",
       "      <th>EVENT_ID</th>\n",
       "      <th>STATE</th>\n",
       "      <th>STATE_FIPS</th>\n",
       "      <th>...</th>\n",
       "      <th>END_RANGE</th>\n",
       "      <th>END_AZIMUTH</th>\n",
       "      <th>END_LOCATION</th>\n",
       "      <th>BEGIN_LAT</th>\n",
       "      <th>BEGIN_LON</th>\n",
       "      <th>END_LAT</th>\n",
       "      <th>END_LON</th>\n",
       "      <th>EPISODE_NARRATIVE</th>\n",
       "      <th>EVENT_NARRATIVE</th>\n",
       "      <th>DATA_SOURCE</th>\n",
       "    </tr>\n",
       "  </thead>\n",
       "  <tbody>\n",
       "    <tr>\n",
       "      <th>0</th>\n",
       "      <td>201905</td>\n",
       "      <td>9</td>\n",
       "      <td>1554</td>\n",
       "      <td>201905</td>\n",
       "      <td>9</td>\n",
       "      <td>1830</td>\n",
       "      <td>137295</td>\n",
       "      <td>824116</td>\n",
       "      <td>TEXAS</td>\n",
       "      <td>48</td>\n",
       "      <td>...</td>\n",
       "      <td>7.0</td>\n",
       "      <td>NNE</td>\n",
       "      <td>SAN GERONIMO</td>\n",
       "      <td>29.7898</td>\n",
       "      <td>-98.6406</td>\n",
       "      <td>29.7158</td>\n",
       "      <td>-98.7744</td>\n",
       "      <td>Thunderstorms developed along a cold front as ...</td>\n",
       "      <td>Thunderstorms produced heavy rain that led to ...</td>\n",
       "      <td>CSV</td>\n",
       "    </tr>\n",
       "    <tr>\n",
       "      <th>1</th>\n",
       "      <td>201907</td>\n",
       "      <td>15</td>\n",
       "      <td>1640</td>\n",
       "      <td>201907</td>\n",
       "      <td>15</td>\n",
       "      <td>1641</td>\n",
       "      <td>140217</td>\n",
       "      <td>843354</td>\n",
       "      <td>MINNESOTA</td>\n",
       "      <td>27</td>\n",
       "      <td>...</td>\n",
       "      <td>5.0</td>\n",
       "      <td>E</td>\n",
       "      <td>ROCK CREEK</td>\n",
       "      <td>45.7700</td>\n",
       "      <td>-92.8700</td>\n",
       "      <td>45.7700</td>\n",
       "      <td>-92.8700</td>\n",
       "      <td>An area of low pressure over southern Manitoba...</td>\n",
       "      <td>A 14-inch tree fell due to the winds and damag...</td>\n",
       "      <td>CSV</td>\n",
       "    </tr>\n",
       "    <tr>\n",
       "      <th>2</th>\n",
       "      <td>201909</td>\n",
       "      <td>4</td>\n",
       "      <td>1229</td>\n",
       "      <td>201909</td>\n",
       "      <td>4</td>\n",
       "      <td>1229</td>\n",
       "      <td>141212</td>\n",
       "      <td>848333</td>\n",
       "      <td>VERMONT</td>\n",
       "      <td>50</td>\n",
       "      <td>...</td>\n",
       "      <td>1.0</td>\n",
       "      <td>W</td>\n",
       "      <td>LUDLOW</td>\n",
       "      <td>43.4000</td>\n",
       "      <td>-72.7200</td>\n",
       "      <td>43.4000</td>\n",
       "      <td>-72.7200</td>\n",
       "      <td>A strong mid-level disturbance and cold front ...</td>\n",
       "      <td>Quarter size hail reported at Okemo Ski resort.</td>\n",
       "      <td>CSV</td>\n",
       "    </tr>\n",
       "    <tr>\n",
       "      <th>3</th>\n",
       "      <td>201909</td>\n",
       "      <td>26</td>\n",
       "      <td>1554</td>\n",
       "      <td>201909</td>\n",
       "      <td>26</td>\n",
       "      <td>1554</td>\n",
       "      <td>141215</td>\n",
       "      <td>848338</td>\n",
       "      <td>NEW YORK</td>\n",
       "      <td>36</td>\n",
       "      <td>...</td>\n",
       "      <td>5.0</td>\n",
       "      <td>SW</td>\n",
       "      <td>MADRID</td>\n",
       "      <td>44.6988</td>\n",
       "      <td>-75.2220</td>\n",
       "      <td>44.6988</td>\n",
       "      <td>-75.2220</td>\n",
       "      <td>A strong mid-level disturbance and cold front ...</td>\n",
       "      <td>A few trees and power lines downed by thunders...</td>\n",
       "      <td>CSV</td>\n",
       "    </tr>\n",
       "    <tr>\n",
       "      <th>4</th>\n",
       "      <td>201902</td>\n",
       "      <td>19</td>\n",
       "      <td>2226</td>\n",
       "      <td>201902</td>\n",
       "      <td>19</td>\n",
       "      <td>2350</td>\n",
       "      <td>134941</td>\n",
       "      <td>808922</td>\n",
       "      <td>ARKANSAS</td>\n",
       "      <td>5</td>\n",
       "      <td>...</td>\n",
       "      <td>NaN</td>\n",
       "      <td>NaN</td>\n",
       "      <td>NaN</td>\n",
       "      <td>NaN</td>\n",
       "      <td>NaN</td>\n",
       "      <td>NaN</td>\n",
       "      <td>NaN</td>\n",
       "      <td>Rain was heavy at times on the 19th, and there...</td>\n",
       "      <td>One-quarter inch of freezing rain was measured...</td>\n",
       "      <td>CSV</td>\n",
       "    </tr>\n",
       "  </tbody>\n",
       "</table>\n",
       "<p>5 rows × 51 columns</p>\n",
       "</div>"
      ],
      "text/plain": [
       "   BEGIN_YEARMONTH  BEGIN_DAY  BEGIN_TIME  END_YEARMONTH  END_DAY  END_TIME  \\\n",
       "0           201905          9        1554         201905        9      1830   \n",
       "1           201907         15        1640         201907       15      1641   \n",
       "2           201909          4        1229         201909        4      1229   \n",
       "3           201909         26        1554         201909       26      1554   \n",
       "4           201902         19        2226         201902       19      2350   \n",
       "\n",
       "   EPISODE_ID  EVENT_ID      STATE  STATE_FIPS  ...  END_RANGE END_AZIMUTH  \\\n",
       "0      137295    824116      TEXAS          48  ...        7.0         NNE   \n",
       "1      140217    843354  MINNESOTA          27  ...        5.0           E   \n",
       "2      141212    848333    VERMONT          50  ...        1.0           W   \n",
       "3      141215    848338   NEW YORK          36  ...        5.0          SW   \n",
       "4      134941    808922   ARKANSAS           5  ...        NaN         NaN   \n",
       "\n",
       "   END_LOCATION BEGIN_LAT  BEGIN_LON  END_LAT  END_LON  \\\n",
       "0  SAN GERONIMO   29.7898   -98.6406  29.7158 -98.7744   \n",
       "1    ROCK CREEK   45.7700   -92.8700  45.7700 -92.8700   \n",
       "2        LUDLOW   43.4000   -72.7200  43.4000 -72.7200   \n",
       "3        MADRID   44.6988   -75.2220  44.6988 -75.2220   \n",
       "4           NaN       NaN        NaN      NaN      NaN   \n",
       "\n",
       "                                   EPISODE_NARRATIVE  \\\n",
       "0  Thunderstorms developed along a cold front as ...   \n",
       "1  An area of low pressure over southern Manitoba...   \n",
       "2  A strong mid-level disturbance and cold front ...   \n",
       "3  A strong mid-level disturbance and cold front ...   \n",
       "4  Rain was heavy at times on the 19th, and there...   \n",
       "\n",
       "                                     EVENT_NARRATIVE DATA_SOURCE  \n",
       "0  Thunderstorms produced heavy rain that led to ...         CSV  \n",
       "1  A 14-inch tree fell due to the winds and damag...         CSV  \n",
       "2    Quarter size hail reported at Okemo Ski resort.         CSV  \n",
       "3  A few trees and power lines downed by thunders...         CSV  \n",
       "4  One-quarter inch of freezing rain was measured...         CSV  \n",
       "\n",
       "[5 rows x 51 columns]"
      ]
     },
     "execution_count": 5,
     "metadata": {},
     "output_type": "execute_result"
    }
   ],
   "source": [
    "df_det.head() "
   ]
  },
  {
   "cell_type": "markdown",
   "id": "b20bde5f-e792-4700-a8b6-e7506f5c9077",
   "metadata": {},
   "source": [
    "# 3. Dataframe preparation\n",
    "From our lookup of the 3 dataframes, we've come to the conclusion all the necessary and relevant information is contained in one dataset only and that is the \"details\" one. We chose to keep it because it has information on the **type of event**, **year**, **month**, **injuries due to weather events**, **deaths**, **amount of damage**."
   ]
  },
  {
   "cell_type": "markdown",
   "id": "ac99cf22-b68a-49c5-8b30-4fd4194e28a7",
   "metadata": {},
   "source": [
    "### 3.1. Drop\n",
    "We have looked into the published paper and chose the columns of interest."
   ]
  },
  {
   "cell_type": "code",
   "execution_count": 6,
   "id": "c81dca9c-c95f-4280-a6e7-28fef3007764",
   "metadata": {},
   "outputs": [],
   "source": [
    "cols_of_interest = ['YEAR', 'MONTH_NAME', 'STATE', 'EVENT_TYPE','EPISODE_NARRATIVE', 'EVENT_NARRATIVE', 'INJURIES_DIRECT', 'INJURIES_INDIRECT', 'DEATHS_DIRECT', 'DEATHS_INDIRECT', 'DAMAGE_PROPERTY','DAMAGE_CROPS','SOURCE']\n",
    "df_det_skinned = df_det[cols_of_interest]"
   ]
  },
  {
   "cell_type": "code",
   "execution_count": 7,
   "id": "435a7207-6e81-48b9-b8c9-d7dd6d275feb",
   "metadata": {},
   "outputs": [
    {
     "data": {
      "text/html": [
       "<div>\n",
       "<style scoped>\n",
       "    .dataframe tbody tr th:only-of-type {\n",
       "        vertical-align: middle;\n",
       "    }\n",
       "\n",
       "    .dataframe tbody tr th {\n",
       "        vertical-align: top;\n",
       "    }\n",
       "\n",
       "    .dataframe thead th {\n",
       "        text-align: right;\n",
       "    }\n",
       "</style>\n",
       "<table border=\"1\" class=\"dataframe\">\n",
       "  <thead>\n",
       "    <tr style=\"text-align: right;\">\n",
       "      <th></th>\n",
       "      <th>YEAR</th>\n",
       "      <th>MONTH_NAME</th>\n",
       "      <th>STATE</th>\n",
       "      <th>EVENT_TYPE</th>\n",
       "      <th>EPISODE_NARRATIVE</th>\n",
       "      <th>EVENT_NARRATIVE</th>\n",
       "      <th>INJURIES_DIRECT</th>\n",
       "      <th>INJURIES_INDIRECT</th>\n",
       "      <th>DEATHS_DIRECT</th>\n",
       "      <th>DEATHS_INDIRECT</th>\n",
       "      <th>DAMAGE_PROPERTY</th>\n",
       "      <th>DAMAGE_CROPS</th>\n",
       "      <th>SOURCE</th>\n",
       "    </tr>\n",
       "  </thead>\n",
       "  <tbody>\n",
       "    <tr>\n",
       "      <th>0</th>\n",
       "      <td>2019</td>\n",
       "      <td>May</td>\n",
       "      <td>TEXAS</td>\n",
       "      <td>Flash Flood</td>\n",
       "      <td>Thunderstorms developed along a cold front as ...</td>\n",
       "      <td>Thunderstorms produced heavy rain that led to ...</td>\n",
       "      <td>0</td>\n",
       "      <td>0</td>\n",
       "      <td>0</td>\n",
       "      <td>0</td>\n",
       "      <td>0.00K</td>\n",
       "      <td>0.00K</td>\n",
       "      <td>Law Enforcement</td>\n",
       "    </tr>\n",
       "    <tr>\n",
       "      <th>1</th>\n",
       "      <td>2019</td>\n",
       "      <td>July</td>\n",
       "      <td>MINNESOTA</td>\n",
       "      <td>Thunderstorm Wind</td>\n",
       "      <td>An area of low pressure over southern Manitoba...</td>\n",
       "      <td>A 14-inch tree fell due to the winds and damag...</td>\n",
       "      <td>0</td>\n",
       "      <td>0</td>\n",
       "      <td>0</td>\n",
       "      <td>0</td>\n",
       "      <td>0.00K</td>\n",
       "      <td>0.00K</td>\n",
       "      <td>Trained Spotter</td>\n",
       "    </tr>\n",
       "    <tr>\n",
       "      <th>2</th>\n",
       "      <td>2019</td>\n",
       "      <td>September</td>\n",
       "      <td>VERMONT</td>\n",
       "      <td>Hail</td>\n",
       "      <td>A strong mid-level disturbance and cold front ...</td>\n",
       "      <td>Quarter size hail reported at Okemo Ski resort.</td>\n",
       "      <td>0</td>\n",
       "      <td>0</td>\n",
       "      <td>0</td>\n",
       "      <td>0</td>\n",
       "      <td>0.00K</td>\n",
       "      <td>0.00K</td>\n",
       "      <td>Public</td>\n",
       "    </tr>\n",
       "    <tr>\n",
       "      <th>3</th>\n",
       "      <td>2019</td>\n",
       "      <td>September</td>\n",
       "      <td>NEW YORK</td>\n",
       "      <td>Thunderstorm Wind</td>\n",
       "      <td>A strong mid-level disturbance and cold front ...</td>\n",
       "      <td>A few trees and power lines downed by thunders...</td>\n",
       "      <td>0</td>\n",
       "      <td>0</td>\n",
       "      <td>0</td>\n",
       "      <td>0</td>\n",
       "      <td>5.00K</td>\n",
       "      <td>0.00K</td>\n",
       "      <td>Utility Company</td>\n",
       "    </tr>\n",
       "    <tr>\n",
       "      <th>4</th>\n",
       "      <td>2019</td>\n",
       "      <td>February</td>\n",
       "      <td>ARKANSAS</td>\n",
       "      <td>Ice Storm</td>\n",
       "      <td>Rain was heavy at times on the 19th, and there...</td>\n",
       "      <td>One-quarter inch of freezing rain was measured...</td>\n",
       "      <td>0</td>\n",
       "      <td>0</td>\n",
       "      <td>0</td>\n",
       "      <td>0</td>\n",
       "      <td>0.00K</td>\n",
       "      <td>0.00K</td>\n",
       "      <td>911 Call Center</td>\n",
       "    </tr>\n",
       "  </tbody>\n",
       "</table>\n",
       "</div>"
      ],
      "text/plain": [
       "   YEAR MONTH_NAME      STATE         EVENT_TYPE  \\\n",
       "0  2019        May      TEXAS        Flash Flood   \n",
       "1  2019       July  MINNESOTA  Thunderstorm Wind   \n",
       "2  2019  September    VERMONT               Hail   \n",
       "3  2019  September   NEW YORK  Thunderstorm Wind   \n",
       "4  2019   February   ARKANSAS          Ice Storm   \n",
       "\n",
       "                                   EPISODE_NARRATIVE  \\\n",
       "0  Thunderstorms developed along a cold front as ...   \n",
       "1  An area of low pressure over southern Manitoba...   \n",
       "2  A strong mid-level disturbance and cold front ...   \n",
       "3  A strong mid-level disturbance and cold front ...   \n",
       "4  Rain was heavy at times on the 19th, and there...   \n",
       "\n",
       "                                     EVENT_NARRATIVE  INJURIES_DIRECT  \\\n",
       "0  Thunderstorms produced heavy rain that led to ...                0   \n",
       "1  A 14-inch tree fell due to the winds and damag...                0   \n",
       "2    Quarter size hail reported at Okemo Ski resort.                0   \n",
       "3  A few trees and power lines downed by thunders...                0   \n",
       "4  One-quarter inch of freezing rain was measured...                0   \n",
       "\n",
       "   INJURIES_INDIRECT  DEATHS_DIRECT  DEATHS_INDIRECT DAMAGE_PROPERTY  \\\n",
       "0                  0              0                0           0.00K   \n",
       "1                  0              0                0           0.00K   \n",
       "2                  0              0                0           0.00K   \n",
       "3                  0              0                0           5.00K   \n",
       "4                  0              0                0           0.00K   \n",
       "\n",
       "  DAMAGE_CROPS           SOURCE  \n",
       "0        0.00K  Law Enforcement  \n",
       "1        0.00K  Trained Spotter  \n",
       "2        0.00K           Public  \n",
       "3        0.00K  Utility Company  \n",
       "4        0.00K  911 Call Center  "
      ]
     },
     "execution_count": 7,
     "metadata": {},
     "output_type": "execute_result"
    }
   ],
   "source": [
    "df_det_skinned.head()"
   ]
  },
  {
   "cell_type": "markdown",
   "id": "77a05ca7-a4a0-4be8-9616-37ccdd99c006",
   "metadata": {},
   "source": [
    "### 3.2. Date format and reordering\n",
    "Given the months are written in plain text and that the notion of ordering for strings is not really clear, we convert the months into numbers (from 1 to 12), so that we can sort the dataset into years and then months."
   ]
  },
  {
   "cell_type": "code",
   "execution_count": 8,
   "id": "04a1de27-9014-4db6-b8d8-ad31be336527",
   "metadata": {},
   "outputs": [
    {
     "data": {
      "text/html": [
       "<div>\n",
       "<style scoped>\n",
       "    .dataframe tbody tr th:only-of-type {\n",
       "        vertical-align: middle;\n",
       "    }\n",
       "\n",
       "    .dataframe tbody tr th {\n",
       "        vertical-align: top;\n",
       "    }\n",
       "\n",
       "    .dataframe thead th {\n",
       "        text-align: right;\n",
       "    }\n",
       "</style>\n",
       "<table border=\"1\" class=\"dataframe\">\n",
       "  <thead>\n",
       "    <tr style=\"text-align: right;\">\n",
       "      <th></th>\n",
       "      <th>YEAR</th>\n",
       "      <th>MONTH_NAME</th>\n",
       "      <th>STATE</th>\n",
       "      <th>EVENT_TYPE</th>\n",
       "      <th>EPISODE_NARRATIVE</th>\n",
       "      <th>EVENT_NARRATIVE</th>\n",
       "      <th>INJURIES_DIRECT</th>\n",
       "      <th>INJURIES_INDIRECT</th>\n",
       "      <th>DEATHS_DIRECT</th>\n",
       "      <th>DEATHS_INDIRECT</th>\n",
       "      <th>DAMAGE_PROPERTY</th>\n",
       "      <th>DAMAGE_CROPS</th>\n",
       "      <th>SOURCE</th>\n",
       "    </tr>\n",
       "  </thead>\n",
       "  <tbody>\n",
       "    <tr>\n",
       "      <th>65</th>\n",
       "      <td>2016</td>\n",
       "      <td>1</td>\n",
       "      <td>MISSISSIPPI</td>\n",
       "      <td>Hail</td>\n",
       "      <td>An upper level low pressure system moved throu...</td>\n",
       "      <td>Nickel to quarter size hail fell near Alligator.</td>\n",
       "      <td>0</td>\n",
       "      <td>0</td>\n",
       "      <td>0</td>\n",
       "      <td>0</td>\n",
       "      <td>0.00K</td>\n",
       "      <td>0.00K</td>\n",
       "      <td>Social Media</td>\n",
       "    </tr>\n",
       "    <tr>\n",
       "      <th>72</th>\n",
       "      <td>2016</td>\n",
       "      <td>1</td>\n",
       "      <td>MISSISSIPPI</td>\n",
       "      <td>Hail</td>\n",
       "      <td>Abundant moisture and instability combined wit...</td>\n",
       "      <td>NaN</td>\n",
       "      <td>0</td>\n",
       "      <td>0</td>\n",
       "      <td>0</td>\n",
       "      <td>0</td>\n",
       "      <td>0.00K</td>\n",
       "      <td>0.00K</td>\n",
       "      <td>Emergency Manager</td>\n",
       "    </tr>\n",
       "    <tr>\n",
       "      <th>73</th>\n",
       "      <td>2016</td>\n",
       "      <td>1</td>\n",
       "      <td>MISSISSIPPI</td>\n",
       "      <td>Thunderstorm Wind</td>\n",
       "      <td>Abundant moisture and instability combined wit...</td>\n",
       "      <td>A few trees were blown down in the Cranfield/L...</td>\n",
       "      <td>0</td>\n",
       "      <td>0</td>\n",
       "      <td>0</td>\n",
       "      <td>0</td>\n",
       "      <td>5.00K</td>\n",
       "      <td>0.00K</td>\n",
       "      <td>Emergency Manager</td>\n",
       "    </tr>\n",
       "    <tr>\n",
       "      <th>74</th>\n",
       "      <td>2016</td>\n",
       "      <td>1</td>\n",
       "      <td>MISSISSIPPI</td>\n",
       "      <td>Hail</td>\n",
       "      <td>Abundant moisture and instability combined wit...</td>\n",
       "      <td>NaN</td>\n",
       "      <td>0</td>\n",
       "      <td>0</td>\n",
       "      <td>0</td>\n",
       "      <td>0</td>\n",
       "      <td>0.00K</td>\n",
       "      <td>0.00K</td>\n",
       "      <td>Public</td>\n",
       "    </tr>\n",
       "    <tr>\n",
       "      <th>75</th>\n",
       "      <td>2016</td>\n",
       "      <td>1</td>\n",
       "      <td>MISSISSIPPI</td>\n",
       "      <td>Thunderstorm Wind</td>\n",
       "      <td>Abundant moisture and instability combined wit...</td>\n",
       "      <td>Trees and powerlines were blown down along Eas...</td>\n",
       "      <td>0</td>\n",
       "      <td>0</td>\n",
       "      <td>0</td>\n",
       "      <td>0</td>\n",
       "      <td>5.00K</td>\n",
       "      <td>0.00K</td>\n",
       "      <td>Amateur Radio</td>\n",
       "    </tr>\n",
       "  </tbody>\n",
       "</table>\n",
       "</div>"
      ],
      "text/plain": [
       "    YEAR  MONTH_NAME        STATE         EVENT_TYPE  \\\n",
       "65  2016           1  MISSISSIPPI               Hail   \n",
       "72  2016           1  MISSISSIPPI               Hail   \n",
       "73  2016           1  MISSISSIPPI  Thunderstorm Wind   \n",
       "74  2016           1  MISSISSIPPI               Hail   \n",
       "75  2016           1  MISSISSIPPI  Thunderstorm Wind   \n",
       "\n",
       "                                    EPISODE_NARRATIVE  \\\n",
       "65  An upper level low pressure system moved throu...   \n",
       "72  Abundant moisture and instability combined wit...   \n",
       "73  Abundant moisture and instability combined wit...   \n",
       "74  Abundant moisture and instability combined wit...   \n",
       "75  Abundant moisture and instability combined wit...   \n",
       "\n",
       "                                      EVENT_NARRATIVE  INJURIES_DIRECT  \\\n",
       "65   Nickel to quarter size hail fell near Alligator.                0   \n",
       "72                                                NaN                0   \n",
       "73  A few trees were blown down in the Cranfield/L...                0   \n",
       "74                                                NaN                0   \n",
       "75  Trees and powerlines were blown down along Eas...                0   \n",
       "\n",
       "    INJURIES_INDIRECT  DEATHS_DIRECT  DEATHS_INDIRECT DAMAGE_PROPERTY  \\\n",
       "65                  0              0                0           0.00K   \n",
       "72                  0              0                0           0.00K   \n",
       "73                  0              0                0           5.00K   \n",
       "74                  0              0                0           0.00K   \n",
       "75                  0              0                0           5.00K   \n",
       "\n",
       "   DAMAGE_CROPS             SOURCE  \n",
       "65        0.00K       Social Media  \n",
       "72        0.00K  Emergency Manager  \n",
       "73        0.00K  Emergency Manager  \n",
       "74        0.00K             Public  \n",
       "75        0.00K      Amateur Radio  "
      ]
     },
     "execution_count": 8,
     "metadata": {},
     "output_type": "execute_result"
    }
   ],
   "source": [
    "# Convert months to numbers\n",
    "df_det_skinned['MONTH_NAME'] = df_det_skinned.MONTH_NAME.apply(lambda x : datetime.datetime.strptime(x, \"%B\").month)\n",
    "\n",
    "# Sort by year and month\n",
    "df_det_skinned = df_det_skinned.sort_values(by=['YEAR', 'MONTH_NAME'], ascending=True)\n",
    "\n",
    "df_det_skinned.head()"
   ]
  },
  {
   "cell_type": "markdown",
   "id": "52f4f88f-4e1c-47fe-b103-24d2f1d3cfbc",
   "metadata": {},
   "source": [
    "# 4. Information extraction"
   ]
  },
  {
   "cell_type": "markdown",
   "id": "3425d47b-aa26-491e-a9a8-be0597f85f77",
   "metadata": {},
   "source": [
    "### 4.1. Number of event occurrences per year\n",
    "We first look into the number extreme weather events every year."
   ]
  },
  {
   "cell_type": "code",
   "execution_count": 9,
   "id": "a03c01d7-f0c1-4740-8dbf-f9c0c0f8bff7",
   "metadata": {},
   "outputs": [
    {
     "data": {
      "text/plain": [
       "Text(0, 0.5, 'Number of extreme weather events')"
      ]
     },
     "execution_count": 9,
     "metadata": {},
     "output_type": "execute_result"
    },
    {
     "data": {
      "image/png": "[encoded data removed]",
      "text/plain": [
       "<Figure size 432x288 with 1 Axes>"
      ]
     },
     "metadata": {
      "needs_background": "light"
     },
     "output_type": "display_data"
    }
   ],
   "source": [
    "nb_events = []\n",
    "years = range(2016, 2021) # This is the timeframe we are considering in other data analysis\n",
    "\n",
    "for year in years:\n",
    "    nb_events.append(len(df_det_skinned[df_det_skinned['YEAR'] == year]))\n",
    "\n",
    "plt.bar(years, nb_events)\n",
    "plt.xlabel('Year')\n",
    "plt.ylabel('Number of extreme weather events')"
   ]
  },
  {
   "cell_type": "markdown",
   "id": "021f61ce-9c34-4a1f-a7c7-d1f42dd80c7f",
   "metadata": {},
   "source": [
    "We can see there is an upward trend potentially confirming an increase in the total number of events per year, but the hypothesis doesn't work for 2020."
   ]
  },
  {
   "cell_type": "markdown",
   "id": "789a77a1-9be7-4564-854a-a05391667c85",
   "metadata": {},
   "source": [
    "### 4.2. Number of event occurrences per type of event and per year\n",
    "Since point 4.1 did not give us much information, let's look at the events that happened every year in a bit more detail."
   ]
  },
  {
   "cell_type": "code",
   "execution_count": 10,
   "id": "022c3269-b0b4-4382-87bb-a807ea29b660",
   "metadata": {},
   "outputs": [
    {
     "data": {
      "image/png": "[encoded data removed]",
      "text/plain": [
       "<Figure size 1080x360 with 1 Axes>"
      ]
     },
     "metadata": {
      "needs_background": "light"
     },
     "output_type": "display_data"
    },
    {
     "data": {
      "image/png": "[encoded data removed]",
      "text/plain": [
       "<Figure size 1080x360 with 1 Axes>"
      ]
     },
     "metadata": {
      "needs_background": "light"
     },
     "output_type": "display_data"
    },
    {
     "data": {
      "image/png": "[encoded data removed]",
      "text/plain": [
       "<Figure size 1080x360 with 1 Axes>"
      ]
     },
     "metadata": {
      "needs_background": "light"
     },
     "output_type": "display_data"
    },
    {
     "data": {
      "image/png": "[encoded data removed]",
      "text/plain": [
       "<Figure size 1080x360 with 1 Axes>"
      ]
     },
     "metadata": {
      "needs_background": "light"
     },
     "output_type": "display_data"
    },
    {
     "data": {
      "image/png": "[encoded data removed]",
      "text/plain": [
       "<Figure size 1080x360 with 1 Axes>"
      ]
     },
     "metadata": {
      "needs_background": "light"
     },
     "output_type": "display_data"
    }
   ],
   "source": [
    "for year in years:\n",
    "    df_year = df_det_skinned[df_det_skinned['YEAR'] == year]\n",
    "    df_events = df_year[['EVENT_TYPE']]\n",
    "    df_events_count = df_events.apply(pd.value_counts)\n",
    "    df_events_count.plot(kind='bar', figsize=(15,5))\n",
    "    plt.title('Year %i' %year)"
   ]
  },
  {
   "cell_type": "markdown",
   "id": "b8175b5c-863d-4fa3-b6a3-f78d83065945",
   "metadata": {},
   "source": [
    "We can see that not all extreme weather events are of interest for us, so we're going to look into the top 10 in more detail."
   ]
  },
  {
   "cell_type": "markdown",
   "id": "b0448ff2-6be6-4322-9d5f-a4956d5c5aaf",
   "metadata": {},
   "source": [
    "### 4.3. Top ten"
   ]
  },
  {
   "cell_type": "code",
   "execution_count": 11,
   "id": "0b6349bd-2b98-4fc8-8ee8-ea49c3bf7634",
   "metadata": {},
   "outputs": [
    {
     "data": {
      "image/png": "[encoded data removed]",
      "text/plain": [
       "<Figure size 720x360 with 1 Axes>"
      ]
     },
     "metadata": {
      "needs_background": "light"
     },
     "output_type": "display_data"
    },
    {
     "data": {
      "image/png": "[encoded data removed]",
      "text/plain": [
       "<Figure size 720x360 with 1 Axes>"
      ]
     },
     "metadata": {
      "needs_background": "light"
     },
     "output_type": "display_data"
    },
    {
     "data": {
      "image/png": "[encoded data removed]",
      "text/plain": [
       "<Figure size 720x360 with 1 Axes>"
      ]
     },
     "metadata": {
      "needs_background": "light"
     },
     "output_type": "display_data"
    },
    {
     "data": {
      "image/png": "[encoded data removed]",
      "text/plain": [
       "<Figure size 720x360 with 1 Axes>"
      ]
     },
     "metadata": {
      "needs_background": "light"
     },
     "output_type": "display_data"
    },
    {
     "data": {
      "image/png": "[encoded data removed]",
      "text/plain": [
       "<Figure size 720x360 with 1 Axes>"
      ]
     },
     "metadata": {
      "needs_background": "light"
     },
     "output_type": "display_data"
    }
   ],
   "source": [
    "for year in years:\n",
    "    df_year = df_det_skinned[df_det_skinned['YEAR'] == year]\n",
    "    df_events = df_year[['EVENT_TYPE']]\n",
    "    df_events_count = df_events.apply(pd.value_counts)\n",
    "    df_events_count.sort_values(by='EVENT_TYPE') # Sort for later selection\n",
    "    df_events_count[:10].plot(kind='bar', figsize=(10,5)) # Keep only the top 10\n",
    "    plt.title('Year %i' %year)"
   ]
  },
  {
   "cell_type": "markdown",
   "id": "66976f0b-edea-4cb6-9ef7-6bf9e3c777e6",
   "metadata": {},
   "source": [
    "### 4.4. Damage in property\n",
    "Another measure we are given in the dataset is the estimated amount of damage to property incurred by the weather event. That is what we are focusing on now."
   ]
  },
  {
   "cell_type": "code",
   "execution_count": 12,
   "id": "e16dfae5-d158-491c-822f-4ef00025d6d9",
   "metadata": {},
   "outputs": [],
   "source": [
    "df_det_skinned = df_det_skinned.dropna(subset=[\"DAMAGE_PROPERTY\"]) # We drop null values"
   ]
  },
  {
   "cell_type": "code",
   "execution_count": 13,
   "id": "5c535333-7c08-4732-b9af-f86c03fc942b",
   "metadata": {},
   "outputs": [
    {
     "data": {
      "text/plain": [
       "65       0.00K\n",
       "72       0.00K\n",
       "73       5.00K\n",
       "74       0.00K\n",
       "75       5.00K\n",
       "         ...  \n",
       "60554    0.00K\n",
       "60555    0.00K\n",
       "60556    0.00K\n",
       "60558    0.00K\n",
       "60559    0.00K\n",
       "Name: DAMAGE_PROPERTY, Length: 243478, dtype: object"
      ]
     },
     "execution_count": 13,
     "metadata": {},
     "output_type": "execute_result"
    }
   ],
   "source": [
    "# Quick check null values were dropped\n",
    "df_det_skinned.DAMAGE_PROPERTY"
   ]
  },
  {
   "cell_type": "markdown",
   "id": "4e40535c-2254-4ad5-8040-f2b3df4f1b1d",
   "metadata": {},
   "source": [
    "##### 4.4.1. Replace damage numbers by actual floating point values"
   ]
  },
  {
   "cell_type": "code",
   "execution_count": 14,
   "id": "c1e4b376-e176-41bf-a6b7-c7aca88e65ce",
   "metadata": {},
   "outputs": [],
   "source": [
    "# Define function\n",
    "def as_number(nb):\n",
    "    if 'K' in nb:\n",
    "        return float(nb.replace('K', '')) * 1000\n",
    "    elif 'M' in nb:\n",
    "        return float(nb.replace('M', '')) * 1000 * 1000\n",
    "    elif 'B' in nb:\n",
    "        return float(nb.replace('B', '')) * 1000 * 1000 * 1000"
   ]
  },
  {
   "cell_type": "code",
   "execution_count": 15,
   "id": "25c0eae1-4dd9-4d5a-9a11-d3a3df34695d",
   "metadata": {},
   "outputs": [],
   "source": [
    "# Apply fuction\n",
    "df_det_skinned['DAMAGE_PROPERTY'] = df_det_skinned.DAMAGE_PROPERTY.apply(as_number)"
   ]
  },
  {
   "cell_type": "code",
   "execution_count": 16,
   "id": "3fbef980-dc3d-4008-a580-385d72a0a69c",
   "metadata": {},
   "outputs": [
    {
     "data": {
      "text/plain": [
       "65          0.0\n",
       "72          0.0\n",
       "73       5000.0\n",
       "74          0.0\n",
       "75       5000.0\n",
       "          ...  \n",
       "60554       0.0\n",
       "60555       0.0\n",
       "60556       0.0\n",
       "60558       0.0\n",
       "60559       0.0\n",
       "Name: DAMAGE_PROPERTY, Length: 243478, dtype: float64"
      ]
     },
     "execution_count": 16,
     "metadata": {},
     "output_type": "execute_result"
    }
   ],
   "source": [
    "# Control it worked\n",
    "df_det_skinned.DAMAGE_PROPERTY"
   ]
  },
  {
   "cell_type": "markdown",
   "id": "54fa3090-15e9-4d8f-bfc6-365472b922e8",
   "metadata": {},
   "source": [
    "##### 4.4.2. Calculate sums of damage property per year and month and plot"
   ]
  },
  {
   "cell_type": "code",
   "execution_count": 17,
   "id": "cea7d4c7-df36-4a1a-94d9-9efb8fee0373",
   "metadata": {},
   "outputs": [],
   "source": [
    "# Calculate\n",
    "df_damages = df_det_skinned.groupby([\"YEAR\",\"MONTH_NAME\"]).DAMAGE_PROPERTY.sum()"
   ]
  },
  {
   "cell_type": "code",
   "execution_count": 18,
   "id": "b6454b52-02b3-4ce0-a4e6-fad6dbe85d57",
   "metadata": {},
   "outputs": [
    {
     "data": {
      "image/png": "[encoded data removed]",
      "text/plain": [
       "<Figure size 720x1080 with 5 Axes>"
      ]
     },
     "metadata": {
      "needs_background": "light"
     },
     "output_type": "display_data"
    }
   ],
   "source": [
    "damage = df_damages.unstack(level=0).plot(kind='bar', \n",
    "                                         subplots=True, \n",
    "                                         rot=0, \n",
    "                                         figsize=(10, 15), \n",
    "                                         layout=(5, 1), \n",
    "                                         sharey=True, \n",
    "                                         ylabel=\"Property damage in millions of $\", \n",
    "                                         xlabel=\"Months\")\n",
    "\n",
    "month_names = ['Jan','Feb','Mar','Apr','May','Jun',\n",
    "               'Jul','Aug','Sep','Oct','Nov','Dec']\n",
    "plt.xticks(range(0, 12), month_names)\n",
    "plt.tight_layout()"
   ]
  },
  {
   "cell_type": "markdown",
   "id": "6ff0a28a-d5c9-46ff-b1f8-d699599761b9",
   "metadata": {},
   "source": [
    "##### 4.4.3 Observations\n",
    "It is obvious, some months had really high damage in property and it often corresponds to some big hurricanes happening in the US. Let us take the example of September 2017. After a quick google search, we could link it to hurricane Maria. But let's show it in our data."
   ]
  },
  {
   "cell_type": "code",
   "execution_count": 19,
   "id": "f22e78df-5ce8-4a12-940d-aa37366d7ab2",
   "metadata": {},
   "outputs": [
    {
     "data": {
      "text/html": [
       "<div>\n",
       "<style scoped>\n",
       "    .dataframe tbody tr th:only-of-type {\n",
       "        vertical-align: middle;\n",
       "    }\n",
       "\n",
       "    .dataframe tbody tr th {\n",
       "        vertical-align: top;\n",
       "    }\n",
       "\n",
       "    .dataframe thead th {\n",
       "        text-align: right;\n",
       "    }\n",
       "</style>\n",
       "<table border=\"1\" class=\"dataframe\">\n",
       "  <thead>\n",
       "    <tr style=\"text-align: right;\">\n",
       "      <th></th>\n",
       "      <th>YEAR</th>\n",
       "      <th>MONTH_NAME</th>\n",
       "      <th>STATE</th>\n",
       "      <th>EVENT_TYPE</th>\n",
       "      <th>EPISODE_NARRATIVE</th>\n",
       "      <th>EVENT_NARRATIVE</th>\n",
       "      <th>INJURIES_DIRECT</th>\n",
       "      <th>INJURIES_INDIRECT</th>\n",
       "      <th>DEATHS_DIRECT</th>\n",
       "      <th>DEATHS_INDIRECT</th>\n",
       "      <th>DAMAGE_PROPERTY</th>\n",
       "      <th>DAMAGE_CROPS</th>\n",
       "      <th>SOURCE</th>\n",
       "    </tr>\n",
       "  </thead>\n",
       "  <tbody>\n",
       "    <tr>\n",
       "      <th>370</th>\n",
       "      <td>2017</td>\n",
       "      <td>9</td>\n",
       "      <td>PUERTO RICO</td>\n",
       "      <td>Flash Flood</td>\n",
       "      <td>Hurricane Maria was a catastrophic category 4 ...</td>\n",
       "      <td>Rio de la Plata went out of its banks producin...</td>\n",
       "      <td>0</td>\n",
       "      <td>0</td>\n",
       "      <td>9</td>\n",
       "      <td>0</td>\n",
       "      <td>2.500000e+09</td>\n",
       "      <td>0.00K</td>\n",
       "      <td>Newspaper</td>\n",
       "    </tr>\n",
       "    <tr>\n",
       "      <th>452</th>\n",
       "      <td>2017</td>\n",
       "      <td>9</td>\n",
       "      <td>PUERTO RICO</td>\n",
       "      <td>Flash Flood</td>\n",
       "      <td>Hurricane Maria was a catastrophic category 4 ...</td>\n",
       "      <td>Very heavy rain resulted in Rio Canovanas out ...</td>\n",
       "      <td>0</td>\n",
       "      <td>0</td>\n",
       "      <td>0</td>\n",
       "      <td>0</td>\n",
       "      <td>7.500000e+08</td>\n",
       "      <td>0.00K</td>\n",
       "      <td>River/Stream Gage</td>\n",
       "    </tr>\n",
       "    <tr>\n",
       "      <th>451</th>\n",
       "      <td>2017</td>\n",
       "      <td>9</td>\n",
       "      <td>PUERTO RICO</td>\n",
       "      <td>Flash Flood</td>\n",
       "      <td>Hurricane Maria was a catastrophic category 4 ...</td>\n",
       "      <td>Heavy rain flooded municipality of Arroyo.</td>\n",
       "      <td>0</td>\n",
       "      <td>0</td>\n",
       "      <td>0</td>\n",
       "      <td>0</td>\n",
       "      <td>7.500000e+08</td>\n",
       "      <td>0.00K</td>\n",
       "      <td>Public</td>\n",
       "    </tr>\n",
       "    <tr>\n",
       "      <th>419</th>\n",
       "      <td>2017</td>\n",
       "      <td>9</td>\n",
       "      <td>PUERTO RICO</td>\n",
       "      <td>Flash Flood</td>\n",
       "      <td>Hurricane Maria was a catastrophic category 4 ...</td>\n",
       "      <td>Rio Culebrinas was out of its banks, flooding ...</td>\n",
       "      <td>0</td>\n",
       "      <td>0</td>\n",
       "      <td>2</td>\n",
       "      <td>0</td>\n",
       "      <td>7.500000e+08</td>\n",
       "      <td>0.00K</td>\n",
       "      <td>River/Stream Gage</td>\n",
       "    </tr>\n",
       "    <tr>\n",
       "      <th>420</th>\n",
       "      <td>2017</td>\n",
       "      <td>9</td>\n",
       "      <td>PUERTO RICO</td>\n",
       "      <td>Flash Flood</td>\n",
       "      <td>Hurricane Maria was a catastrophic category 4 ...</td>\n",
       "      <td>Heavy rain resulted in floods.</td>\n",
       "      <td>0</td>\n",
       "      <td>0</td>\n",
       "      <td>0</td>\n",
       "      <td>0</td>\n",
       "      <td>7.500000e+08</td>\n",
       "      <td>0.00K</td>\n",
       "      <td>Unknown</td>\n",
       "    </tr>\n",
       "  </tbody>\n",
       "</table>\n",
       "</div>"
      ],
      "text/plain": [
       "     YEAR  MONTH_NAME        STATE   EVENT_TYPE  \\\n",
       "370  2017           9  PUERTO RICO  Flash Flood   \n",
       "452  2017           9  PUERTO RICO  Flash Flood   \n",
       "451  2017           9  PUERTO RICO  Flash Flood   \n",
       "419  2017           9  PUERTO RICO  Flash Flood   \n",
       "420  2017           9  PUERTO RICO  Flash Flood   \n",
       "\n",
       "                                     EPISODE_NARRATIVE  \\\n",
       "370  Hurricane Maria was a catastrophic category 4 ...   \n",
       "452  Hurricane Maria was a catastrophic category 4 ...   \n",
       "451  Hurricane Maria was a catastrophic category 4 ...   \n",
       "419  Hurricane Maria was a catastrophic category 4 ...   \n",
       "420  Hurricane Maria was a catastrophic category 4 ...   \n",
       "\n",
       "                                       EVENT_NARRATIVE  INJURIES_DIRECT  \\\n",
       "370  Rio de la Plata went out of its banks producin...                0   \n",
       "452  Very heavy rain resulted in Rio Canovanas out ...                0   \n",
       "451         Heavy rain flooded municipality of Arroyo.                0   \n",
       "419  Rio Culebrinas was out of its banks, flooding ...                0   \n",
       "420                     Heavy rain resulted in floods.                0   \n",
       "\n",
       "     INJURIES_INDIRECT  DEATHS_DIRECT  DEATHS_INDIRECT  DAMAGE_PROPERTY  \\\n",
       "370                  0              9                0     2.500000e+09   \n",
       "452                  0              0                0     7.500000e+08   \n",
       "451                  0              0                0     7.500000e+08   \n",
       "419                  0              2                0     7.500000e+08   \n",
       "420                  0              0                0     7.500000e+08   \n",
       "\n",
       "    DAMAGE_CROPS             SOURCE  \n",
       "370        0.00K          Newspaper  \n",
       "452        0.00K  River/Stream Gage  \n",
       "451        0.00K             Public  \n",
       "419        0.00K  River/Stream Gage  \n",
       "420        0.00K            Unknown  "
      ]
     },
     "execution_count": 19,
     "metadata": {},
     "output_type": "execute_result"
    }
   ],
   "source": [
    "select_year = df_det_skinned[df_det_skinned['YEAR'] == 2017]\n",
    "select_month = select_year[select_year['MONTH_NAME'] == 9] # 9 is for September due to previous conversion\n",
    "sorted_by_impact =  select_month.sort_values(by='DAMAGE_PROPERTY', ascending=False) # From biggest event to smallest\n",
    "sorted_by_impact.head()"
   ]
  },
  {
   "cell_type": "markdown",
   "id": "75658c47-468b-4821-9cb7-1e90b93956c4",
   "metadata": {},
   "source": [
    "We can see there were multiple reports for the same event."
   ]
  },
  {
   "cell_type": "markdown",
   "id": "baf57592-6171-4d54-ac5b-e7aa40f4595f",
   "metadata": {},
   "source": [
    "# 5. Correlation with other data\n",
    "We now want to look into how weather events correlate with data obtained from the quotebank dataset from other parts of our analysis."
   ]
  },
  {
   "cell_type": "markdown",
   "id": "8115434f-38ac-43a6-9401-457447c863c2",
   "metadata": {},
   "source": [
    "### 5.3. Language complexity\n",
    "At this point, we are looking into quotes talking about climate change adn their complexity. What we are trying to see here, is if any major extreme weather events could have had an influence into the complexity of the language used by papers to talk about climate change."
   ]
  },
  {
   "cell_type": "markdown",
   "id": "59d14e7a-2f3b-41ec-9906-8e10d64d96ee",
   "metadata": {},
   "source": [
    "##### 5.3.1. Load data from years 2017 to 2020 into one dataframe"
   ]
  },
  {
   "cell_type": "code",
   "execution_count": 20,
   "id": "200d7b82-8734-4391-af3a-d90d5569039e",
   "metadata": {},
   "outputs": [],
   "source": [
    "dfs = []\n",
    "for year in range(2017, 2021):\n",
    "    path = 'data/climate_df_complexity' + str(year) + '.pkl'\n",
    "    df = pd.read_pickle(path)\n",
    "    df = clean_df(df)\n",
    "    dfs.append(df)\n",
    "    \n",
    "# Concatenate all years into one dataframe\n",
    "df_complexity = pd.concat(dfs) "
   ]
  },
  {
   "cell_type": "markdown",
   "id": "42260a4b-31a9-4ddb-a28c-8374aed70bfb",
   "metadata": {},
   "source": [
    "##### 5.3.2. Prepare dataset for analysis"
   ]
  },
  {
   "cell_type": "code",
   "execution_count": 21,
   "id": "55022042-e687-4be8-876a-649b8c1a5a26",
   "metadata": {},
   "outputs": [],
   "source": [
    "# Replace date column by year and month columns for later sorting\n",
    "df_complexity['year'] = df_complexity.date.dt.year\n",
    "df_complexity['month'] = df_complexity.date.dt.month\n",
    "\n",
    "# Greta data starts in 2018 only, so we drop any values below that\n",
    "#df_complexity = df_complexity[df_complexity.year > 2017]\n",
    "\n",
    "# Order dataframe\n",
    "df_mean_complexity_score = df_complexity.groupby(['year', 'month']).sentiment_score.sum()"
   ]
  },
  {
   "cell_type": "code",
   "execution_count": 22,
   "id": "69b19a4a-12d4-4bbe-a57d-b2e171b8e51c",
   "metadata": {},
   "outputs": [
    {
     "data": {
      "text/plain": [
       "year  month\n",
       "2017  1         19.5247\n",
       "      2        122.6503\n",
       "      3        714.0692\n",
       "      4        518.1625\n",
       "      5        611.1239\n",
       "Name: sentiment_score, dtype: float64"
      ]
     },
     "execution_count": 22,
     "metadata": {},
     "output_type": "execute_result"
    }
   ],
   "source": [
    "df_mean_complexity_score.head()"
   ]
  },
  {
   "cell_type": "markdown",
   "id": "bb6b4dab-111b-42af-b96f-4e7237b8882e",
   "metadata": {},
   "source": [
    "##### 5.3.2. Extract Greta data"
   ]
  },
  {
   "cell_type": "code",
   "execution_count": 23,
   "id": "e28172f2-f161-4481-b56c-a34a98e92ce9",
   "metadata": {},
   "outputs": [],
   "source": [
    "# Select greta's quotes\n",
    "df_greta = df_complexity[df_complexity.speaker == \"Greta Thunberg\"]\n",
    "\n",
    "# Compute mean score per month\n",
    "df_mean_sentiment_score_greta = df_greta.groupby(['year', 'month']).sentiment_score.sum()"
   ]
  },
  {
   "cell_type": "code",
   "execution_count": 24,
   "id": "b499ff07-edf6-4a17-8d50-c8e280d1aae2",
   "metadata": {},
   "outputs": [
    {
     "data": {
      "text/plain": [
       "year  month\n",
       "2018  9        0.9986\n",
       "      10       1.4005\n",
       "      11       1.1806\n",
       "      12      -7.1444\n",
       "2019  1       -3.7668\n",
       "Name: sentiment_score, dtype: float64"
      ]
     },
     "execution_count": 24,
     "metadata": {},
     "output_type": "execute_result"
    }
   ],
   "source": [
    "df_mean_sentiment_score_greta.head()"
   ]
  },
  {
   "cell_type": "markdown",
   "id": "62eea04e-e51f-4bc7-a2ab-ca47bec073d3",
   "metadata": {},
   "source": [
    "##### 5.3.2. Extract Trump data"
   ]
  },
  {
   "cell_type": "code",
   "execution_count": 25,
   "id": "4bce2620-9691-42f1-b8de-44fb4c0706ee",
   "metadata": {},
   "outputs": [],
   "source": [
    "# Select trump's quotes\n",
    "df_trump = df_complexity[df_complexity.speaker == \"Donald Trump\"]\n",
    "\n",
    "# Compute mean score per month\n",
    "df_mean_sentiment_score_trump = df_trump.groupby(['year', 'month']).sentiment_score.sum()"
   ]
  },
  {
   "cell_type": "code",
   "execution_count": 26,
   "id": "6ed5d503-f45a-4c05-8301-ac01c6b052f2",
   "metadata": {},
   "outputs": [
    {
     "data": {
      "text/plain": [
       "year  month\n",
       "2017  1        -0.0132\n",
       "      2        -7.6550\n",
       "      3        -5.1525\n",
       "      4       -21.4207\n",
       "      5       -23.3258\n",
       "Name: sentiment_score, dtype: float64"
      ]
     },
     "execution_count": 26,
     "metadata": {},
     "output_type": "execute_result"
    }
   ],
   "source": [
    "df_mean_sentiment_score_trump.head()"
   ]
  },
  {
   "cell_type": "markdown",
   "id": "f3b07ada-caec-4cf7-8567-cd57acb82547",
   "metadata": {},
   "source": [
    "##### 5.3.3. Plots\n",
    "We look into the mean sentiment score every month, to see the global trend."
   ]
  },
  {
   "cell_type": "code",
   "execution_count": 27,
   "id": "e1840731-67d1-4297-844a-ad5effdf0d86",
   "metadata": {},
   "outputs": [
    {
     "data": {
      "image/png": "[encoded data removed]",
      "text/plain": [
       "<Figure size 720x1080 with 6 Axes>"
      ]
     },
     "metadata": {
      "needs_background": "light"
     },
     "output_type": "display_data"
    }
   ],
   "source": [
    "fig, ax = plt.subplots(3, figsize=(10,15))\n",
    "\n",
    "# Greta scores\n",
    "mean_sentiment_score_greta = df_mean_sentiment_score_greta.unstack(level=0)\n",
    "\n",
    "# Global scores\n",
    "mean_sentiment_score_global = df_mean_complexity_score.unstack(level=0)\n",
    "\n",
    "# Weather events\n",
    "natural = df_damages.unstack(level=0)\n",
    "\n",
    "for i, year in enumerate(range(2018, 2021)):\n",
    "    ax2 = ax[i].twinx()\n",
    "    \n",
    "    # Plotting language complexity lines\n",
    "    #nat = ax2.plot(natural[year], color='purple', label='Natural events', alpha=0.5)\n",
    "    nat = ax2.bar(x=range(1,13), height=natural[year], color='purple', label='Natural events', alpha=0.5)\n",
    "    greta = ax[i].plot(mean_sentiment_score_greta[year], color='green', label='Greta trend')\n",
    "    global_ = ax[i].plot(mean_sentiment_score_global[year], color='red', label='Global trend')\n",
    "    \n",
    "    # Parameters for plotting\n",
    "    ax[i].set_ylabel('Mean sentiment')\n",
    "    ax[i].set_title(str(year))\n",
    "    ax[i].legend(loc=(1.1,0.87))\n",
    "    \n",
    "    ax2.set_ylabel('Property damage in millions of $', color='purple')\n",
    "    ax2.legend(loc=(1.1,0.78))\n",
    "    plt.xticks(range(1, 13), month_names)\n",
    "    \n",
    "\n",
    "sns.set_theme()\n",
    "    "
   ]
  },
  {
   "cell_type": "code",
   "execution_count": 28,
   "id": "6c172ada-27bd-4463-9bff-0009466590f2",
   "metadata": {},
   "outputs": [],
   "source": [
    "import plotly.express as px\n",
    "import plotly.graph_objects as go\n",
    "from plotly.subplots import make_subplots"
   ]
  },
  {
   "cell_type": "code",
   "execution_count": 29,
   "id": "903d01d1-ee2a-44f5-8be8-a8cd2339524e",
   "metadata": {},
   "outputs": [],
   "source": [
    "import plotly.graph_objects as go\n",
    "from plotly.subplots import make_subplots"
   ]
  },
  {
   "cell_type": "code",
   "execution_count": 30,
   "id": "5a4bb9b3-9832-4acc-aadf-8e664cd30bad",
   "metadata": {},
   "outputs": [],
   "source": [
    "speakers = {}\n",
    "for i in range(2017, 2021):\n",
    "    speakers[i] = pd.read_pickle('data/speakers_{}.pkl'.format(i))\n",
    "speakers = pd.concat(speakers)"
   ]
  },
  {
   "cell_type": "code",
   "execution_count": 31,
   "id": "54977964-518a-4a9d-94ef-ae2fb16abafb",
   "metadata": {},
   "outputs": [],
   "source": [
    "speakers = speakers.reset_index(level=0, drop=True)"
   ]
  },
  {
   "cell_type": "code",
   "execution_count": 32,
   "id": "e35ff244-8880-4af5-9516-2ef27bcc524a",
   "metadata": {},
   "outputs": [],
   "source": [
    "df_complexity = df_complexity.merge(speakers, on=\"speaker\")"
   ]
  },
  {
   "cell_type": "code",
   "execution_count": 33,
   "id": "fa375296-fe76-4dc0-b01e-98816edd514f",
   "metadata": {},
   "outputs": [],
   "source": [
    "df_us = df_complexity[df_complexity.nationality == \"United States of America\"]"
   ]
  },
  {
   "cell_type": "code",
   "execution_count": null,
   "id": "b5cd944e-9ce6-4670-b890-d0c02d072605",
   "metadata": {},
   "outputs": [],
   "source": []
  },
  {
   "cell_type": "code",
   "execution_count": 91,
   "id": "7a817e7c-5a3e-4176-9d53-5978ce1b7c98",
   "metadata": {},
   "outputs": [
    {
     "data": {
      "text/html": [
       "<div>\n",
       "<style scoped>\n",
       "    .dataframe tbody tr th:only-of-type {\n",
       "        vertical-align: middle;\n",
       "    }\n",
       "\n",
       "    .dataframe tbody tr th {\n",
       "        vertical-align: top;\n",
       "    }\n",
       "\n",
       "    .dataframe thead th {\n",
       "        text-align: right;\n",
       "    }\n",
       "</style>\n",
       "<table border=\"1\" class=\"dataframe\">\n",
       "  <thead>\n",
       "    <tr style=\"text-align: right;\">\n",
       "      <th></th>\n",
       "      <th>date</th>\n",
       "      <th>numOccurrences</th>\n",
       "      <th>sentiment_score</th>\n",
       "      <th>complexity</th>\n",
       "      <th>year</th>\n",
       "      <th>month</th>\n",
       "      <th>quotation_count</th>\n",
       "      <th>age</th>\n",
       "    </tr>\n",
       "  </thead>\n",
       "  <tbody>\n",
       "    <tr>\n",
       "      <th>0</th>\n",
       "      <td>2016-12-31</td>\n",
       "      <td>873</td>\n",
       "      <td>39.3492</td>\n",
       "      <td>4829.0</td>\n",
       "      <td>911684</td>\n",
       "      <td>452</td>\n",
       "      <td>27388</td>\n",
       "      <td>23166.0</td>\n",
       "    </tr>\n",
       "    <tr>\n",
       "      <th>1</th>\n",
       "      <td>2017-01-31</td>\n",
       "      <td>10434</td>\n",
       "      <td>231.0908</td>\n",
       "      <td>44838.0</td>\n",
       "      <td>7832011</td>\n",
       "      <td>7766</td>\n",
       "      <td>141281</td>\n",
       "      <td>189142.0</td>\n",
       "    </tr>\n",
       "    <tr>\n",
       "      <th>2</th>\n",
       "      <td>2017-02-28</td>\n",
       "      <td>55349</td>\n",
       "      <td>1432.1362</td>\n",
       "      <td>147891.0</td>\n",
       "      <td>25436387</td>\n",
       "      <td>37833</td>\n",
       "      <td>566584</td>\n",
       "      <td>652966.0</td>\n",
       "    </tr>\n",
       "    <tr>\n",
       "      <th>3</th>\n",
       "      <td>2017-03-31</td>\n",
       "      <td>40526</td>\n",
       "      <td>935.3860</td>\n",
       "      <td>118663.0</td>\n",
       "      <td>20890069</td>\n",
       "      <td>41428</td>\n",
       "      <td>421427</td>\n",
       "      <td>523808.0</td>\n",
       "    </tr>\n",
       "    <tr>\n",
       "      <th>4</th>\n",
       "      <td>2017-04-30</td>\n",
       "      <td>78569</td>\n",
       "      <td>1440.0221</td>\n",
       "      <td>135786.0</td>\n",
       "      <td>23526288</td>\n",
       "      <td>58320</td>\n",
       "      <td>506022</td>\n",
       "      <td>612015.0</td>\n",
       "    </tr>\n",
       "    <tr>\n",
       "      <th>5</th>\n",
       "      <td>2017-05-31</td>\n",
       "      <td>104405</td>\n",
       "      <td>1977.4407</td>\n",
       "      <td>228506.0</td>\n",
       "      <td>40247218</td>\n",
       "      <td>119724</td>\n",
       "      <td>1201686</td>\n",
       "      <td>1111991.0</td>\n",
       "    </tr>\n",
       "    <tr>\n",
       "      <th>6</th>\n",
       "      <td>2017-06-30</td>\n",
       "      <td>45329</td>\n",
       "      <td>1696.4506</td>\n",
       "      <td>120958.0</td>\n",
       "      <td>21043361</td>\n",
       "      <td>73031</td>\n",
       "      <td>426738</td>\n",
       "      <td>542514.0</td>\n",
       "    </tr>\n",
       "    <tr>\n",
       "      <th>7</th>\n",
       "      <td>2017-07-31</td>\n",
       "      <td>52226</td>\n",
       "      <td>1304.3587</td>\n",
       "      <td>118064.0</td>\n",
       "      <td>20597604</td>\n",
       "      <td>81696</td>\n",
       "      <td>377006</td>\n",
       "      <td>531367.0</td>\n",
       "    </tr>\n",
       "    <tr>\n",
       "      <th>8</th>\n",
       "      <td>2017-08-31</td>\n",
       "      <td>51469</td>\n",
       "      <td>2286.5977</td>\n",
       "      <td>143350.0</td>\n",
       "      <td>25496897</td>\n",
       "      <td>113769</td>\n",
       "      <td>491290</td>\n",
       "      <td>651425.0</td>\n",
       "    </tr>\n",
       "    <tr>\n",
       "      <th>9</th>\n",
       "      <td>2017-09-30</td>\n",
       "      <td>65499</td>\n",
       "      <td>1891.2551</td>\n",
       "      <td>147450.0</td>\n",
       "      <td>25611866</td>\n",
       "      <td>126980</td>\n",
       "      <td>407966</td>\n",
       "      <td>630731.0</td>\n",
       "    </tr>\n",
       "    <tr>\n",
       "      <th>10</th>\n",
       "      <td>2017-10-31</td>\n",
       "      <td>50946</td>\n",
       "      <td>2005.2861</td>\n",
       "      <td>153811.0</td>\n",
       "      <td>26793828</td>\n",
       "      <td>146124</td>\n",
       "      <td>524558</td>\n",
       "      <td>676496.0</td>\n",
       "    </tr>\n",
       "    <tr>\n",
       "      <th>11</th>\n",
       "      <td>2017-11-30</td>\n",
       "      <td>56059</td>\n",
       "      <td>1992.5556</td>\n",
       "      <td>123237.0</td>\n",
       "      <td>21446761</td>\n",
       "      <td>127596</td>\n",
       "      <td>460932</td>\n",
       "      <td>535116.0</td>\n",
       "    </tr>\n",
       "    <tr>\n",
       "      <th>12</th>\n",
       "      <td>2017-12-31</td>\n",
       "      <td>45510</td>\n",
       "      <td>1671.5137</td>\n",
       "      <td>123857.0</td>\n",
       "      <td>21390800</td>\n",
       "      <td>10600</td>\n",
       "      <td>438720</td>\n",
       "      <td>534615.0</td>\n",
       "    </tr>\n",
       "    <tr>\n",
       "      <th>13</th>\n",
       "      <td>2018-01-31</td>\n",
       "      <td>39017</td>\n",
       "      <td>1447.0019</td>\n",
       "      <td>105837.0</td>\n",
       "      <td>18513132</td>\n",
       "      <td>18348</td>\n",
       "      <td>314685</td>\n",
       "      <td>443999.0</td>\n",
       "    </tr>\n",
       "    <tr>\n",
       "      <th>14</th>\n",
       "      <td>2018-02-28</td>\n",
       "      <td>38021</td>\n",
       "      <td>2251.2789</td>\n",
       "      <td>120856.0</td>\n",
       "      <td>20375746</td>\n",
       "      <td>30291</td>\n",
       "      <td>284396</td>\n",
       "      <td>507117.0</td>\n",
       "    </tr>\n",
       "    <tr>\n",
       "      <th>15</th>\n",
       "      <td>2018-03-31</td>\n",
       "      <td>35077</td>\n",
       "      <td>2451.5533</td>\n",
       "      <td>119104.0</td>\n",
       "      <td>20177982</td>\n",
       "      <td>39996</td>\n",
       "      <td>308479</td>\n",
       "      <td>503289.0</td>\n",
       "    </tr>\n",
       "    <tr>\n",
       "      <th>16</th>\n",
       "      <td>2018-04-30</td>\n",
       "      <td>30964</td>\n",
       "      <td>2016.3281</td>\n",
       "      <td>115885.0</td>\n",
       "      <td>19643212</td>\n",
       "      <td>48670</td>\n",
       "      <td>294775</td>\n",
       "      <td>486816.0</td>\n",
       "    </tr>\n",
       "    <tr>\n",
       "      <th>17</th>\n",
       "      <td>2018-05-31</td>\n",
       "      <td>30442</td>\n",
       "      <td>2011.7157</td>\n",
       "      <td>108773.0</td>\n",
       "      <td>18275008</td>\n",
       "      <td>54336</td>\n",
       "      <td>275053</td>\n",
       "      <td>445313.0</td>\n",
       "    </tr>\n",
       "    <tr>\n",
       "      <th>18</th>\n",
       "      <td>2018-06-30</td>\n",
       "      <td>31053</td>\n",
       "      <td>1401.4650</td>\n",
       "      <td>96827.0</td>\n",
       "      <td>16491096</td>\n",
       "      <td>57204</td>\n",
       "      <td>251214</td>\n",
       "      <td>391244.0</td>\n",
       "    </tr>\n",
       "    <tr>\n",
       "      <th>19</th>\n",
       "      <td>2018-07-31</td>\n",
       "      <td>35513</td>\n",
       "      <td>832.5263</td>\n",
       "      <td>113442.0</td>\n",
       "      <td>19542312</td>\n",
       "      <td>77472</td>\n",
       "      <td>298224</td>\n",
       "      <td>475000.0</td>\n",
       "    </tr>\n",
       "    <tr>\n",
       "      <th>20</th>\n",
       "      <td>2018-08-31</td>\n",
       "      <td>45140</td>\n",
       "      <td>2774.4668</td>\n",
       "      <td>132299.0</td>\n",
       "      <td>23077848</td>\n",
       "      <td>102924</td>\n",
       "      <td>482223</td>\n",
       "      <td>593332.0</td>\n",
       "    </tr>\n",
       "    <tr>\n",
       "      <th>21</th>\n",
       "      <td>2018-09-30</td>\n",
       "      <td>54408</td>\n",
       "      <td>1732.6938</td>\n",
       "      <td>169460.0</td>\n",
       "      <td>29854292</td>\n",
       "      <td>147940</td>\n",
       "      <td>536298</td>\n",
       "      <td>749032.0</td>\n",
       "    </tr>\n",
       "    <tr>\n",
       "      <th>22</th>\n",
       "      <td>2018-10-31</td>\n",
       "      <td>53885</td>\n",
       "      <td>2084.1574</td>\n",
       "      <td>159709.0</td>\n",
       "      <td>27822166</td>\n",
       "      <td>151657</td>\n",
       "      <td>625775</td>\n",
       "      <td>694357.0</td>\n",
       "    </tr>\n",
       "    <tr>\n",
       "      <th>23</th>\n",
       "      <td>2018-11-30</td>\n",
       "      <td>52492</td>\n",
       "      <td>2271.3230</td>\n",
       "      <td>150061.0</td>\n",
       "      <td>26421674</td>\n",
       "      <td>157116</td>\n",
       "      <td>598867</td>\n",
       "      <td>683673.0</td>\n",
       "    </tr>\n",
       "    <tr>\n",
       "      <th>24</th>\n",
       "      <td>2018-12-31</td>\n",
       "      <td>39442</td>\n",
       "      <td>2090.4583</td>\n",
       "      <td>130009.0</td>\n",
       "      <td>22673370</td>\n",
       "      <td>11230</td>\n",
       "      <td>443834</td>\n",
       "      <td>544709.0</td>\n",
       "    </tr>\n",
       "    <tr>\n",
       "      <th>25</th>\n",
       "      <td>2019-01-31</td>\n",
       "      <td>45413</td>\n",
       "      <td>2220.6103</td>\n",
       "      <td>152089.0</td>\n",
       "      <td>26418615</td>\n",
       "      <td>26170</td>\n",
       "      <td>503571</td>\n",
       "      <td>675016.0</td>\n",
       "    </tr>\n",
       "    <tr>\n",
       "      <th>26</th>\n",
       "      <td>2019-02-28</td>\n",
       "      <td>57539</td>\n",
       "      <td>2803.5614</td>\n",
       "      <td>171373.0</td>\n",
       "      <td>30614097</td>\n",
       "      <td>45489</td>\n",
       "      <td>660523</td>\n",
       "      <td>785613.0</td>\n",
       "    </tr>\n",
       "    <tr>\n",
       "      <th>27</th>\n",
       "      <td>2019-03-31</td>\n",
       "      <td>35123</td>\n",
       "      <td>2130.1558</td>\n",
       "      <td>142528.0</td>\n",
       "      <td>24918498</td>\n",
       "      <td>49368</td>\n",
       "      <td>476809</td>\n",
       "      <td>614783.0</td>\n",
       "    </tr>\n",
       "    <tr>\n",
       "      <th>28</th>\n",
       "      <td>2019-04-30</td>\n",
       "      <td>71719</td>\n",
       "      <td>3504.0011</td>\n",
       "      <td>185666.0</td>\n",
       "      <td>33341766</td>\n",
       "      <td>82570</td>\n",
       "      <td>675060</td>\n",
       "      <td>833363.0</td>\n",
       "    </tr>\n",
       "    <tr>\n",
       "      <th>29</th>\n",
       "      <td>2019-05-31</td>\n",
       "      <td>71472</td>\n",
       "      <td>3072.4682</td>\n",
       "      <td>191612.0</td>\n",
       "      <td>33894972</td>\n",
       "      <td>100728</td>\n",
       "      <td>868361</td>\n",
       "      <td>889848.0</td>\n",
       "    </tr>\n",
       "    <tr>\n",
       "      <th>30</th>\n",
       "      <td>2019-06-30</td>\n",
       "      <td>33178</td>\n",
       "      <td>2543.4099</td>\n",
       "      <td>132673.0</td>\n",
       "      <td>23091303</td>\n",
       "      <td>80059</td>\n",
       "      <td>463413</td>\n",
       "      <td>575019.0</td>\n",
       "    </tr>\n",
       "    <tr>\n",
       "      <th>31</th>\n",
       "      <td>2019-07-31</td>\n",
       "      <td>55256</td>\n",
       "      <td>2396.1989</td>\n",
       "      <td>151639.0</td>\n",
       "      <td>26961726</td>\n",
       "      <td>106832</td>\n",
       "      <td>651373</td>\n",
       "      <td>685316.0</td>\n",
       "    </tr>\n",
       "    <tr>\n",
       "      <th>32</th>\n",
       "      <td>2019-08-31</td>\n",
       "      <td>83306</td>\n",
       "      <td>5031.9928</td>\n",
       "      <td>257910.0</td>\n",
       "      <td>46503627</td>\n",
       "      <td>207297</td>\n",
       "      <td>1217086</td>\n",
       "      <td>1206635.0</td>\n",
       "    </tr>\n",
       "    <tr>\n",
       "      <th>33</th>\n",
       "      <td>2019-09-30</td>\n",
       "      <td>69550</td>\n",
       "      <td>3309.6167</td>\n",
       "      <td>208509.0</td>\n",
       "      <td>37177866</td>\n",
       "      <td>184140</td>\n",
       "      <td>755350</td>\n",
       "      <td>926005.0</td>\n",
       "    </tr>\n",
       "    <tr>\n",
       "      <th>34</th>\n",
       "      <td>2019-10-31</td>\n",
       "      <td>70056</td>\n",
       "      <td>2615.7322</td>\n",
       "      <td>216149.0</td>\n",
       "      <td>38136891</td>\n",
       "      <td>207779</td>\n",
       "      <td>699534</td>\n",
       "      <td>938044.0</td>\n",
       "    </tr>\n",
       "    <tr>\n",
       "      <th>35</th>\n",
       "      <td>2019-11-30</td>\n",
       "      <td>62760</td>\n",
       "      <td>2784.4537</td>\n",
       "      <td>178510.0</td>\n",
       "      <td>31165284</td>\n",
       "      <td>185232</td>\n",
       "      <td>738301</td>\n",
       "      <td>801472.0</td>\n",
       "    </tr>\n",
       "    <tr>\n",
       "      <th>36</th>\n",
       "      <td>2019-12-31</td>\n",
       "      <td>67225</td>\n",
       "      <td>2894.7156</td>\n",
       "      <td>204125.0</td>\n",
       "      <td>36355960</td>\n",
       "      <td>17998</td>\n",
       "      <td>587206</td>\n",
       "      <td>912365.0</td>\n",
       "    </tr>\n",
       "    <tr>\n",
       "      <th>37</th>\n",
       "      <td>2020-01-31</td>\n",
       "      <td>48536</td>\n",
       "      <td>3043.9212</td>\n",
       "      <td>164338.0</td>\n",
       "      <td>28877920</td>\n",
       "      <td>28592</td>\n",
       "      <td>428358</td>\n",
       "      <td>719537.0</td>\n",
       "    </tr>\n",
       "    <tr>\n",
       "      <th>38</th>\n",
       "      <td>2020-02-29</td>\n",
       "      <td>20492</td>\n",
       "      <td>1323.6135</td>\n",
       "      <td>86195.0</td>\n",
       "      <td>15051020</td>\n",
       "      <td>22353</td>\n",
       "      <td>266120</td>\n",
       "      <td>365129.0</td>\n",
       "    </tr>\n",
       "    <tr>\n",
       "      <th>39</th>\n",
       "      <td>2020-03-31</td>\n",
       "      <td>4978</td>\n",
       "      <td>295.8895</td>\n",
       "      <td>27494.0</td>\n",
       "      <td>4835880</td>\n",
       "      <td>9576</td>\n",
       "      <td>65646</td>\n",
       "      <td>109200.0</td>\n",
       "    </tr>\n",
       "  </tbody>\n",
       "</table>\n",
       "</div>"
      ],
      "text/plain": [
       "         date  numOccurrences  sentiment_score  complexity      year   month  \\\n",
       "0  2016-12-31             873          39.3492      4829.0    911684     452   \n",
       "1  2017-01-31           10434         231.0908     44838.0   7832011    7766   \n",
       "2  2017-02-28           55349        1432.1362    147891.0  25436387   37833   \n",
       "3  2017-03-31           40526         935.3860    118663.0  20890069   41428   \n",
       "4  2017-04-30           78569        1440.0221    135786.0  23526288   58320   \n",
       "5  2017-05-31          104405        1977.4407    228506.0  40247218  119724   \n",
       "6  2017-06-30           45329        1696.4506    120958.0  21043361   73031   \n",
       "7  2017-07-31           52226        1304.3587    118064.0  20597604   81696   \n",
       "8  2017-08-31           51469        2286.5977    143350.0  25496897  113769   \n",
       "9  2017-09-30           65499        1891.2551    147450.0  25611866  126980   \n",
       "10 2017-10-31           50946        2005.2861    153811.0  26793828  146124   \n",
       "11 2017-11-30           56059        1992.5556    123237.0  21446761  127596   \n",
       "12 2017-12-31           45510        1671.5137    123857.0  21390800   10600   \n",
       "13 2018-01-31           39017        1447.0019    105837.0  18513132   18348   \n",
       "14 2018-02-28           38021        2251.2789    120856.0  20375746   30291   \n",
       "15 2018-03-31           35077        2451.5533    119104.0  20177982   39996   \n",
       "16 2018-04-30           30964        2016.3281    115885.0  19643212   48670   \n",
       "17 2018-05-31           30442        2011.7157    108773.0  18275008   54336   \n",
       "18 2018-06-30           31053        1401.4650     96827.0  16491096   57204   \n",
       "19 2018-07-31           35513         832.5263    113442.0  19542312   77472   \n",
       "20 2018-08-31           45140        2774.4668    132299.0  23077848  102924   \n",
       "21 2018-09-30           54408        1732.6938    169460.0  29854292  147940   \n",
       "22 2018-10-31           53885        2084.1574    159709.0  27822166  151657   \n",
       "23 2018-11-30           52492        2271.3230    150061.0  26421674  157116   \n",
       "24 2018-12-31           39442        2090.4583    130009.0  22673370   11230   \n",
       "25 2019-01-31           45413        2220.6103    152089.0  26418615   26170   \n",
       "26 2019-02-28           57539        2803.5614    171373.0  30614097   45489   \n",
       "27 2019-03-31           35123        2130.1558    142528.0  24918498   49368   \n",
       "28 2019-04-30           71719        3504.0011    185666.0  33341766   82570   \n",
       "29 2019-05-31           71472        3072.4682    191612.0  33894972  100728   \n",
       "30 2019-06-30           33178        2543.4099    132673.0  23091303   80059   \n",
       "31 2019-07-31           55256        2396.1989    151639.0  26961726  106832   \n",
       "32 2019-08-31           83306        5031.9928    257910.0  46503627  207297   \n",
       "33 2019-09-30           69550        3309.6167    208509.0  37177866  184140   \n",
       "34 2019-10-31           70056        2615.7322    216149.0  38136891  207779   \n",
       "35 2019-11-30           62760        2784.4537    178510.0  31165284  185232   \n",
       "36 2019-12-31           67225        2894.7156    204125.0  36355960   17998   \n",
       "37 2020-01-31           48536        3043.9212    164338.0  28877920   28592   \n",
       "38 2020-02-29           20492        1323.6135     86195.0  15051020   22353   \n",
       "39 2020-03-31            4978         295.8895     27494.0   4835880    9576   \n",
       "\n",
       "    quotation_count        age  \n",
       "0             27388    23166.0  \n",
       "1            141281   189142.0  \n",
       "2            566584   652966.0  \n",
       "3            421427   523808.0  \n",
       "4            506022   612015.0  \n",
       "5           1201686  1111991.0  \n",
       "6            426738   542514.0  \n",
       "7            377006   531367.0  \n",
       "8            491290   651425.0  \n",
       "9            407966   630731.0  \n",
       "10           524558   676496.0  \n",
       "11           460932   535116.0  \n",
       "12           438720   534615.0  \n",
       "13           314685   443999.0  \n",
       "14           284396   507117.0  \n",
       "15           308479   503289.0  \n",
       "16           294775   486816.0  \n",
       "17           275053   445313.0  \n",
       "18           251214   391244.0  \n",
       "19           298224   475000.0  \n",
       "20           482223   593332.0  \n",
       "21           536298   749032.0  \n",
       "22           625775   694357.0  \n",
       "23           598867   683673.0  \n",
       "24           443834   544709.0  \n",
       "25           503571   675016.0  \n",
       "26           660523   785613.0  \n",
       "27           476809   614783.0  \n",
       "28           675060   833363.0  \n",
       "29           868361   889848.0  \n",
       "30           463413   575019.0  \n",
       "31           651373   685316.0  \n",
       "32          1217086  1206635.0  \n",
       "33           755350   926005.0  \n",
       "34           699534   938044.0  \n",
       "35           738301   801472.0  \n",
       "36           587206   912365.0  \n",
       "37           428358   719537.0  \n",
       "38           266120   365129.0  \n",
       "39            65646   109200.0  "
      ]
     },
     "execution_count": 91,
     "metadata": {},
     "output_type": "execute_result"
    }
   ],
   "source": [
    "scores_sum = df_complexity.groupby(pd.Grouper(key=\"date\", freq=\"M\", label=\"left\")).sum().reset_index()\n",
    "scores_sum[\"date\"] = scores_sum.date + pd.DateOffset(1)"
   ]
  },
  {
   "cell_type": "code",
   "execution_count": 35,
   "id": "1671c386-e1b3-470e-a4c7-4f1d9b8ebe4c",
   "metadata": {},
   "outputs": [],
   "source": [
    "df_det_skinned['date'] = pd.to_datetime(df_det_skinned.YEAR*10000+df_det_skinned.MONTH_NAME*100+1,format='%Y%m%d') "
   ]
  },
  {
   "cell_type": "code",
   "execution_count": 84,
   "id": "7ebc564c-da60-48b0-a1cb-61a5081e57c3",
   "metadata": {},
   "outputs": [],
   "source": [
    "damages_sum = df_det_skinned.groupby(pd.Grouper(key=\"date\", freq=\"m\", label=\"left\")).sum().reset_index()\n",
    "damages_sum['date'] = damages_sum.date + pd.DateOffset(1)"
   ]
  },
  {
   "cell_type": "code",
   "execution_count": 85,
   "id": "6a6317b0-7ba1-4bb4-b733-c5635bda2409",
   "metadata": {},
   "outputs": [],
   "source": [
    "# Function for easing of plotting numbers\n",
    "def M_K(x):\n",
    "    x = round(x/1000)\n",
    "    \n",
    "    if x >= 1000 * 1000:\n",
    "        x = round(x/(1000*1000), ndigits=1)\n",
    "        x = str(x) + 'B'\n",
    "        return x\n",
    "    elif x >= 1000:\n",
    "        x = round(x/1000)\n",
    "        x = str(x) + 'M'\n",
    "        return x\n",
    "    return str(x) + 'K'"
   ]
  },
  {
   "cell_type": "code",
   "execution_count": 92,
   "id": "1d852ad2-049f-465d-99bb-60a933491406",
   "metadata": {},
   "outputs": [
    {
     "data": {
      "application/vnd.plotly.v1+json": {
       "config": {
        "plotlyServerURL": "https://plot.ly"
       },
       "data": [
        {
         "text": [
          "36M",
          "123M",
          "1.8B",
          "1.8B",
          "103M",
          "335M",
          "153M",
          "9.1B",
          "387M",
          "4.0B",
          "322M",
          "63M",
          "768M",
          "775M",
          "672M",
          "233M",
          "2.5B",
          "527M",
          "232M",
          "51.3B",
          "23.1B",
          "124M",
          "52M",
          "64M",
          "639M",
          "124M",
          "103M",
          "298M",
          "231M",
          "807M",
          "2.0B",
          "569M",
          "2.0B",
          "8.0B",
          "17.0B",
          "140M",
          "13M",
          "341M",
          "743M",
          "221M",
          "1.2B",
          "237M",
          "218M",
          "79M",
          "1.0B",
          "2.1B",
          "66M",
          "40M",
          "91M",
          "127M",
          "2.0B",
          "634M",
          "437M",
          "148M",
          "150M",
          "12.6B",
          "5.5B",
          "4.3B",
          "80M",
          "60M"
         ],
         "type": "bar",
         "x": [
          "2016-01-01T00:00:00",
          "2016-02-01T00:00:00",
          "2016-03-01T00:00:00",
          "2016-04-01T00:00:00",
          "2016-05-01T00:00:00",
          "2016-06-01T00:00:00",
          "2016-07-01T00:00:00",
          "2016-08-01T00:00:00",
          "2016-09-01T00:00:00",
          "2016-10-01T00:00:00",
          "2016-11-01T00:00:00",
          "2016-12-01T00:00:00",
          "2017-01-01T00:00:00",
          "2017-02-01T00:00:00",
          "2017-03-01T00:00:00",
          "2017-04-01T00:00:00",
          "2017-05-01T00:00:00",
          "2017-06-01T00:00:00",
          "2017-07-01T00:00:00",
          "2017-08-01T00:00:00",
          "2017-09-01T00:00:00",
          "2017-10-01T00:00:00",
          "2017-11-01T00:00:00",
          "2017-12-01T00:00:00",
          "2018-01-01T00:00:00",
          "2018-02-01T00:00:00",
          "2018-03-01T00:00:00",
          "2018-04-01T00:00:00",
          "2018-05-01T00:00:00",
          "2018-06-01T00:00:00",
          "2018-07-01T00:00:00",
          "2018-08-01T00:00:00",
          "2018-09-01T00:00:00",
          "2018-10-01T00:00:00",
          "2018-11-01T00:00:00",
          "2018-12-01T00:00:00",
          "2019-01-01T00:00:00",
          "2019-02-01T00:00:00",
          "2019-03-01T00:00:00",
          "2019-04-01T00:00:00",
          "2019-05-01T00:00:00",
          "2019-06-01T00:00:00",
          "2019-07-01T00:00:00",
          "2019-08-01T00:00:00",
          "2019-09-01T00:00:00",
          "2019-10-01T00:00:00",
          "2019-11-01T00:00:00",
          "2019-12-01T00:00:00",
          "2020-01-01T00:00:00",
          "2020-02-01T00:00:00",
          "2020-03-01T00:00:00",
          "2020-04-01T00:00:00",
          "2020-05-01T00:00:00",
          "2020-06-01T00:00:00",
          "2020-07-01T00:00:00",
          "2020-08-01T00:00:00",
          "2020-09-01T00:00:00",
          "2020-10-01T00:00:00",
          "2020-11-01T00:00:00",
          "2020-12-01T00:00:00"
         ],
         "xaxis": "x",
         "y": [
          35926300,
          123143600,
          1802718700,
          1798823910,
          102983850,
          334923200,
          153166560,
          9120783100,
          387082010,
          3974117870,
          321901530,
          63436800,
          767698090,
          774863500,
          672415610,
          233470820,
          2536515900,
          526934670,
          231649710,
          51345203990,
          23073895300,
          123729590,
          51893750,
          64221000,
          639114300,
          124485500,
          102590450,
          297665550,
          230606910,
          807034470,
          1979957350,
          568956060,
          2026481760,
          7963127000,
          17026847700,
          140249050,
          12898500,
          340639870,
          742937810,
          220789850,
          1188925700,
          236785520,
          218046030,
          79369040,
          1015905230,
          2081886750,
          65570900,
          39758550,
          90730360,
          126871840,
          1983903920,
          633663380,
          436750790,
          148025200,
          149611560,
          12594655270,
          5489726600,
          4299317150,
          80234700,
          60266510
         ],
         "yaxis": "y"
        },
        {
         "type": "scatter",
         "x": [
          "2016-12-31T00:00:00",
          "2017-01-31T00:00:00",
          "2017-02-28T00:00:00",
          "2017-03-31T00:00:00",
          "2017-04-30T00:00:00",
          "2017-05-31T00:00:00",
          "2017-06-30T00:00:00",
          "2017-07-31T00:00:00",
          "2017-08-31T00:00:00",
          "2017-09-30T00:00:00",
          "2017-10-31T00:00:00",
          "2017-11-30T00:00:00",
          "2017-12-31T00:00:00",
          "2018-01-31T00:00:00",
          "2018-02-28T00:00:00",
          "2018-03-31T00:00:00",
          "2018-04-30T00:00:00",
          "2018-05-31T00:00:00",
          "2018-06-30T00:00:00",
          "2018-07-31T00:00:00",
          "2018-08-31T00:00:00",
          "2018-09-30T00:00:00",
          "2018-10-31T00:00:00",
          "2018-11-30T00:00:00",
          "2018-12-31T00:00:00",
          "2019-01-31T00:00:00",
          "2019-02-28T00:00:00",
          "2019-03-31T00:00:00",
          "2019-04-30T00:00:00",
          "2019-05-31T00:00:00",
          "2019-06-30T00:00:00",
          "2019-07-31T00:00:00",
          "2019-08-31T00:00:00",
          "2019-09-30T00:00:00",
          "2019-10-31T00:00:00",
          "2019-11-30T00:00:00",
          "2019-12-31T00:00:00",
          "2020-01-31T00:00:00",
          "2020-02-29T00:00:00",
          "2020-03-31T00:00:00"
         ],
         "xaxis": "x",
         "y": [
          39.349199999999996,
          231.0908,
          1432.1362,
          935.386,
          1440.0221,
          1977.4406999999999,
          1696.4506,
          1304.3587,
          2286.5977,
          1891.2551,
          2005.2861,
          1992.5556,
          1671.5137,
          1447.0019,
          2251.2789,
          2451.5533,
          2016.3281,
          2011.7157,
          1401.465,
          832.5263,
          2774.4668,
          1732.6938,
          2084.1574,
          2271.323,
          2090.4583,
          2220.6103,
          2803.5614,
          2130.1558,
          3504.0011,
          3072.4682,
          2543.4099,
          2396.1989,
          5031.9928,
          3309.6167,
          2615.7322,
          2784.4537,
          2894.7156,
          3043.9212,
          1323.6135,
          295.8895
         ],
         "yaxis": "y2"
        }
       ],
       "layout": {
        "autosize": true,
        "showlegend": false,
        "template": {
         "data": {
          "bar": [
           {
            "error_x": {
             "color": "#2a3f5f"
            },
            "error_y": {
             "color": "#2a3f5f"
            },
            "marker": {
             "line": {
              "color": "#E5ECF6",
              "width": 0.5
             },
             "pattern": {
              "fillmode": "overlay",
              "size": 10,
              "solidity": 0.2
             }
            },
            "type": "bar"
           }
          ],
          "barpolar": [
           {
            "marker": {
             "line": {
              "color": "#E5ECF6",
              "width": 0.5
             },
             "pattern": {
              "fillmode": "overlay",
              "size": 10,
              "solidity": 0.2
             }
            },
            "type": "barpolar"
           }
          ],
          "carpet": [
           {
            "aaxis": {
             "endlinecolor": "#2a3f5f",
             "gridcolor": "white",
             "linecolor": "white",
             "minorgridcolor": "white",
             "startlinecolor": "#2a3f5f"
            },
            "baxis": {
             "endlinecolor": "#2a3f5f",
             "gridcolor": "white",
             "linecolor": "white",
             "minorgridcolor": "white",
             "startlinecolor": "#2a3f5f"
            },
            "type": "carpet"
           }
          ],
          "choropleth": [
           {
            "colorbar": {
             "outlinewidth": 0,
             "ticks": ""
            },
            "type": "choropleth"
           }
          ],
          "contour": [
           {
            "colorbar": {
             "outlinewidth": 0,
             "ticks": ""
            },
            "colorscale": [
             [
              0,
              "#0d0887"
             ],
             [
              0.1111111111111111,
              "#46039f"
             ],
             [
              0.2222222222222222,
              "#7201a8"
             ],
             [
              0.3333333333333333,
              "#9c179e"
             ],
             [
              0.4444444444444444,
              "#bd3786"
             ],
             [
              0.5555555555555556,
              "#d8576b"
             ],
             [
              0.6666666666666666,
              "#ed7953"
             ],
             [
              0.7777777777777778,
              "#fb9f3a"
             ],
             [
              0.8888888888888888,
              "#fdca26"
             ],
             [
              1,
              "#f0f921"
             ]
            ],
            "type": "contour"
           }
          ],
          "contourcarpet": [
           {
            "colorbar": {
             "outlinewidth": 0,
             "ticks": ""
            },
            "type": "contourcarpet"
           }
          ],
          "heatmap": [
           {
            "colorbar": {
             "outlinewidth": 0,
             "ticks": ""
            },
            "colorscale": [
             [
              0,
              "#0d0887"
             ],
             [
              0.1111111111111111,
              "#46039f"
             ],
             [
              0.2222222222222222,
              "#7201a8"
             ],
             [
              0.3333333333333333,
              "#9c179e"
             ],
             [
              0.4444444444444444,
              "#bd3786"
             ],
             [
              0.5555555555555556,
              "#d8576b"
             ],
             [
              0.6666666666666666,
              "#ed7953"
             ],
             [
              0.7777777777777778,
              "#fb9f3a"
             ],
             [
              0.8888888888888888,
              "#fdca26"
             ],
             [
              1,
              "#f0f921"
             ]
            ],
            "type": "heatmap"
           }
          ],
          "heatmapgl": [
           {
            "colorbar": {
             "outlinewidth": 0,
             "ticks": ""
            },
            "colorscale": [
             [
              0,
              "#0d0887"
             ],
             [
              0.1111111111111111,
              "#46039f"
             ],
             [
              0.2222222222222222,
              "#7201a8"
             ],
             [
              0.3333333333333333,
              "#9c179e"
             ],
             [
              0.4444444444444444,
              "#bd3786"
             ],
             [
              0.5555555555555556,
              "#d8576b"
             ],
             [
              0.6666666666666666,
              "#ed7953"
             ],
             [
              0.7777777777777778,
              "#fb9f3a"
             ],
             [
              0.8888888888888888,
              "#fdca26"
             ],
             [
              1,
              "#f0f921"
             ]
            ],
            "type": "heatmapgl"
           }
          ],
          "histogram": [
           {
            "marker": {
             "pattern": {
              "fillmode": "overlay",
              "size": 10,
              "solidity": 0.2
             }
            },
            "type": "histogram"
           }
          ],
          "histogram2d": [
           {
            "colorbar": {
             "outlinewidth": 0,
             "ticks": ""
            },
            "colorscale": [
             [
              0,
              "#0d0887"
             ],
             [
              0.1111111111111111,
              "#46039f"
             ],
             [
              0.2222222222222222,
              "#7201a8"
             ],
             [
              0.3333333333333333,
              "#9c179e"
             ],
             [
              0.4444444444444444,
              "#bd3786"
             ],
             [
              0.5555555555555556,
              "#d8576b"
             ],
             [
              0.6666666666666666,
              "#ed7953"
             ],
             [
              0.7777777777777778,
              "#fb9f3a"
             ],
             [
              0.8888888888888888,
              "#fdca26"
             ],
             [
              1,
              "#f0f921"
             ]
            ],
            "type": "histogram2d"
           }
          ],
          "histogram2dcontour": [
           {
            "colorbar": {
             "outlinewidth": 0,
             "ticks": ""
            },
            "colorscale": [
             [
              0,
              "#0d0887"
             ],
             [
              0.1111111111111111,
              "#46039f"
             ],
             [
              0.2222222222222222,
              "#7201a8"
             ],
             [
              0.3333333333333333,
              "#9c179e"
             ],
             [
              0.4444444444444444,
              "#bd3786"
             ],
             [
              0.5555555555555556,
              "#d8576b"
             ],
             [
              0.6666666666666666,
              "#ed7953"
             ],
             [
              0.7777777777777778,
              "#fb9f3a"
             ],
             [
              0.8888888888888888,
              "#fdca26"
             ],
             [
              1,
              "#f0f921"
             ]
            ],
            "type": "histogram2dcontour"
           }
          ],
          "mesh3d": [
           {
            "colorbar": {
             "outlinewidth": 0,
             "ticks": ""
            },
            "type": "mesh3d"
           }
          ],
          "parcoords": [
           {
            "line": {
             "colorbar": {
              "outlinewidth": 0,
              "ticks": ""
             }
            },
            "type": "parcoords"
           }
          ],
          "pie": [
           {
            "automargin": true,
            "type": "pie"
           }
          ],
          "scatter": [
           {
            "marker": {
             "colorbar": {
              "outlinewidth": 0,
              "ticks": ""
             }
            },
            "type": "scatter"
           }
          ],
          "scatter3d": [
           {
            "line": {
             "colorbar": {
              "outlinewidth": 0,
              "ticks": ""
             }
            },
            "marker": {
             "colorbar": {
              "outlinewidth": 0,
              "ticks": ""
             }
            },
            "type": "scatter3d"
           }
          ],
          "scattercarpet": [
           {
            "marker": {
             "colorbar": {
              "outlinewidth": 0,
              "ticks": ""
             }
            },
            "type": "scattercarpet"
           }
          ],
          "scattergeo": [
           {
            "marker": {
             "colorbar": {
              "outlinewidth": 0,
              "ticks": ""
             }
            },
            "type": "scattergeo"
           }
          ],
          "scattergl": [
           {
            "marker": {
             "colorbar": {
              "outlinewidth": 0,
              "ticks": ""
             }
            },
            "type": "scattergl"
           }
          ],
          "scattermapbox": [
           {
            "marker": {
             "colorbar": {
              "outlinewidth": 0,
              "ticks": ""
             }
            },
            "type": "scattermapbox"
           }
          ],
          "scatterpolar": [
           {
            "marker": {
             "colorbar": {
              "outlinewidth": 0,
              "ticks": ""
             }
            },
            "type": "scatterpolar"
           }
          ],
          "scatterpolargl": [
           {
            "marker": {
             "colorbar": {
              "outlinewidth": 0,
              "ticks": ""
             }
            },
            "type": "scatterpolargl"
           }
          ],
          "scatterternary": [
           {
            "marker": {
             "colorbar": {
              "outlinewidth": 0,
              "ticks": ""
             }
            },
            "type": "scatterternary"
           }
          ],
          "surface": [
           {
            "colorbar": {
             "outlinewidth": 0,
             "ticks": ""
            },
            "colorscale": [
             [
              0,
              "#0d0887"
             ],
             [
              0.1111111111111111,
              "#46039f"
             ],
             [
              0.2222222222222222,
              "#7201a8"
             ],
             [
              0.3333333333333333,
              "#9c179e"
             ],
             [
              0.4444444444444444,
              "#bd3786"
             ],
             [
              0.5555555555555556,
              "#d8576b"
             ],
             [
              0.6666666666666666,
              "#ed7953"
             ],
             [
              0.7777777777777778,
              "#fb9f3a"
             ],
             [
              0.8888888888888888,
              "#fdca26"
             ],
             [
              1,
              "#f0f921"
             ]
            ],
            "type": "surface"
           }
          ],
          "table": [
           {
            "cells": {
             "fill": {
              "color": "#EBF0F8"
             },
             "line": {
              "color": "white"
             }
            },
            "header": {
             "fill": {
              "color": "#C8D4E3"
             },
             "line": {
              "color": "white"
             }
            },
            "type": "table"
           }
          ]
         },
         "layout": {
          "annotationdefaults": {
           "arrowcolor": "#2a3f5f",
           "arrowhead": 0,
           "arrowwidth": 1
          },
          "autotypenumbers": "strict",
          "coloraxis": {
           "colorbar": {
            "outlinewidth": 0,
            "ticks": ""
           }
          },
          "colorscale": {
           "diverging": [
            [
             0,
             "#8e0152"
            ],
            [
             0.1,
             "#c51b7d"
            ],
            [
             0.2,
             "#de77ae"
            ],
            [
             0.3,
             "#f1b6da"
            ],
            [
             0.4,
             "#fde0ef"
            ],
            [
             0.5,
             "#f7f7f7"
            ],
            [
             0.6,
             "#e6f5d0"
            ],
            [
             0.7,
             "#b8e186"
            ],
            [
             0.8,
             "#7fbc41"
            ],
            [
             0.9,
             "#4d9221"
            ],
            [
             1,
             "#276419"
            ]
           ],
           "sequential": [
            [
             0,
             "#0d0887"
            ],
            [
             0.1111111111111111,
             "#46039f"
            ],
            [
             0.2222222222222222,
             "#7201a8"
            ],
            [
             0.3333333333333333,
             "#9c179e"
            ],
            [
             0.4444444444444444,
             "#bd3786"
            ],
            [
             0.5555555555555556,
             "#d8576b"
            ],
            [
             0.6666666666666666,
             "#ed7953"
            ],
            [
             0.7777777777777778,
             "#fb9f3a"
            ],
            [
             0.8888888888888888,
             "#fdca26"
            ],
            [
             1,
             "#f0f921"
            ]
           ],
           "sequentialminus": [
            [
             0,
             "#0d0887"
            ],
            [
             0.1111111111111111,
             "#46039f"
            ],
            [
             0.2222222222222222,
             "#7201a8"
            ],
            [
             0.3333333333333333,
             "#9c179e"
            ],
            [
             0.4444444444444444,
             "#bd3786"
            ],
            [
             0.5555555555555556,
             "#d8576b"
            ],
            [
             0.6666666666666666,
             "#ed7953"
            ],
            [
             0.7777777777777778,
             "#fb9f3a"
            ],
            [
             0.8888888888888888,
             "#fdca26"
            ],
            [
             1,
             "#f0f921"
            ]
           ]
          },
          "colorway": [
           "#636efa",
           "#EF553B",
           "#00cc96",
           "#ab63fa",
           "#FFA15A",
           "#19d3f3",
           "#FF6692",
           "#B6E880",
           "#FF97FF",
           "#FECB52"
          ],
          "font": {
           "color": "#2a3f5f"
          },
          "geo": {
           "bgcolor": "white",
           "lakecolor": "white",
           "landcolor": "#E5ECF6",
           "showlakes": true,
           "showland": true,
           "subunitcolor": "white"
          },
          "hoverlabel": {
           "align": "left"
          },
          "hovermode": "closest",
          "mapbox": {
           "style": "light"
          },
          "paper_bgcolor": "white",
          "plot_bgcolor": "#E5ECF6",
          "polar": {
           "angularaxis": {
            "gridcolor": "white",
            "linecolor": "white",
            "ticks": ""
           },
           "bgcolor": "#E5ECF6",
           "radialaxis": {
            "gridcolor": "white",
            "linecolor": "white",
            "ticks": ""
           }
          },
          "scene": {
           "xaxis": {
            "backgroundcolor": "#E5ECF6",
            "gridcolor": "white",
            "gridwidth": 2,
            "linecolor": "white",
            "showbackground": true,
            "ticks": "",
            "zerolinecolor": "white"
           },
           "yaxis": {
            "backgroundcolor": "#E5ECF6",
            "gridcolor": "white",
            "gridwidth": 2,
            "linecolor": "white",
            "showbackground": true,
            "ticks": "",
            "zerolinecolor": "white"
           },
           "zaxis": {
            "backgroundcolor": "#E5ECF6",
            "gridcolor": "white",
            "gridwidth": 2,
            "linecolor": "white",
            "showbackground": true,
            "ticks": "",
            "zerolinecolor": "white"
           }
          },
          "shapedefaults": {
           "line": {
            "color": "#2a3f5f"
           }
          },
          "ternary": {
           "aaxis": {
            "gridcolor": "white",
            "linecolor": "white",
            "ticks": ""
           },
           "baxis": {
            "gridcolor": "white",
            "linecolor": "white",
            "ticks": ""
           },
           "bgcolor": "#E5ECF6",
           "caxis": {
            "gridcolor": "white",
            "linecolor": "white",
            "ticks": ""
           }
          },
          "title": {
           "x": 0.05
          },
          "xaxis": {
           "automargin": true,
           "gridcolor": "white",
           "linecolor": "white",
           "ticks": "",
           "title": {
            "standoff": 15
           },
           "zerolinecolor": "white",
           "zerolinewidth": 2
          },
          "yaxis": {
           "automargin": true,
           "gridcolor": "white",
           "linecolor": "white",
           "ticks": "",
           "title": {
            "standoff": 15
           },
           "zerolinecolor": "white",
           "zerolinewidth": 2
          }
         }
        },
        "title": {
         "text": "Damages from extreme weather events vs sentiment score sum"
        },
        "xaxis": {
         "anchor": "y",
         "domain": [
          0,
          0.94
         ],
         "dtick": "M1",
         "range": [
          "2018-12-15",
          "2020-01-15"
         ],
         "tickformat": "%b\n%Y",
         "title": {
          "text": "Date"
         },
         "type": "date"
        },
        "yaxis": {
         "anchor": "x",
         "domain": [
          0,
          1
         ],
         "range": [
          0,
          3000000000
         ],
         "title": {
          "text": "Damages"
         },
         "type": "linear"
        },
        "yaxis2": {
         "anchor": "x",
         "autorange": true,
         "overlaying": "y",
         "range": [
          -238.0198888888889,
          5309.361888888889
         ],
         "side": "right",
         "title": {
          "text": "Sum of sentiment score"
         },
         "type": "linear"
        }
       }
      },
      "image/png": "[encoded data removed]",
      "text/html": [
       "<div>                            <div id=\"2d99ddb6-066f-483c-888d-d78cc854871f\" class=\"plotly-graph-div\" style=\"height:525px; width:100%;\"></div>            <script type=\"text/javascript\">                require([\"plotly\"], function(Plotly) {                    window.PLOTLYENV=window.PLOTLYENV || {};                                    if (document.getElementById(\"2d99ddb6-066f-483c-888d-d78cc854871f\")) {                    Plotly.newPlot(                        \"2d99ddb6-066f-483c-888d-d78cc854871f\",                        [{\"text\":[\"36M\",\"123M\",\"1.8B\",\"1.8B\",\"103M\",\"335M\",\"153M\",\"9.1B\",\"387M\",\"4.0B\",\"322M\",\"63M\",\"768M\",\"775M\",\"672M\",\"233M\",\"2.5B\",\"527M\",\"232M\",\"51.3B\",\"23.1B\",\"124M\",\"52M\",\"64M\",\"639M\",\"124M\",\"103M\",\"298M\",\"231M\",\"807M\",\"2.0B\",\"569M\",\"2.0B\",\"8.0B\",\"17.0B\",\"140M\",\"13M\",\"341M\",\"743M\",\"221M\",\"1.2B\",\"237M\",\"218M\",\"79M\",\"1.0B\",\"2.1B\",\"66M\",\"40M\",\"91M\",\"127M\",\"2.0B\",\"634M\",\"437M\",\"148M\",\"150M\",\"12.6B\",\"5.5B\",\"4.3B\",\"80M\",\"60M\"],\"x\":[\"2016-01-01T00:00:00\",\"2016-02-01T00:00:00\",\"2016-03-01T00:00:00\",\"2016-04-01T00:00:00\",\"2016-05-01T00:00:00\",\"2016-06-01T00:00:00\",\"2016-07-01T00:00:00\",\"2016-08-01T00:00:00\",\"2016-09-01T00:00:00\",\"2016-10-01T00:00:00\",\"2016-11-01T00:00:00\",\"2016-12-01T00:00:00\",\"2017-01-01T00:00:00\",\"2017-02-01T00:00:00\",\"2017-03-01T00:00:00\",\"2017-04-01T00:00:00\",\"2017-05-01T00:00:00\",\"2017-06-01T00:00:00\",\"2017-07-01T00:00:00\",\"2017-08-01T00:00:00\",\"2017-09-01T00:00:00\",\"2017-10-01T00:00:00\",\"2017-11-01T00:00:00\",\"2017-12-01T00:00:00\",\"2018-01-01T00:00:00\",\"2018-02-01T00:00:00\",\"2018-03-01T00:00:00\",\"2018-04-01T00:00:00\",\"2018-05-01T00:00:00\",\"2018-06-01T00:00:00\",\"2018-07-01T00:00:00\",\"2018-08-01T00:00:00\",\"2018-09-01T00:00:00\",\"2018-10-01T00:00:00\",\"2018-11-01T00:00:00\",\"2018-12-01T00:00:00\",\"2019-01-01T00:00:00\",\"2019-02-01T00:00:00\",\"2019-03-01T00:00:00\",\"2019-04-01T00:00:00\",\"2019-05-01T00:00:00\",\"2019-06-01T00:00:00\",\"2019-07-01T00:00:00\",\"2019-08-01T00:00:00\",\"2019-09-01T00:00:00\",\"2019-10-01T00:00:00\",\"2019-11-01T00:00:00\",\"2019-12-01T00:00:00\",\"2020-01-01T00:00:00\",\"2020-02-01T00:00:00\",\"2020-03-01T00:00:00\",\"2020-04-01T00:00:00\",\"2020-05-01T00:00:00\",\"2020-06-01T00:00:00\",\"2020-07-01T00:00:00\",\"2020-08-01T00:00:00\",\"2020-09-01T00:00:00\",\"2020-10-01T00:00:00\",\"2020-11-01T00:00:00\",\"2020-12-01T00:00:00\"],\"y\":[35926300.0,123143600.0,1802718700.0,1798823910.0,102983850.0,334923200.0,153166560.0,9120783100.0,387082010.0,3974117870.0,321901530.0,63436800.0,767698090.0,774863500.0,672415610.0,233470820.0,2536515900.0,526934670.0,231649710.0,51345203990.0,23073895300.0,123729590.0,51893750.0,64221000.0,639114300.0,124485500.0,102590450.0,297665550.0,230606910.0,807034470.0,1979957350.0,568956060.0,2026481760.0,7963127000.0,17026847700.0,140249050.0,12898500.0,340639870.0,742937810.0,220789850.0,1188925700.0,236785520.0,218046030.0,79369040.0,1015905230.0,2081886750.0,65570900.0,39758550.0,90730360.0,126871840.0,1983903920.0,633663380.0,436750790.0,148025200.0,149611560.0,12594655270.0,5489726600.0,4299317150.0,80234700.0,60266510.0],\"type\":\"bar\",\"xaxis\":\"x\",\"yaxis\":\"y\"},{\"x\":[\"2016-12-31T00:00:00\",\"2017-01-31T00:00:00\",\"2017-02-28T00:00:00\",\"2017-03-31T00:00:00\",\"2017-04-30T00:00:00\",\"2017-05-31T00:00:00\",\"2017-06-30T00:00:00\",\"2017-07-31T00:00:00\",\"2017-08-31T00:00:00\",\"2017-09-30T00:00:00\",\"2017-10-31T00:00:00\",\"2017-11-30T00:00:00\",\"2017-12-31T00:00:00\",\"2018-01-31T00:00:00\",\"2018-02-28T00:00:00\",\"2018-03-31T00:00:00\",\"2018-04-30T00:00:00\",\"2018-05-31T00:00:00\",\"2018-06-30T00:00:00\",\"2018-07-31T00:00:00\",\"2018-08-31T00:00:00\",\"2018-09-30T00:00:00\",\"2018-10-31T00:00:00\",\"2018-11-30T00:00:00\",\"2018-12-31T00:00:00\",\"2019-01-31T00:00:00\",\"2019-02-28T00:00:00\",\"2019-03-31T00:00:00\",\"2019-04-30T00:00:00\",\"2019-05-31T00:00:00\",\"2019-06-30T00:00:00\",\"2019-07-31T00:00:00\",\"2019-08-31T00:00:00\",\"2019-09-30T00:00:00\",\"2019-10-31T00:00:00\",\"2019-11-30T00:00:00\",\"2019-12-31T00:00:00\",\"2020-01-31T00:00:00\",\"2020-02-29T00:00:00\",\"2020-03-31T00:00:00\"],\"y\":[39.349199999999996,231.0908,1432.1362,935.386,1440.0221,1977.4406999999999,1696.4506,1304.3587,2286.5977,1891.2551,2005.2861,1992.5556,1671.5137,1447.0019,2251.2789,2451.5533,2016.3281,2011.7157,1401.465,832.5263,2774.4668,1732.6938,2084.1574,2271.323,2090.4583,2220.6103,2803.5614,2130.1558,3504.0011,3072.4682,2543.4099,2396.1989,5031.9928,3309.6167,2615.7322,2784.4537,2894.7156,3043.9212,1323.6135,295.8895],\"type\":\"scatter\",\"xaxis\":\"x\",\"yaxis\":\"y2\"}],                        {\"template\":{\"data\":{\"bar\":[{\"error_x\":{\"color\":\"#2a3f5f\"},\"error_y\":{\"color\":\"#2a3f5f\"},\"marker\":{\"line\":{\"color\":\"#E5ECF6\",\"width\":0.5},\"pattern\":{\"fillmode\":\"overlay\",\"size\":10,\"solidity\":0.2}},\"type\":\"bar\"}],\"barpolar\":[{\"marker\":{\"line\":{\"color\":\"#E5ECF6\",\"width\":0.5},\"pattern\":{\"fillmode\":\"overlay\",\"size\":10,\"solidity\":0.2}},\"type\":\"barpolar\"}],\"carpet\":[{\"aaxis\":{\"endlinecolor\":\"#2a3f5f\",\"gridcolor\":\"white\",\"linecolor\":\"white\",\"minorgridcolor\":\"white\",\"startlinecolor\":\"#2a3f5f\"},\"baxis\":{\"endlinecolor\":\"#2a3f5f\",\"gridcolor\":\"white\",\"linecolor\":\"white\",\"minorgridcolor\":\"white\",\"startlinecolor\":\"#2a3f5f\"},\"type\":\"carpet\"}],\"choropleth\":[{\"colorbar\":{\"outlinewidth\":0,\"ticks\":\"\"},\"type\":\"choropleth\"}],\"contour\":[{\"colorbar\":{\"outlinewidth\":0,\"ticks\":\"\"},\"colorscale\":[[0.0,\"#0d0887\"],[0.1111111111111111,\"#46039f\"],[0.2222222222222222,\"#7201a8\"],[0.3333333333333333,\"#9c179e\"],[0.4444444444444444,\"#bd3786\"],[0.5555555555555556,\"#d8576b\"],[0.6666666666666666,\"#ed7953\"],[0.7777777777777778,\"#fb9f3a\"],[0.8888888888888888,\"#fdca26\"],[1.0,\"#f0f921\"]],\"type\":\"contour\"}],\"contourcarpet\":[{\"colorbar\":{\"outlinewidth\":0,\"ticks\":\"\"},\"type\":\"contourcarpet\"}],\"heatmap\":[{\"colorbar\":{\"outlinewidth\":0,\"ticks\":\"\"},\"colorscale\":[[0.0,\"#0d0887\"],[0.1111111111111111,\"#46039f\"],[0.2222222222222222,\"#7201a8\"],[0.3333333333333333,\"#9c179e\"],[0.4444444444444444,\"#bd3786\"],[0.5555555555555556,\"#d8576b\"],[0.6666666666666666,\"#ed7953\"],[0.7777777777777778,\"#fb9f3a\"],[0.8888888888888888,\"#fdca26\"],[1.0,\"#f0f921\"]],\"type\":\"heatmap\"}],\"heatmapgl\":[{\"colorbar\":{\"outlinewidth\":0,\"ticks\":\"\"},\"colorscale\":[[0.0,\"#0d0887\"],[0.1111111111111111,\"#46039f\"],[0.2222222222222222,\"#7201a8\"],[0.3333333333333333,\"#9c179e\"],[0.4444444444444444,\"#bd3786\"],[0.5555555555555556,\"#d8576b\"],[0.6666666666666666,\"#ed7953\"],[0.7777777777777778,\"#fb9f3a\"],[0.8888888888888888,\"#fdca26\"],[1.0,\"#f0f921\"]],\"type\":\"heatmapgl\"}],\"histogram\":[{\"marker\":{\"pattern\":{\"fillmode\":\"overlay\",\"size\":10,\"solidity\":0.2}},\"type\":\"histogram\"}],\"histogram2d\":[{\"colorbar\":{\"outlinewidth\":0,\"ticks\":\"\"},\"colorscale\":[[0.0,\"#0d0887\"],[0.1111111111111111,\"#46039f\"],[0.2222222222222222,\"#7201a8\"],[0.3333333333333333,\"#9c179e\"],[0.4444444444444444,\"#bd3786\"],[0.5555555555555556,\"#d8576b\"],[0.6666666666666666,\"#ed7953\"],[0.7777777777777778,\"#fb9f3a\"],[0.8888888888888888,\"#fdca26\"],[1.0,\"#f0f921\"]],\"type\":\"histogram2d\"}],\"histogram2dcontour\":[{\"colorbar\":{\"outlinewidth\":0,\"ticks\":\"\"},\"colorscale\":[[0.0,\"#0d0887\"],[0.1111111111111111,\"#46039f\"],[0.2222222222222222,\"#7201a8\"],[0.3333333333333333,\"#9c179e\"],[0.4444444444444444,\"#bd3786\"],[0.5555555555555556,\"#d8576b\"],[0.6666666666666666,\"#ed7953\"],[0.7777777777777778,\"#fb9f3a\"],[0.8888888888888888,\"#fdca26\"],[1.0,\"#f0f921\"]],\"type\":\"histogram2dcontour\"}],\"mesh3d\":[{\"colorbar\":{\"outlinewidth\":0,\"ticks\":\"\"},\"type\":\"mesh3d\"}],\"parcoords\":[{\"line\":{\"colorbar\":{\"outlinewidth\":0,\"ticks\":\"\"}},\"type\":\"parcoords\"}],\"pie\":[{\"automargin\":true,\"type\":\"pie\"}],\"scatter\":[{\"marker\":{\"colorbar\":{\"outlinewidth\":0,\"ticks\":\"\"}},\"type\":\"scatter\"}],\"scatter3d\":[{\"line\":{\"colorbar\":{\"outlinewidth\":0,\"ticks\":\"\"}},\"marker\":{\"colorbar\":{\"outlinewidth\":0,\"ticks\":\"\"}},\"type\":\"scatter3d\"}],\"scattercarpet\":[{\"marker\":{\"colorbar\":{\"outlinewidth\":0,\"ticks\":\"\"}},\"type\":\"scattercarpet\"}],\"scattergeo\":[{\"marker\":{\"colorbar\":{\"outlinewidth\":0,\"ticks\":\"\"}},\"type\":\"scattergeo\"}],\"scattergl\":[{\"marker\":{\"colorbar\":{\"outlinewidth\":0,\"ticks\":\"\"}},\"type\":\"scattergl\"}],\"scattermapbox\":[{\"marker\":{\"colorbar\":{\"outlinewidth\":0,\"ticks\":\"\"}},\"type\":\"scattermapbox\"}],\"scatterpolar\":[{\"marker\":{\"colorbar\":{\"outlinewidth\":0,\"ticks\":\"\"}},\"type\":\"scatterpolar\"}],\"scatterpolargl\":[{\"marker\":{\"colorbar\":{\"outlinewidth\":0,\"ticks\":\"\"}},\"type\":\"scatterpolargl\"}],\"scatterternary\":[{\"marker\":{\"colorbar\":{\"outlinewidth\":0,\"ticks\":\"\"}},\"type\":\"scatterternary\"}],\"surface\":[{\"colorbar\":{\"outlinewidth\":0,\"ticks\":\"\"},\"colorscale\":[[0.0,\"#0d0887\"],[0.1111111111111111,\"#46039f\"],[0.2222222222222222,\"#7201a8\"],[0.3333333333333333,\"#9c179e\"],[0.4444444444444444,\"#bd3786\"],[0.5555555555555556,\"#d8576b\"],[0.6666666666666666,\"#ed7953\"],[0.7777777777777778,\"#fb9f3a\"],[0.8888888888888888,\"#fdca26\"],[1.0,\"#f0f921\"]],\"type\":\"surface\"}],\"table\":[{\"cells\":{\"fill\":{\"color\":\"#EBF0F8\"},\"line\":{\"color\":\"white\"}},\"header\":{\"fill\":{\"color\":\"#C8D4E3\"},\"line\":{\"color\":\"white\"}},\"type\":\"table\"}]},\"layout\":{\"annotationdefaults\":{\"arrowcolor\":\"#2a3f5f\",\"arrowhead\":0,\"arrowwidth\":1},\"autotypenumbers\":\"strict\",\"coloraxis\":{\"colorbar\":{\"outlinewidth\":0,\"ticks\":\"\"}},\"colorscale\":{\"diverging\":[[0,\"#8e0152\"],[0.1,\"#c51b7d\"],[0.2,\"#de77ae\"],[0.3,\"#f1b6da\"],[0.4,\"#fde0ef\"],[0.5,\"#f7f7f7\"],[0.6,\"#e6f5d0\"],[0.7,\"#b8e186\"],[0.8,\"#7fbc41\"],[0.9,\"#4d9221\"],[1,\"#276419\"]],\"sequential\":[[0.0,\"#0d0887\"],[0.1111111111111111,\"#46039f\"],[0.2222222222222222,\"#7201a8\"],[0.3333333333333333,\"#9c179e\"],[0.4444444444444444,\"#bd3786\"],[0.5555555555555556,\"#d8576b\"],[0.6666666666666666,\"#ed7953\"],[0.7777777777777778,\"#fb9f3a\"],[0.8888888888888888,\"#fdca26\"],[1.0,\"#f0f921\"]],\"sequentialminus\":[[0.0,\"#0d0887\"],[0.1111111111111111,\"#46039f\"],[0.2222222222222222,\"#7201a8\"],[0.3333333333333333,\"#9c179e\"],[0.4444444444444444,\"#bd3786\"],[0.5555555555555556,\"#d8576b\"],[0.6666666666666666,\"#ed7953\"],[0.7777777777777778,\"#fb9f3a\"],[0.8888888888888888,\"#fdca26\"],[1.0,\"#f0f921\"]]},\"colorway\":[\"#636efa\",\"#EF553B\",\"#00cc96\",\"#ab63fa\",\"#FFA15A\",\"#19d3f3\",\"#FF6692\",\"#B6E880\",\"#FF97FF\",\"#FECB52\"],\"font\":{\"color\":\"#2a3f5f\"},\"geo\":{\"bgcolor\":\"white\",\"lakecolor\":\"white\",\"landcolor\":\"#E5ECF6\",\"showlakes\":true,\"showland\":true,\"subunitcolor\":\"white\"},\"hoverlabel\":{\"align\":\"left\"},\"hovermode\":\"closest\",\"mapbox\":{\"style\":\"light\"},\"paper_bgcolor\":\"white\",\"plot_bgcolor\":\"#E5ECF6\",\"polar\":{\"angularaxis\":{\"gridcolor\":\"white\",\"linecolor\":\"white\",\"ticks\":\"\"},\"bgcolor\":\"#E5ECF6\",\"radialaxis\":{\"gridcolor\":\"white\",\"linecolor\":\"white\",\"ticks\":\"\"}},\"scene\":{\"xaxis\":{\"backgroundcolor\":\"#E5ECF6\",\"gridcolor\":\"white\",\"gridwidth\":2,\"linecolor\":\"white\",\"showbackground\":true,\"ticks\":\"\",\"zerolinecolor\":\"white\"},\"yaxis\":{\"backgroundcolor\":\"#E5ECF6\",\"gridcolor\":\"white\",\"gridwidth\":2,\"linecolor\":\"white\",\"showbackground\":true,\"ticks\":\"\",\"zerolinecolor\":\"white\"},\"zaxis\":{\"backgroundcolor\":\"#E5ECF6\",\"gridcolor\":\"white\",\"gridwidth\":2,\"linecolor\":\"white\",\"showbackground\":true,\"ticks\":\"\",\"zerolinecolor\":\"white\"}},\"shapedefaults\":{\"line\":{\"color\":\"#2a3f5f\"}},\"ternary\":{\"aaxis\":{\"gridcolor\":\"white\",\"linecolor\":\"white\",\"ticks\":\"\"},\"baxis\":{\"gridcolor\":\"white\",\"linecolor\":\"white\",\"ticks\":\"\"},\"bgcolor\":\"#E5ECF6\",\"caxis\":{\"gridcolor\":\"white\",\"linecolor\":\"white\",\"ticks\":\"\"}},\"title\":{\"x\":0.05},\"xaxis\":{\"automargin\":true,\"gridcolor\":\"white\",\"linecolor\":\"white\",\"ticks\":\"\",\"title\":{\"standoff\":15},\"zerolinecolor\":\"white\",\"zerolinewidth\":2},\"yaxis\":{\"automargin\":true,\"gridcolor\":\"white\",\"linecolor\":\"white\",\"ticks\":\"\",\"title\":{\"standoff\":15},\"zerolinecolor\":\"white\",\"zerolinewidth\":2}}},\"xaxis\":{\"anchor\":\"y\",\"domain\":[0.0,0.94],\"title\":{\"text\":\"Date\"},\"range\":[\"2018-12-15\",\"2020-01-15\"],\"tickformat\":\"%b\\n%Y\",\"dtick\":\"M1\"},\"yaxis\":{\"anchor\":\"x\",\"domain\":[0.0,1.0],\"title\":{\"text\":\"Damages\"},\"range\":[0,3000000000.0]},\"yaxis2\":{\"anchor\":\"x\",\"overlaying\":\"y\",\"side\":\"right\",\"title\":{\"text\":\"Sum of sentiment score\"}},\"title\":{\"text\":\"Damages from extreme weather events vs sentiment score sum\"},\"showlegend\":false},                        {\"responsive\": true}                    ).then(function(){\n",
       "                            \n",
       "var gd = document.getElementById('2d99ddb6-066f-483c-888d-d78cc854871f');\n",
       "var x = new MutationObserver(function (mutations, observer) {{\n",
       "        var display = window.getComputedStyle(gd).display;\n",
       "        if (!display || display === 'none') {{\n",
       "            console.log([gd, 'removed!']);\n",
       "            Plotly.purge(gd);\n",
       "            observer.disconnect();\n",
       "        }}\n",
       "}});\n",
       "\n",
       "// Listen for the removal of the full notebook cells\n",
       "var notebookContainer = gd.closest('#notebook-container');\n",
       "if (notebookContainer) {{\n",
       "    x.observe(notebookContainer, {childList: true});\n",
       "}}\n",
       "\n",
       "// Listen for the clearing of the current output cell\n",
       "var outputEl = gd.closest('.output');\n",
       "if (outputEl) {{\n",
       "    x.observe(outputEl, {childList: true});\n",
       "}}\n",
       "\n",
       "                        })                };                });            </script>        </div>"
      ]
     },
     "metadata": {},
     "output_type": "display_data"
    }
   ],
   "source": [
    "# Create figure with secondary y-axis\n",
    "fig = make_subplots(specs=[[{\"secondary_y\": True}]])\n",
    "#fig = make_subplots()\n",
    "\n",
    "# Add traces\n",
    "fig.add_trace(\n",
    "    go.Bar(x=damages_sum.date, y=damages_sum.DAMAGE_PROPERTY, text=damages_sum.DAMAGE_PROPERTY.apply(M_K)),\n",
    "    secondary_y=False,\n",
    ")\n",
    "\n",
    "fig.add_trace(\n",
    "    go.Scatter(x=scores_sum.date, y=scores_sum.sentiment_score),\n",
    "    secondary_y=True,\n",
    ")\n",
    "\n",
    "# Add figure title\n",
    "fig.update_layout(\n",
    "    title_text=\"Damages from extreme weather events vs sentiment score sum\",\n",
    "    showlegend=False\n",
    ")\n",
    "\n",
    "# Set x-axis title\n",
    "fig.update_xaxes(\n",
    "    title_text=\"Date\",\n",
    "    range=[\"2018-12-15\",\"2020-01-15\"],\n",
    "    #ticklabelmode=\"period\",\n",
    "    tickformat=\"%b\\n%Y\",\n",
    "    dtick=\"M1\",\n",
    ")\n",
    "\n",
    "# Set y-axes titles\n",
    "fig.update_yaxes(title_text=\"Damages\", range=[0, 3e9], secondary_y=False)\n",
    "fig.update_yaxes(title_text=\"Sum of sentiment score\", secondary_y=True)\n",
    "\n",
    "# remove labels\n",
    "\n",
    "fig.show()\n",
    "fig.write_html('plots/events_damages_sentiment.html', include_plotlyjs='cdn')"
   ]
  },
  {
   "cell_type": "code",
   "execution_count": 64,
   "id": "7052cabe-35a8-472c-bbf1-9a947b8713af",
   "metadata": {},
   "outputs": [
    {
     "data": {
      "text/plain": [
       "\"Thunderstorms erupted across the DFW Metroplex as a strong upper level system and a cold front impacted the region on the evening of October 20 through the early morning hours of October 21st. A few storms developed ahead of the approaching cold front in the late evening hours of the 20th, producing tornadoes in Dallas and surrounding areas. Additional storms formed a squall line along the cold front, producing a large swath of damaging winds across North and Central Texas overnight into the early hours of October 21st. A total of 10 tornadoes were identified by NWS Survey teams, occurring both within the storms ahead of the cold front, and embedded within the squall line. The strongest of these tornadoes was an EF-3 that stretched almost 16 miles across the northern portions of Dallas County. Following on the heels of that tornado, an EF-2 tracked about 2.5 miles through Garland in Dallas County. The remaining count of tornadoes included 4 EF-1s and 4 EF-0s. Miraculously, no one was killed or significantly injured in any of the tornadoes! The total estimated cost of insured damage for all the tornadoes alone is over $2 billion, which the Insurance Council of Texas claims is the most costly tornado event in the state's history. Of the straight line wind damage, the most severe was located in Farmersville in Collin Co where a mobile home was rolled and destroyed. Three people were injured in the home. Over a dozen other manufactured homes in the same area were damaged, too.\""
      ]
     },
     "execution_count": 64,
     "metadata": {},
     "output_type": "execute_result"
    }
   ],
   "source": [
    "df_det_skinned[(df_det_skinned.YEAR == 2019) & (df_det_skinned.MONTH_NAME == 10)].sort_values(by=\"DAMAGE_PROPERTY\", ascending=False).iloc[0].EPISODE_NARRATIVE"
   ]
  },
  {
   "cell_type": "code",
   "execution_count": 55,
   "id": "345e0774-82ad-42ac-aa5e-4731ace94cc2",
   "metadata": {},
   "outputs": [
    {
     "data": {
      "application/vnd.plotly.v1+json": {
       "config": {
        "plotlyServerURL": "https://plot.ly"
       },
       "data": [
        {
         "hovertemplate": "date=%{x}<br>DAMAGE_PROPERTY=%{y}<extra></extra>",
         "legendgroup": "",
         "line": {
          "color": "#636efa",
          "dash": "solid"
         },
         "marker": {
          "symbol": "circle"
         },
         "mode": "lines",
         "name": "",
         "orientation": "v",
         "showlegend": false,
         "type": "scatter",
         "x": [
          "2016-01-31T00:00:00",
          "2016-02-29T00:00:00",
          "2016-03-31T00:00:00",
          "2016-04-30T00:00:00",
          "2016-05-31T00:00:00",
          "2016-06-30T00:00:00",
          "2016-07-31T00:00:00",
          "2016-08-31T00:00:00",
          "2016-09-30T00:00:00",
          "2016-10-31T00:00:00",
          "2016-11-30T00:00:00",
          "2016-12-31T00:00:00",
          "2017-01-31T00:00:00",
          "2017-02-28T00:00:00",
          "2017-03-31T00:00:00",
          "2017-04-30T00:00:00",
          "2017-05-31T00:00:00",
          "2017-06-30T00:00:00",
          "2017-07-31T00:00:00",
          "2017-08-31T00:00:00",
          "2017-09-30T00:00:00",
          "2017-10-31T00:00:00",
          "2017-11-30T00:00:00",
          "2017-12-31T00:00:00",
          "2018-01-31T00:00:00",
          "2018-02-28T00:00:00",
          "2018-03-31T00:00:00",
          "2018-04-30T00:00:00",
          "2018-05-31T00:00:00",
          "2018-06-30T00:00:00",
          "2018-07-31T00:00:00",
          "2018-08-31T00:00:00",
          "2018-09-30T00:00:00",
          "2018-10-31T00:00:00",
          "2018-11-30T00:00:00",
          "2018-12-31T00:00:00",
          "2019-01-31T00:00:00",
          "2019-02-28T00:00:00",
          "2019-03-31T00:00:00",
          "2019-04-30T00:00:00",
          "2019-05-31T00:00:00",
          "2019-06-30T00:00:00",
          "2019-07-31T00:00:00",
          "2019-08-31T00:00:00",
          "2019-09-30T00:00:00",
          "2019-10-31T00:00:00",
          "2019-11-30T00:00:00",
          "2019-12-31T00:00:00",
          "2020-01-31T00:00:00",
          "2020-02-29T00:00:00",
          "2020-03-31T00:00:00",
          "2020-04-30T00:00:00",
          "2020-05-31T00:00:00",
          "2020-06-30T00:00:00",
          "2020-07-31T00:00:00",
          "2020-08-31T00:00:00",
          "2020-09-30T00:00:00",
          "2020-10-31T00:00:00",
          "2020-11-30T00:00:00",
          "2020-12-31T00:00:00"
         ],
         "xaxis": "x",
         "y": [
          35926300,
          123143600,
          1802718700,
          1798823910,
          102983850,
          334923200,
          153166560,
          9120783100,
          387082010,
          3974117870,
          321901530,
          63436800,
          767698090,
          774863500,
          672415610,
          233470820,
          2536515900,
          526934670,
          231649710,
          51345203990,
          23073895300,
          123729590,
          51893750,
          64221000,
          639114300,
          124485500,
          102590450,
          297665550,
          230606910,
          807034470,
          1979957350,
          568956060,
          2026481760,
          7963127000,
          17026847700,
          140249050,
          12898500,
          340639870,
          742937810,
          220789850,
          1188925700,
          236785520,
          218046030,
          79369040,
          1015905230,
          2081886750,
          65570900,
          39758550,
          90730360,
          126871840,
          1983903920,
          633663380,
          436750790,
          148025200,
          149611560,
          12594655270,
          5489726600,
          4299317150,
          80234700,
          60266510
         ],
         "yaxis": "y"
        }
       ],
       "layout": {
        "autosize": true,
        "legend": {
         "tracegroupgap": 0
        },
        "margin": {
         "t": 60
        },
        "template": {
         "data": {
          "bar": [
           {
            "error_x": {
             "color": "#2a3f5f"
            },
            "error_y": {
             "color": "#2a3f5f"
            },
            "marker": {
             "line": {
              "color": "#E5ECF6",
              "width": 0.5
             },
             "pattern": {
              "fillmode": "overlay",
              "size": 10,
              "solidity": 0.2
             }
            },
            "type": "bar"
           }
          ],
          "barpolar": [
           {
            "marker": {
             "line": {
              "color": "#E5ECF6",
              "width": 0.5
             },
             "pattern": {
              "fillmode": "overlay",
              "size": 10,
              "solidity": 0.2
             }
            },
            "type": "barpolar"
           }
          ],
          "carpet": [
           {
            "aaxis": {
             "endlinecolor": "#2a3f5f",
             "gridcolor": "white",
             "linecolor": "white",
             "minorgridcolor": "white",
             "startlinecolor": "#2a3f5f"
            },
            "baxis": {
             "endlinecolor": "#2a3f5f",
             "gridcolor": "white",
             "linecolor": "white",
             "minorgridcolor": "white",
             "startlinecolor": "#2a3f5f"
            },
            "type": "carpet"
           }
          ],
          "choropleth": [
           {
            "colorbar": {
             "outlinewidth": 0,
             "ticks": ""
            },
            "type": "choropleth"
           }
          ],
          "contour": [
           {
            "colorbar": {
             "outlinewidth": 0,
             "ticks": ""
            },
            "colorscale": [
             [
              0,
              "#0d0887"
             ],
             [
              0.1111111111111111,
              "#46039f"
             ],
             [
              0.2222222222222222,
              "#7201a8"
             ],
             [
              0.3333333333333333,
              "#9c179e"
             ],
             [
              0.4444444444444444,
              "#bd3786"
             ],
             [
              0.5555555555555556,
              "#d8576b"
             ],
             [
              0.6666666666666666,
              "#ed7953"
             ],
             [
              0.7777777777777778,
              "#fb9f3a"
             ],
             [
              0.8888888888888888,
              "#fdca26"
             ],
             [
              1,
              "#f0f921"
             ]
            ],
            "type": "contour"
           }
          ],
          "contourcarpet": [
           {
            "colorbar": {
             "outlinewidth": 0,
             "ticks": ""
            },
            "type": "contourcarpet"
           }
          ],
          "heatmap": [
           {
            "colorbar": {
             "outlinewidth": 0,
             "ticks": ""
            },
            "colorscale": [
             [
              0,
              "#0d0887"
             ],
             [
              0.1111111111111111,
              "#46039f"
             ],
             [
              0.2222222222222222,
              "#7201a8"
             ],
             [
              0.3333333333333333,
              "#9c179e"
             ],
             [
              0.4444444444444444,
              "#bd3786"
             ],
             [
              0.5555555555555556,
              "#d8576b"
             ],
             [
              0.6666666666666666,
              "#ed7953"
             ],
             [
              0.7777777777777778,
              "#fb9f3a"
             ],
             [
              0.8888888888888888,
              "#fdca26"
             ],
             [
              1,
              "#f0f921"
             ]
            ],
            "type": "heatmap"
           }
          ],
          "heatmapgl": [
           {
            "colorbar": {
             "outlinewidth": 0,
             "ticks": ""
            },
            "colorscale": [
             [
              0,
              "#0d0887"
             ],
             [
              0.1111111111111111,
              "#46039f"
             ],
             [
              0.2222222222222222,
              "#7201a8"
             ],
             [
              0.3333333333333333,
              "#9c179e"
             ],
             [
              0.4444444444444444,
              "#bd3786"
             ],
             [
              0.5555555555555556,
              "#d8576b"
             ],
             [
              0.6666666666666666,
              "#ed7953"
             ],
             [
              0.7777777777777778,
              "#fb9f3a"
             ],
             [
              0.8888888888888888,
              "#fdca26"
             ],
             [
              1,
              "#f0f921"
             ]
            ],
            "type": "heatmapgl"
           }
          ],
          "histogram": [
           {
            "marker": {
             "pattern": {
              "fillmode": "overlay",
              "size": 10,
              "solidity": 0.2
             }
            },
            "type": "histogram"
           }
          ],
          "histogram2d": [
           {
            "colorbar": {
             "outlinewidth": 0,
             "ticks": ""
            },
            "colorscale": [
             [
              0,
              "#0d0887"
             ],
             [
              0.1111111111111111,
              "#46039f"
             ],
             [
              0.2222222222222222,
              "#7201a8"
             ],
             [
              0.3333333333333333,
              "#9c179e"
             ],
             [
              0.4444444444444444,
              "#bd3786"
             ],
             [
              0.5555555555555556,
              "#d8576b"
             ],
             [
              0.6666666666666666,
              "#ed7953"
             ],
             [
              0.7777777777777778,
              "#fb9f3a"
             ],
             [
              0.8888888888888888,
              "#fdca26"
             ],
             [
              1,
              "#f0f921"
             ]
            ],
            "type": "histogram2d"
           }
          ],
          "histogram2dcontour": [
           {
            "colorbar": {
             "outlinewidth": 0,
             "ticks": ""
            },
            "colorscale": [
             [
              0,
              "#0d0887"
             ],
             [
              0.1111111111111111,
              "#46039f"
             ],
             [
              0.2222222222222222,
              "#7201a8"
             ],
             [
              0.3333333333333333,
              "#9c179e"
             ],
             [
              0.4444444444444444,
              "#bd3786"
             ],
             [
              0.5555555555555556,
              "#d8576b"
             ],
             [
              0.6666666666666666,
              "#ed7953"
             ],
             [
              0.7777777777777778,
              "#fb9f3a"
             ],
             [
              0.8888888888888888,
              "#fdca26"
             ],
             [
              1,
              "#f0f921"
             ]
            ],
            "type": "histogram2dcontour"
           }
          ],
          "mesh3d": [
           {
            "colorbar": {
             "outlinewidth": 0,
             "ticks": ""
            },
            "type": "mesh3d"
           }
          ],
          "parcoords": [
           {
            "line": {
             "colorbar": {
              "outlinewidth": 0,
              "ticks": ""
             }
            },
            "type": "parcoords"
           }
          ],
          "pie": [
           {
            "automargin": true,
            "type": "pie"
           }
          ],
          "scatter": [
           {
            "marker": {
             "colorbar": {
              "outlinewidth": 0,
              "ticks": ""
             }
            },
            "type": "scatter"
           }
          ],
          "scatter3d": [
           {
            "line": {
             "colorbar": {
              "outlinewidth": 0,
              "ticks": ""
             }
            },
            "marker": {
             "colorbar": {
              "outlinewidth": 0,
              "ticks": ""
             }
            },
            "type": "scatter3d"
           }
          ],
          "scattercarpet": [
           {
            "marker": {
             "colorbar": {
              "outlinewidth": 0,
              "ticks": ""
             }
            },
            "type": "scattercarpet"
           }
          ],
          "scattergeo": [
           {
            "marker": {
             "colorbar": {
              "outlinewidth": 0,
              "ticks": ""
             }
            },
            "type": "scattergeo"
           }
          ],
          "scattergl": [
           {
            "marker": {
             "colorbar": {
              "outlinewidth": 0,
              "ticks": ""
             }
            },
            "type": "scattergl"
           }
          ],
          "scattermapbox": [
           {
            "marker": {
             "colorbar": {
              "outlinewidth": 0,
              "ticks": ""
             }
            },
            "type": "scattermapbox"
           }
          ],
          "scatterpolar": [
           {
            "marker": {
             "colorbar": {
              "outlinewidth": 0,
              "ticks": ""
             }
            },
            "type": "scatterpolar"
           }
          ],
          "scatterpolargl": [
           {
            "marker": {
             "colorbar": {
              "outlinewidth": 0,
              "ticks": ""
             }
            },
            "type": "scatterpolargl"
           }
          ],
          "scatterternary": [
           {
            "marker": {
             "colorbar": {
              "outlinewidth": 0,
              "ticks": ""
             }
            },
            "type": "scatterternary"
           }
          ],
          "surface": [
           {
            "colorbar": {
             "outlinewidth": 0,
             "ticks": ""
            },
            "colorscale": [
             [
              0,
              "#0d0887"
             ],
             [
              0.1111111111111111,
              "#46039f"
             ],
             [
              0.2222222222222222,
              "#7201a8"
             ],
             [
              0.3333333333333333,
              "#9c179e"
             ],
             [
              0.4444444444444444,
              "#bd3786"
             ],
             [
              0.5555555555555556,
              "#d8576b"
             ],
             [
              0.6666666666666666,
              "#ed7953"
             ],
             [
              0.7777777777777778,
              "#fb9f3a"
             ],
             [
              0.8888888888888888,
              "#fdca26"
             ],
             [
              1,
              "#f0f921"
             ]
            ],
            "type": "surface"
           }
          ],
          "table": [
           {
            "cells": {
             "fill": {
              "color": "#EBF0F8"
             },
             "line": {
              "color": "white"
             }
            },
            "header": {
             "fill": {
              "color": "#C8D4E3"
             },
             "line": {
              "color": "white"
             }
            },
            "type": "table"
           }
          ]
         },
         "layout": {
          "annotationdefaults": {
           "arrowcolor": "#2a3f5f",
           "arrowhead": 0,
           "arrowwidth": 1
          },
          "autotypenumbers": "strict",
          "coloraxis": {
           "colorbar": {
            "outlinewidth": 0,
            "ticks": ""
           }
          },
          "colorscale": {
           "diverging": [
            [
             0,
             "#8e0152"
            ],
            [
             0.1,
             "#c51b7d"
            ],
            [
             0.2,
             "#de77ae"
            ],
            [
             0.3,
             "#f1b6da"
            ],
            [
             0.4,
             "#fde0ef"
            ],
            [
             0.5,
             "#f7f7f7"
            ],
            [
             0.6,
             "#e6f5d0"
            ],
            [
             0.7,
             "#b8e186"
            ],
            [
             0.8,
             "#7fbc41"
            ],
            [
             0.9,
             "#4d9221"
            ],
            [
             1,
             "#276419"
            ]
           ],
           "sequential": [
            [
             0,
             "#0d0887"
            ],
            [
             0.1111111111111111,
             "#46039f"
            ],
            [
             0.2222222222222222,
             "#7201a8"
            ],
            [
             0.3333333333333333,
             "#9c179e"
            ],
            [
             0.4444444444444444,
             "#bd3786"
            ],
            [
             0.5555555555555556,
             "#d8576b"
            ],
            [
             0.6666666666666666,
             "#ed7953"
            ],
            [
             0.7777777777777778,
             "#fb9f3a"
            ],
            [
             0.8888888888888888,
             "#fdca26"
            ],
            [
             1,
             "#f0f921"
            ]
           ],
           "sequentialminus": [
            [
             0,
             "#0d0887"
            ],
            [
             0.1111111111111111,
             "#46039f"
            ],
            [
             0.2222222222222222,
             "#7201a8"
            ],
            [
             0.3333333333333333,
             "#9c179e"
            ],
            [
             0.4444444444444444,
             "#bd3786"
            ],
            [
             0.5555555555555556,
             "#d8576b"
            ],
            [
             0.6666666666666666,
             "#ed7953"
            ],
            [
             0.7777777777777778,
             "#fb9f3a"
            ],
            [
             0.8888888888888888,
             "#fdca26"
            ],
            [
             1,
             "#f0f921"
            ]
           ]
          },
          "colorway": [
           "#636efa",
           "#EF553B",
           "#00cc96",
           "#ab63fa",
           "#FFA15A",
           "#19d3f3",
           "#FF6692",
           "#B6E880",
           "#FF97FF",
           "#FECB52"
          ],
          "font": {
           "color": "#2a3f5f"
          },
          "geo": {
           "bgcolor": "white",
           "lakecolor": "white",
           "landcolor": "#E5ECF6",
           "showlakes": true,
           "showland": true,
           "subunitcolor": "white"
          },
          "hoverlabel": {
           "align": "left"
          },
          "hovermode": "closest",
          "mapbox": {
           "style": "light"
          },
          "paper_bgcolor": "white",
          "plot_bgcolor": "#E5ECF6",
          "polar": {
           "angularaxis": {
            "gridcolor": "white",
            "linecolor": "white",
            "ticks": ""
           },
           "bgcolor": "#E5ECF6",
           "radialaxis": {
            "gridcolor": "white",
            "linecolor": "white",
            "ticks": ""
           }
          },
          "scene": {
           "xaxis": {
            "backgroundcolor": "#E5ECF6",
            "gridcolor": "white",
            "gridwidth": 2,
            "linecolor": "white",
            "showbackground": true,
            "ticks": "",
            "zerolinecolor": "white"
           },
           "yaxis": {
            "backgroundcolor": "#E5ECF6",
            "gridcolor": "white",
            "gridwidth": 2,
            "linecolor": "white",
            "showbackground": true,
            "ticks": "",
            "zerolinecolor": "white"
           },
           "zaxis": {
            "backgroundcolor": "#E5ECF6",
            "gridcolor": "white",
            "gridwidth": 2,
            "linecolor": "white",
            "showbackground": true,
            "ticks": "",
            "zerolinecolor": "white"
           }
          },
          "shapedefaults": {
           "line": {
            "color": "#2a3f5f"
           }
          },
          "ternary": {
           "aaxis": {
            "gridcolor": "white",
            "linecolor": "white",
            "ticks": ""
           },
           "baxis": {
            "gridcolor": "white",
            "linecolor": "white",
            "ticks": ""
           },
           "bgcolor": "#E5ECF6",
           "caxis": {
            "gridcolor": "white",
            "linecolor": "white",
            "ticks": ""
           }
          },
          "title": {
           "x": 0.05
          },
          "xaxis": {
           "automargin": true,
           "gridcolor": "white",
           "linecolor": "white",
           "ticks": "",
           "title": {
            "standoff": 15
           },
           "zerolinecolor": "white",
           "zerolinewidth": 2
          },
          "yaxis": {
           "automargin": true,
           "gridcolor": "white",
           "linecolor": "white",
           "ticks": "",
           "title": {
            "standoff": 15
           },
           "zerolinecolor": "white",
           "zerolinewidth": 2
          }
         }
        },
        "xaxis": {
         "anchor": "y",
         "autorange": true,
         "domain": [
          0,
          1
         ],
         "range": [
          "2016-01-31",
          "2020-12-31"
         ],
         "title": {
          "text": "date"
         },
         "type": "date"
        },
        "yaxis": {
         "anchor": "x",
         "autorange": true,
         "domain": [
          0,
          1
         ],
         "range": [
          -2838896249.4444447,
          54196998739.44444
         ],
         "title": {
          "text": "DAMAGE_PROPERTY"
         },
         "type": "linear"
        }
       }
      },
      "image/png": "[encoded data removed]",
      "text/html": [
       "<div>                            <div id=\"e12e8932-0396-4326-86fa-8b9265dec089\" class=\"plotly-graph-div\" style=\"height:525px; width:100%;\"></div>            <script type=\"text/javascript\">                require([\"plotly\"], function(Plotly) {                    window.PLOTLYENV=window.PLOTLYENV || {};                                    if (document.getElementById(\"e12e8932-0396-4326-86fa-8b9265dec089\")) {                    Plotly.newPlot(                        \"e12e8932-0396-4326-86fa-8b9265dec089\",                        [{\"hovertemplate\":\"date=%{x}<br>DAMAGE_PROPERTY=%{y}<extra></extra>\",\"legendgroup\":\"\",\"line\":{\"color\":\"#636efa\",\"dash\":\"solid\"},\"marker\":{\"symbol\":\"circle\"},\"mode\":\"lines\",\"name\":\"\",\"orientation\":\"v\",\"showlegend\":false,\"x\":[\"2016-01-31T00:00:00\",\"2016-02-29T00:00:00\",\"2016-03-31T00:00:00\",\"2016-04-30T00:00:00\",\"2016-05-31T00:00:00\",\"2016-06-30T00:00:00\",\"2016-07-31T00:00:00\",\"2016-08-31T00:00:00\",\"2016-09-30T00:00:00\",\"2016-10-31T00:00:00\",\"2016-11-30T00:00:00\",\"2016-12-31T00:00:00\",\"2017-01-31T00:00:00\",\"2017-02-28T00:00:00\",\"2017-03-31T00:00:00\",\"2017-04-30T00:00:00\",\"2017-05-31T00:00:00\",\"2017-06-30T00:00:00\",\"2017-07-31T00:00:00\",\"2017-08-31T00:00:00\",\"2017-09-30T00:00:00\",\"2017-10-31T00:00:00\",\"2017-11-30T00:00:00\",\"2017-12-31T00:00:00\",\"2018-01-31T00:00:00\",\"2018-02-28T00:00:00\",\"2018-03-31T00:00:00\",\"2018-04-30T00:00:00\",\"2018-05-31T00:00:00\",\"2018-06-30T00:00:00\",\"2018-07-31T00:00:00\",\"2018-08-31T00:00:00\",\"2018-09-30T00:00:00\",\"2018-10-31T00:00:00\",\"2018-11-30T00:00:00\",\"2018-12-31T00:00:00\",\"2019-01-31T00:00:00\",\"2019-02-28T00:00:00\",\"2019-03-31T00:00:00\",\"2019-04-30T00:00:00\",\"2019-05-31T00:00:00\",\"2019-06-30T00:00:00\",\"2019-07-31T00:00:00\",\"2019-08-31T00:00:00\",\"2019-09-30T00:00:00\",\"2019-10-31T00:00:00\",\"2019-11-30T00:00:00\",\"2019-12-31T00:00:00\",\"2020-01-31T00:00:00\",\"2020-02-29T00:00:00\",\"2020-03-31T00:00:00\",\"2020-04-30T00:00:00\",\"2020-05-31T00:00:00\",\"2020-06-30T00:00:00\",\"2020-07-31T00:00:00\",\"2020-08-31T00:00:00\",\"2020-09-30T00:00:00\",\"2020-10-31T00:00:00\",\"2020-11-30T00:00:00\",\"2020-12-31T00:00:00\"],\"xaxis\":\"x\",\"y\":[35926300.0,123143600.0,1802718700.0,1798823910.0,102983850.0,334923200.0,153166560.0,9120783100.0,387082010.0,3974117870.0,321901530.0,63436800.0,767698090.0,774863500.0,672415610.0,233470820.0,2536515900.0,526934670.0,231649710.0,51345203990.0,23073895300.0,123729590.0,51893750.0,64221000.0,639114300.0,124485500.0,102590450.0,297665550.0,230606910.0,807034470.0,1979957350.0,568956060.0,2026481760.0,7963127000.0,17026847700.0,140249050.0,12898500.0,340639870.0,742937810.0,220789850.0,1188925700.0,236785520.0,218046030.0,79369040.0,1015905230.0,2081886750.0,65570900.0,39758550.0,90730360.0,126871840.0,1983903920.0,633663380.0,436750790.0,148025200.0,149611560.0,12594655270.0,5489726600.0,4299317150.0,80234700.0,60266510.0],\"yaxis\":\"y\",\"type\":\"scatter\"}],                        {\"template\":{\"data\":{\"bar\":[{\"error_x\":{\"color\":\"#2a3f5f\"},\"error_y\":{\"color\":\"#2a3f5f\"},\"marker\":{\"line\":{\"color\":\"#E5ECF6\",\"width\":0.5},\"pattern\":{\"fillmode\":\"overlay\",\"size\":10,\"solidity\":0.2}},\"type\":\"bar\"}],\"barpolar\":[{\"marker\":{\"line\":{\"color\":\"#E5ECF6\",\"width\":0.5},\"pattern\":{\"fillmode\":\"overlay\",\"size\":10,\"solidity\":0.2}},\"type\":\"barpolar\"}],\"carpet\":[{\"aaxis\":{\"endlinecolor\":\"#2a3f5f\",\"gridcolor\":\"white\",\"linecolor\":\"white\",\"minorgridcolor\":\"white\",\"startlinecolor\":\"#2a3f5f\"},\"baxis\":{\"endlinecolor\":\"#2a3f5f\",\"gridcolor\":\"white\",\"linecolor\":\"white\",\"minorgridcolor\":\"white\",\"startlinecolor\":\"#2a3f5f\"},\"type\":\"carpet\"}],\"choropleth\":[{\"colorbar\":{\"outlinewidth\":0,\"ticks\":\"\"},\"type\":\"choropleth\"}],\"contour\":[{\"colorbar\":{\"outlinewidth\":0,\"ticks\":\"\"},\"colorscale\":[[0.0,\"#0d0887\"],[0.1111111111111111,\"#46039f\"],[0.2222222222222222,\"#7201a8\"],[0.3333333333333333,\"#9c179e\"],[0.4444444444444444,\"#bd3786\"],[0.5555555555555556,\"#d8576b\"],[0.6666666666666666,\"#ed7953\"],[0.7777777777777778,\"#fb9f3a\"],[0.8888888888888888,\"#fdca26\"],[1.0,\"#f0f921\"]],\"type\":\"contour\"}],\"contourcarpet\":[{\"colorbar\":{\"outlinewidth\":0,\"ticks\":\"\"},\"type\":\"contourcarpet\"}],\"heatmap\":[{\"colorbar\":{\"outlinewidth\":0,\"ticks\":\"\"},\"colorscale\":[[0.0,\"#0d0887\"],[0.1111111111111111,\"#46039f\"],[0.2222222222222222,\"#7201a8\"],[0.3333333333333333,\"#9c179e\"],[0.4444444444444444,\"#bd3786\"],[0.5555555555555556,\"#d8576b\"],[0.6666666666666666,\"#ed7953\"],[0.7777777777777778,\"#fb9f3a\"],[0.8888888888888888,\"#fdca26\"],[1.0,\"#f0f921\"]],\"type\":\"heatmap\"}],\"heatmapgl\":[{\"colorbar\":{\"outlinewidth\":0,\"ticks\":\"\"},\"colorscale\":[[0.0,\"#0d0887\"],[0.1111111111111111,\"#46039f\"],[0.2222222222222222,\"#7201a8\"],[0.3333333333333333,\"#9c179e\"],[0.4444444444444444,\"#bd3786\"],[0.5555555555555556,\"#d8576b\"],[0.6666666666666666,\"#ed7953\"],[0.7777777777777778,\"#fb9f3a\"],[0.8888888888888888,\"#fdca26\"],[1.0,\"#f0f921\"]],\"type\":\"heatmapgl\"}],\"histogram\":[{\"marker\":{\"pattern\":{\"fillmode\":\"overlay\",\"size\":10,\"solidity\":0.2}},\"type\":\"histogram\"}],\"histogram2d\":[{\"colorbar\":{\"outlinewidth\":0,\"ticks\":\"\"},\"colorscale\":[[0.0,\"#0d0887\"],[0.1111111111111111,\"#46039f\"],[0.2222222222222222,\"#7201a8\"],[0.3333333333333333,\"#9c179e\"],[0.4444444444444444,\"#bd3786\"],[0.5555555555555556,\"#d8576b\"],[0.6666666666666666,\"#ed7953\"],[0.7777777777777778,\"#fb9f3a\"],[0.8888888888888888,\"#fdca26\"],[1.0,\"#f0f921\"]],\"type\":\"histogram2d\"}],\"histogram2dcontour\":[{\"colorbar\":{\"outlinewidth\":0,\"ticks\":\"\"},\"colorscale\":[[0.0,\"#0d0887\"],[0.1111111111111111,\"#46039f\"],[0.2222222222222222,\"#7201a8\"],[0.3333333333333333,\"#9c179e\"],[0.4444444444444444,\"#bd3786\"],[0.5555555555555556,\"#d8576b\"],[0.6666666666666666,\"#ed7953\"],[0.7777777777777778,\"#fb9f3a\"],[0.8888888888888888,\"#fdca26\"],[1.0,\"#f0f921\"]],\"type\":\"histogram2dcontour\"}],\"mesh3d\":[{\"colorbar\":{\"outlinewidth\":0,\"ticks\":\"\"},\"type\":\"mesh3d\"}],\"parcoords\":[{\"line\":{\"colorbar\":{\"outlinewidth\":0,\"ticks\":\"\"}},\"type\":\"parcoords\"}],\"pie\":[{\"automargin\":true,\"type\":\"pie\"}],\"scatter\":[{\"marker\":{\"colorbar\":{\"outlinewidth\":0,\"ticks\":\"\"}},\"type\":\"scatter\"}],\"scatter3d\":[{\"line\":{\"colorbar\":{\"outlinewidth\":0,\"ticks\":\"\"}},\"marker\":{\"colorbar\":{\"outlinewidth\":0,\"ticks\":\"\"}},\"type\":\"scatter3d\"}],\"scattercarpet\":[{\"marker\":{\"colorbar\":{\"outlinewidth\":0,\"ticks\":\"\"}},\"type\":\"scattercarpet\"}],\"scattergeo\":[{\"marker\":{\"colorbar\":{\"outlinewidth\":0,\"ticks\":\"\"}},\"type\":\"scattergeo\"}],\"scattergl\":[{\"marker\":{\"colorbar\":{\"outlinewidth\":0,\"ticks\":\"\"}},\"type\":\"scattergl\"}],\"scattermapbox\":[{\"marker\":{\"colorbar\":{\"outlinewidth\":0,\"ticks\":\"\"}},\"type\":\"scattermapbox\"}],\"scatterpolar\":[{\"marker\":{\"colorbar\":{\"outlinewidth\":0,\"ticks\":\"\"}},\"type\":\"scatterpolar\"}],\"scatterpolargl\":[{\"marker\":{\"colorbar\":{\"outlinewidth\":0,\"ticks\":\"\"}},\"type\":\"scatterpolargl\"}],\"scatterternary\":[{\"marker\":{\"colorbar\":{\"outlinewidth\":0,\"ticks\":\"\"}},\"type\":\"scatterternary\"}],\"surface\":[{\"colorbar\":{\"outlinewidth\":0,\"ticks\":\"\"},\"colorscale\":[[0.0,\"#0d0887\"],[0.1111111111111111,\"#46039f\"],[0.2222222222222222,\"#7201a8\"],[0.3333333333333333,\"#9c179e\"],[0.4444444444444444,\"#bd3786\"],[0.5555555555555556,\"#d8576b\"],[0.6666666666666666,\"#ed7953\"],[0.7777777777777778,\"#fb9f3a\"],[0.8888888888888888,\"#fdca26\"],[1.0,\"#f0f921\"]],\"type\":\"surface\"}],\"table\":[{\"cells\":{\"fill\":{\"color\":\"#EBF0F8\"},\"line\":{\"color\":\"white\"}},\"header\":{\"fill\":{\"color\":\"#C8D4E3\"},\"line\":{\"color\":\"white\"}},\"type\":\"table\"}]},\"layout\":{\"annotationdefaults\":{\"arrowcolor\":\"#2a3f5f\",\"arrowhead\":0,\"arrowwidth\":1},\"autotypenumbers\":\"strict\",\"coloraxis\":{\"colorbar\":{\"outlinewidth\":0,\"ticks\":\"\"}},\"colorscale\":{\"diverging\":[[0,\"#8e0152\"],[0.1,\"#c51b7d\"],[0.2,\"#de77ae\"],[0.3,\"#f1b6da\"],[0.4,\"#fde0ef\"],[0.5,\"#f7f7f7\"],[0.6,\"#e6f5d0\"],[0.7,\"#b8e186\"],[0.8,\"#7fbc41\"],[0.9,\"#4d9221\"],[1,\"#276419\"]],\"sequential\":[[0.0,\"#0d0887\"],[0.1111111111111111,\"#46039f\"],[0.2222222222222222,\"#7201a8\"],[0.3333333333333333,\"#9c179e\"],[0.4444444444444444,\"#bd3786\"],[0.5555555555555556,\"#d8576b\"],[0.6666666666666666,\"#ed7953\"],[0.7777777777777778,\"#fb9f3a\"],[0.8888888888888888,\"#fdca26\"],[1.0,\"#f0f921\"]],\"sequentialminus\":[[0.0,\"#0d0887\"],[0.1111111111111111,\"#46039f\"],[0.2222222222222222,\"#7201a8\"],[0.3333333333333333,\"#9c179e\"],[0.4444444444444444,\"#bd3786\"],[0.5555555555555556,\"#d8576b\"],[0.6666666666666666,\"#ed7953\"],[0.7777777777777778,\"#fb9f3a\"],[0.8888888888888888,\"#fdca26\"],[1.0,\"#f0f921\"]]},\"colorway\":[\"#636efa\",\"#EF553B\",\"#00cc96\",\"#ab63fa\",\"#FFA15A\",\"#19d3f3\",\"#FF6692\",\"#B6E880\",\"#FF97FF\",\"#FECB52\"],\"font\":{\"color\":\"#2a3f5f\"},\"geo\":{\"bgcolor\":\"white\",\"lakecolor\":\"white\",\"landcolor\":\"#E5ECF6\",\"showlakes\":true,\"showland\":true,\"subunitcolor\":\"white\"},\"hoverlabel\":{\"align\":\"left\"},\"hovermode\":\"closest\",\"mapbox\":{\"style\":\"light\"},\"paper_bgcolor\":\"white\",\"plot_bgcolor\":\"#E5ECF6\",\"polar\":{\"angularaxis\":{\"gridcolor\":\"white\",\"linecolor\":\"white\",\"ticks\":\"\"},\"bgcolor\":\"#E5ECF6\",\"radialaxis\":{\"gridcolor\":\"white\",\"linecolor\":\"white\",\"ticks\":\"\"}},\"scene\":{\"xaxis\":{\"backgroundcolor\":\"#E5ECF6\",\"gridcolor\":\"white\",\"gridwidth\":2,\"linecolor\":\"white\",\"showbackground\":true,\"ticks\":\"\",\"zerolinecolor\":\"white\"},\"yaxis\":{\"backgroundcolor\":\"#E5ECF6\",\"gridcolor\":\"white\",\"gridwidth\":2,\"linecolor\":\"white\",\"showbackground\":true,\"ticks\":\"\",\"zerolinecolor\":\"white\"},\"zaxis\":{\"backgroundcolor\":\"#E5ECF6\",\"gridcolor\":\"white\",\"gridwidth\":2,\"linecolor\":\"white\",\"showbackground\":true,\"ticks\":\"\",\"zerolinecolor\":\"white\"}},\"shapedefaults\":{\"line\":{\"color\":\"#2a3f5f\"}},\"ternary\":{\"aaxis\":{\"gridcolor\":\"white\",\"linecolor\":\"white\",\"ticks\":\"\"},\"baxis\":{\"gridcolor\":\"white\",\"linecolor\":\"white\",\"ticks\":\"\"},\"bgcolor\":\"#E5ECF6\",\"caxis\":{\"gridcolor\":\"white\",\"linecolor\":\"white\",\"ticks\":\"\"}},\"title\":{\"x\":0.05},\"xaxis\":{\"automargin\":true,\"gridcolor\":\"white\",\"linecolor\":\"white\",\"ticks\":\"\",\"title\":{\"standoff\":15},\"zerolinecolor\":\"white\",\"zerolinewidth\":2},\"yaxis\":{\"automargin\":true,\"gridcolor\":\"white\",\"linecolor\":\"white\",\"ticks\":\"\",\"title\":{\"standoff\":15},\"zerolinecolor\":\"white\",\"zerolinewidth\":2}}},\"xaxis\":{\"anchor\":\"y\",\"domain\":[0.0,1.0],\"title\":{\"text\":\"date\"}},\"yaxis\":{\"anchor\":\"x\",\"domain\":[0.0,1.0],\"title\":{\"text\":\"DAMAGE_PROPERTY\"}},\"legend\":{\"tracegroupgap\":0},\"margin\":{\"t\":60}},                        {\"responsive\": true}                    ).then(function(){\n",
       "                            \n",
       "var gd = document.getElementById('e12e8932-0396-4326-86fa-8b9265dec089');\n",
       "var x = new MutationObserver(function (mutations, observer) {{\n",
       "        var display = window.getComputedStyle(gd).display;\n",
       "        if (!display || display === 'none') {{\n",
       "            console.log([gd, 'removed!']);\n",
       "            Plotly.purge(gd);\n",
       "            observer.disconnect();\n",
       "        }}\n",
       "}});\n",
       "\n",
       "// Listen for the removal of the full notebook cells\n",
       "var notebookContainer = gd.closest('#notebook-container');\n",
       "if (notebookContainer) {{\n",
       "    x.observe(notebookContainer, {childList: true});\n",
       "}}\n",
       "\n",
       "// Listen for the clearing of the current output cell\n",
       "var outputEl = gd.closest('.output');\n",
       "if (outputEl) {{\n",
       "    x.observe(outputEl, {childList: true});\n",
       "}}\n",
       "\n",
       "                        })                };                });            </script>        </div>"
      ]
     },
     "metadata": {},
     "output_type": "display_data"
    }
   ],
   "source": [
    "fig = px.line(damages_sum,x=\"date\", y=\"DAMAGE_PROPERTY\")\n",
    "fig.show()"
   ]
  },
  {
   "cell_type": "code",
   "execution_count": 65,
   "id": "158fbc82-4320-4e2f-a740-25083f23926e",
   "metadata": {},
   "outputs": [],
   "source": [
    "fig.write_html('plots/damages.html', include_plotlyjs='cdn')"
   ]
  },
  {
   "cell_type": "markdown",
   "id": "f9d8785b-5e22-481b-8a5b-0c6e015b11b4",
   "metadata": {},
   "source": [
    "##### 5.3.4. Measuring correlation\n",
    "We would like to see if there is any signifant similirty between the differetn data using dynamic time warping."
   ]
  },
  {
   "cell_type": "code",
   "execution_count": 30,
   "id": "09ec64e0-975e-400b-933f-f0673956ca23",
   "metadata": {},
   "outputs": [],
   "source": [
    "# TODO"
   ]
  }
 ],
 "metadata": {
  "kernelspec": {
   "display_name": "Python 3 (ipykernel)",
   "language": "python",
   "name": "python3"
  },
  "language_info": {
   "codemirror_mode": {
    "name": "ipython",
    "version": 3
   },
   "file_extension": ".py",
   "mimetype": "text/x-python",
   "name": "python",
   "nbconvert_exporter": "python",
   "pygments_lexer": "ipython3",
   "version": "3.9.7"
  }
 },
 "nbformat": 4,
 "nbformat_minor": 5
}
