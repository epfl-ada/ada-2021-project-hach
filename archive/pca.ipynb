{
 "cells": [
  {
   "cell_type": "code",
   "execution_count": 1,
   "id": "8329e775-6ce0-4a22-8545-4631b937e3de",
   "metadata": {},
   "outputs": [],
   "source": [
    "%load_ext autoreload\n",
    "%autoreload 2"
   ]
  },
  {
   "cell_type": "code",
   "execution_count": 192,
   "id": "05870de4-f745-4006-8e72-3e5b24648d62",
   "metadata": {},
   "outputs": [],
   "source": [
    "import pandas as pd\n",
    "import numpy as np\n",
    "import matplotlib.pyplot as plt\n",
    "from flair.embeddings import FlairEmbeddings, WordEmbeddings, DocumentPoolEmbeddings, TransformerDocumentEmbeddings\n",
    "from flair.data import Sentence\n",
    "from flair.models import TextClassifier\n",
    "from sklearn.decomposition import PCA\n",
    "import seaborn as sns\n",
    "from tqdm.auto import tqdm"
   ]
  },
  {
   "cell_type": "code",
   "execution_count": 59,
   "id": "518edf50-ed87-481c-8fad-28bac53d1305",
   "metadata": {},
   "outputs": [],
   "source": [
    "from hach.data import get_climate_data\n",
    "from hach.cleaning import clean_df"
   ]
  },
  {
   "cell_type": "code",
   "execution_count": 4,
   "id": "6c72758a-8879-4bd4-897d-fc137efa8386",
   "metadata": {},
   "outputs": [],
   "source": [
    "full_df, dfs = get_climate_data()"
   ]
  },
  {
   "cell_type": "code",
   "execution_count": 60,
   "id": "59ce4120-3353-4d8d-82ad-ab2591706615",
   "metadata": {},
   "outputs": [],
   "source": [
    "df_2017 = clean_df(dfs[2017]).copy()"
   ]
  },
  {
   "cell_type": "code",
   "execution_count": 193,
   "id": "46058ac4-09e5-4be5-91cd-7db91c347dbe",
   "metadata": {},
   "outputs": [],
   "source": [
    "bert = TransformerDocumentEmbeddings('bert-base-cased')"
   ]
  },
  {
   "cell_type": "code",
   "execution_count": 179,
   "id": "d5a4537b-52c4-48fe-a2be-3349efda751d",
   "metadata": {},
   "outputs": [
    {
     "name": "stdout",
     "output_type": "stream",
     "text": [
      "2021-12-03 11:44:54,114 loading file /home/jupyter-hugo/.flair/models/sentiment-en-mix-distillbert_4.pt\n"
     ]
    }
   ],
   "source": [
    "# \n",
    "embedding = WordEmbeddings('en-news')\n",
    "document_embeddings = DocumentPoolEmbeddings([embedding])\n",
    "classifier = TextClassifier.load('en-sentiment')"
   ]
  },
  {
   "cell_type": "code",
   "execution_count": 180,
   "id": "45fef0b4-6c18-40f8-83ea-cfdf8dd0dc34",
   "metadata": {},
   "outputs": [
    {
     "data": {
      "application/vnd.jupyter.widget-view+json": {
       "model_id": "a9eb35e412044f75bbb2a21af4664cf0",
       "version_major": 2,
       "version_minor": 0
      },
      "text/plain": [
       "  0%|          | 0/49268 [00:00<?, ?it/s]"
      ]
     },
     "metadata": {},
     "output_type": "display_data"
    }
   ],
   "source": [
    "embeddings = []\n",
    "sentiments = []\n",
    "for quote in tqdm(df_2017.quotation):\n",
    "    sent = Sentence(quote)\n",
    "    document_embeddings.embed(sent)\n",
    "    embeddings.append(sent.embedding.numpy())"
   ]
  },
  {
   "cell_type": "code",
   "execution_count": 194,
   "id": "3bc64e42-93b7-4fef-826b-3c5c7ea2289a",
   "metadata": {},
   "outputs": [],
   "source": [
    "sent = Sentence(\"Climate change is not real and this is a real long sentence. I'm gonna make america better.\")"
   ]
  },
  {
   "cell_type": "code",
   "execution_count": 200,
   "id": "e4ac3274-20b0-4518-bfec-70e18d7a1cfd",
   "metadata": {},
   "outputs": [],
   "source": [
    "sent = Sentence(\"We need to tackle climate change\")"
   ]
  },
  {
   "cell_type": "code",
   "execution_count": 204,
   "id": "8645de41-8b8e-4cf9-ae15-d8e09f2f1612",
   "metadata": {},
   "outputs": [
    {
     "data": {
      "text/plain": [
       "[Sentence: \"We need to tackle climate change\"   [− Tokens: 6]]"
      ]
     },
     "execution_count": 204,
     "metadata": {},
     "output_type": "execute_result"
    }
   ],
   "source": [
    "bert.embed(sent)"
   ]
  },
  {
   "cell_type": "code",
   "execution_count": 202,
   "id": "39b589d6-f16e-4458-b8eb-b8636755500b",
   "metadata": {},
   "outputs": [
    {
     "data": {
      "text/plain": [
       "tensor([ 2.5593e-01, -1.8780e-01, -2.9697e-01, -4.4008e-01, -3.2363e-01,\n",
       "        -1.9858e-01,  4.4189e-01, -1.6283e-01,  3.3480e-01, -1.0178e+00,\n",
       "        -4.0047e-02, -6.1135e-03, -5.7800e-02, -1.6459e-02, -4.7255e-01,\n",
       "        -8.8425e-02,  2.3958e-01,  4.2170e-02, -2.2869e-01, -3.7024e-01,\n",
       "         1.2563e-01, -6.9017e-02,  2.4468e-01, -3.9595e-01,  1.8258e-01,\n",
       "        -1.2855e-01, -3.1863e-02, -6.3133e-02, -2.1569e-01,  1.4259e-02,\n",
       "         2.6477e-01,  3.1110e-01, -2.6101e-01,  9.8781e-02, -2.5501e-01,\n",
       "        -5.1392e-02, -1.3354e-02, -4.0659e-01,  6.3202e-02,  1.4574e-01,\n",
       "        -3.3066e-01,  5.2055e-01,  7.4724e-01, -2.3321e-01,  3.2385e-01,\n",
       "        -2.0917e-01, -2.1220e-01,  2.3709e-01, -3.7782e-01,  1.3360e-01,\n",
       "         1.1473e-01,  2.1934e-01, -1.1285e-01,  2.2725e-02,  2.2836e-01,\n",
       "         3.4597e-01, -1.5374e-01,  5.8256e-02, -6.7279e-01,  4.5261e-01,\n",
       "         9.6335e-02, -2.3125e-01,  4.6530e-01,  2.7718e-01,  1.8758e-01,\n",
       "         1.7966e-01, -8.0175e-03, -1.4166e-01, -5.9152e-01,  5.6424e-02,\n",
       "        -6.8880e-02,  2.1138e-01,  3.8640e-01,  1.1942e+00,  2.6551e-01,\n",
       "        -6.6931e-01,  4.3012e-01, -2.2347e-01,  5.9937e-02, -2.2615e-01,\n",
       "        -3.2391e-01,  4.1385e-01, -2.2931e-01,  1.2008e-01, -1.5958e-01,\n",
       "        -5.6169e-01,  1.3044e-01,  7.0462e-02, -3.5977e-01, -1.0270e-01,\n",
       "         1.9033e-01, -1.8617e-01, -1.0757e-01,  4.7025e-02, -1.1508e-02,\n",
       "         3.3330e-01, -1.6762e-01,  3.9830e-02,  6.4585e+00,  8.7224e-02,\n",
       "         1.5094e-01, -2.9893e-01,  3.4515e-01, -2.0628e-02,  2.2482e-01,\n",
       "        -4.0772e-01, -2.6441e-01, -1.2537e-01,  4.9066e-02,  4.9811e-01,\n",
       "         5.4927e-01, -1.3541e-03, -1.9562e-01, -3.0370e-01, -2.5038e-01,\n",
       "        -1.6914e-01, -1.0675e-01,  1.3368e-01,  4.8583e-01, -9.6921e-02,\n",
       "        -1.2855e-01, -1.9397e-01,  1.0066e+00,  1.6037e-01,  5.6121e-02,\n",
       "        -1.6192e-01, -2.4828e-01, -3.5478e-01,  2.5770e-01, -3.1476e-01,\n",
       "        -1.4941e-01,  1.7553e-01,  5.0975e-02, -2.4234e-01,  1.9299e-01,\n",
       "         1.0107e-01, -2.9646e-02,  6.3443e-02, -8.9210e-01, -5.2179e-02,\n",
       "         1.8732e-01, -1.0824e-02, -8.5388e-02, -4.6041e-01, -4.3106e-01,\n",
       "         2.5679e+00, -3.2582e-01,  2.1476e-01, -3.0805e-01,  4.4032e-02,\n",
       "        -1.6571e-01, -1.1185e-01, -1.1213e-02,  1.8293e-01,  6.2766e-02,\n",
       "        -4.7466e-01, -1.4179e-01,  2.2839e-02,  8.1270e-02,  6.0721e-02,\n",
       "        -9.4154e-01,  8.7043e-02, -1.4103e-01,  6.3437e-01, -1.8244e-01,\n",
       "         7.3214e-02,  1.8720e-01, -8.6958e-01,  3.4571e-01,  2.6214e-01,\n",
       "        -2.7514e-01, -4.6581e-01, -2.5511e+00,  1.3580e-01,  9.0794e-02,\n",
       "         1.9683e-01,  1.1519e-01,  9.4867e-02,  4.4635e-02, -1.8534e-01,\n",
       "        -6.2128e-02,  1.9573e-01,  1.4969e-01, -2.8113e-02, -5.7574e-01,\n",
       "         4.3998e-01, -2.0748e-01,  1.1810e-01,  1.6824e-01,  2.7838e-02,\n",
       "         2.6570e-01,  1.8166e-02, -1.4016e-01,  4.1391e-01,  8.0472e-02,\n",
       "        -1.2076e-02,  2.8178e-02,  1.1380e-01, -2.1729e-02, -1.1129e-01,\n",
       "        -1.5891e-01, -3.1488e-01, -3.1311e-01,  5.4025e-01,  5.7552e-01,\n",
       "        -2.4229e-01, -3.3261e-01,  1.9410e-01,  1.5904e-01, -4.9695e-01,\n",
       "        -7.6991e-02,  1.4185e-01, -2.9181e-01,  3.6851e-01,  3.5251e-01,\n",
       "        -4.5496e-01, -3.9828e-01,  3.6463e-02,  1.0504e-01, -6.2580e-02,\n",
       "        -2.7640e-01,  2.6071e-01, -3.3719e-01, -5.3118e-01, -2.1571e-01,\n",
       "        -1.9592e-01,  2.2093e-01,  1.9448e-01, -2.8460e-01,  3.6214e-02,\n",
       "        -3.1436e-01, -1.6731e-01, -1.8518e-02, -2.3113e-01,  9.4091e-02,\n",
       "        -1.4955e-01,  2.6216e-01, -1.6086e-01,  1.7347e-01,  6.5109e-01,\n",
       "        -2.1457e-01, -1.0186e-01,  9.8183e-02, -1.9638e-01,  6.7589e-02,\n",
       "         2.6083e-01,  5.4146e-01,  2.0970e-01,  3.9187e-01, -9.8286e-02,\n",
       "         7.6738e-01,  3.9650e-02, -5.2131e-02, -3.0168e-01, -5.9495e-01,\n",
       "         5.5779e-02,  3.1104e-01, -1.2678e+00, -2.3210e-01,  2.9933e-01,\n",
       "         2.5971e-01, -3.3550e+00,  2.6434e-01,  2.0671e-01, -4.8277e-03,\n",
       "         1.6170e-01,  2.4758e-01,  9.5414e-02,  4.2582e-02,  3.3641e-01,\n",
       "        -2.7218e-01, -6.7190e-03, -5.0380e-01, -1.2486e-02,  7.9513e-02,\n",
       "         3.3694e-01, -6.3117e-02, -3.6791e-01,  4.9555e-02, -4.9430e-01,\n",
       "        -1.7371e-02,  7.2883e-02, -3.3974e-01,  3.6555e-01, -1.9778e-01,\n",
       "         3.3744e-01, -6.7449e-02,  3.1592e-01,  2.2629e-01,  3.9437e+00,\n",
       "        -6.8497e-02,  1.6545e-01,  2.3124e-01, -2.4045e-01, -7.9015e-02,\n",
       "        -1.0985e-01, -6.9606e-01,  2.7849e-01,  1.8897e-01,  1.6000e-01,\n",
       "        -1.7137e-01,  3.8953e-06, -2.8293e-01,  4.7016e-02, -1.3133e-01,\n",
       "         2.0878e-01,  3.9830e-02,  7.2577e-02, -7.7098e-01, -1.8617e-01,\n",
       "         6.0332e-02,  2.8875e-01, -5.0854e-01,  4.7155e-01, -2.2681e-01,\n",
       "        -4.2489e-01, -3.0978e-01,  5.6036e-01, -8.3431e-02, -7.9060e-01,\n",
       "         2.5798e-01, -2.5329e-02, -5.7560e-01, -2.1392e-01,  1.3646e-02,\n",
       "        -3.4609e-01,  2.3948e-02, -1.5831e-01, -7.6229e-02,  8.8866e-02,\n",
       "        -5.1033e-02,  1.8484e-02, -2.8388e-01,  1.1493e-01,  7.9473e-02,\n",
       "         8.5077e-02, -2.5493e-01,  2.5182e-01, -7.9509e-02,  9.8597e-02,\n",
       "         1.0162e-03, -2.4160e-04, -7.8331e-01,  4.2898e-01,  1.6832e-01,\n",
       "         3.4815e-01,  4.4607e-01, -5.1723e-02,  3.8015e-01,  3.2834e-01,\n",
       "        -2.7430e-01, -5.4494e-02, -2.8872e-01,  1.9184e-01, -1.2465e-01,\n",
       "         4.7960e-02, -3.5875e-01, -2.8631e-01, -4.7720e-02,  2.8219e-01,\n",
       "        -3.7367e-02, -2.0332e+00,  1.1104e-01,  1.4081e-01,  1.6352e-01,\n",
       "        -9.6670e-02,  6.6905e-03, -9.6711e-02, -1.6086e-01,  2.1473e-01,\n",
       "         5.1170e-01,  2.7791e-01,  4.4795e-01,  2.7524e-03, -6.0587e-01,\n",
       "        -8.8103e-02, -1.8340e-01,  2.3856e-01,  2.0789e-01, -4.6564e-01,\n",
       "        -2.1515e-01,  1.4698e-01,  3.2862e-01,  6.2674e-02,  3.5007e-02,\n",
       "        -7.0678e-02, -1.4649e-01, -4.0008e-01, -1.7145e-01,  1.4895e-01,\n",
       "         4.8059e-01, -1.2060e-01, -4.0888e-01,  3.9630e-01, -1.1415e-01,\n",
       "         3.0103e-01,  1.5182e-01,  7.6290e-02,  4.3042e-01,  7.7370e-02,\n",
       "         1.0320e-01,  4.7692e-01, -3.3580e-01, -1.6567e-01, -1.1752e-01,\n",
       "         1.0525e-01, -3.0023e-01,  1.0221e-02, -1.7155e+00, -6.3450e-02,\n",
       "        -2.8988e-01, -1.0068e-01, -2.5832e-02,  9.9952e-02, -1.0967e-01,\n",
       "         8.9726e-02, -1.6104e-01, -2.8929e-02,  1.6549e-01,  3.2755e-01,\n",
       "         8.5148e-02, -8.5738e-02,  1.1365e-01, -1.1433e-01,  1.2843e-01,\n",
       "        -1.1510e-01,  9.8756e-02, -2.2513e-01,  6.5850e-02,  1.6468e-01,\n",
       "        -6.7681e-01, -2.6850e-01,  5.8589e-02, -1.4137e-01, -1.2454e-01,\n",
       "        -5.3539e-01,  6.5562e-02, -1.1234e-01, -5.3279e-01,  5.2422e+00,\n",
       "        -4.0560e-01,  2.3380e-01,  8.9849e-02, -1.2838e-01, -2.4379e-02,\n",
       "         1.8822e-01,  1.5897e-01,  5.5203e-01,  1.5172e-01,  2.0987e-01,\n",
       "        -2.2885e-01,  2.0860e-02,  1.0739e-01, -6.2331e-01,  3.4609e-01,\n",
       "         1.0811e-01,  1.0138e-02,  2.2864e-01, -1.7310e-01,  1.8976e-01,\n",
       "        -1.9521e-01,  1.3912e-01, -2.3901e-01,  5.7401e-01,  1.7102e-01,\n",
       "        -3.9905e-02, -8.6571e-02, -3.0202e-01,  6.1054e-02, -6.1588e-02,\n",
       "         3.5610e-01,  2.1576e-01,  1.1542e-01, -3.4704e-02,  1.6174e-01,\n",
       "         1.2977e-01, -4.4887e-02,  9.3537e-02,  6.6611e-02,  1.8251e-01,\n",
       "         1.3390e-01,  6.0562e-01,  1.7479e-01,  2.8840e-02,  2.4180e-01,\n",
       "         4.5918e-01, -1.6718e-01,  4.5888e-01,  4.2940e-01, -7.2537e-02,\n",
       "         1.4397e-02,  2.8889e-01, -2.0805e-01,  1.2724e-01,  1.1590e-01,\n",
       "        -8.5822e-02, -6.9646e-01, -1.3964e-01,  2.3929e-01, -4.7824e-01,\n",
       "         4.4253e-01,  3.1274e-03, -5.9481e-02,  1.4784e-01,  2.0493e-01,\n",
       "         3.8418e-01, -1.2767e-01,  1.0659e-01, -4.0921e-02, -3.4867e-01,\n",
       "         1.8290e-01, -1.8707e-01, -2.0242e-02, -3.7647e-03, -1.7294e-02,\n",
       "        -5.5569e-01,  1.7210e-01, -1.9293e-01, -2.4115e-01, -2.1646e-01,\n",
       "        -1.6646e-01,  1.8340e-01, -6.0075e-01,  1.1368e-01, -2.5069e-02,\n",
       "        -5.9690e-01, -3.9376e-01,  3.6409e-01,  3.9789e-01,  9.8945e-02,\n",
       "        -1.9436e-01,  2.4990e-02, -1.9875e-01, -4.6939e-01,  1.0190e-01,\n",
       "        -2.6107e-01,  3.4796e-01,  5.0597e-02,  3.4275e-02,  1.8194e-01,\n",
       "         2.1445e-01,  1.3416e-01,  1.6088e-01,  2.3300e-01, -4.9354e-02,\n",
       "         2.9643e-02,  1.1451e-02, -1.4329e-01, -1.6514e-01,  5.7336e-01,\n",
       "         1.9866e-01,  1.9047e-01, -1.4245e-01, -2.5414e-03, -1.6542e-01,\n",
       "         2.7281e-01, -6.9560e-02, -6.9237e+00,  6.0826e-01, -2.5000e-01,\n",
       "        -3.0983e-02, -1.4391e-01, -2.4324e-01,  2.4707e-01,  2.9352e-01,\n",
       "         2.9327e-01,  3.0432e-02, -1.7822e-01, -1.5692e-01, -2.2683e+00,\n",
       "         4.4704e-01, -4.1344e-01, -1.9500e-01, -4.8261e-01, -3.9869e-01,\n",
       "        -2.0939e-02,  2.6907e-01,  1.2733e-01,  9.4344e-03, -1.2968e-01,\n",
       "        -4.5779e-03, -1.7713e-01, -1.2115e-01,  4.7502e-02,  4.4007e-01,\n",
       "         5.1931e-01, -3.6229e-01, -1.1077e-01,  3.0497e-02,  3.1755e-01,\n",
       "        -3.6345e-01, -2.4719e-01, -2.4297e-01, -9.7789e-02, -1.2465e-01,\n",
       "         4.5363e-01, -2.4227e-01,  9.2711e-02, -1.6969e-01,  3.0021e-01,\n",
       "         4.3469e-01, -3.9540e-01, -7.5355e-01, -7.2147e-01, -2.4100e+00,\n",
       "         4.0434e-02, -1.2400e-01,  9.6760e-02, -2.8354e-02, -2.5698e-01,\n",
       "        -4.6758e-02, -1.6273e-01, -1.0739e-01,  1.3666e-01, -2.6425e-01,\n",
       "         2.2823e-01, -5.5693e-01, -5.8791e-01,  2.1092e-01, -8.4359e-02,\n",
       "         2.3262e-01, -2.0944e-01,  2.2529e-01, -5.2904e-01,  2.0560e-02,\n",
       "        -1.2554e-01, -4.5793e-01, -4.5884e-01, -1.0982e-01,  1.1187e-01,\n",
       "        -1.7009e-02,  1.8624e-01,  3.2923e-01,  2.0351e-01, -7.0993e-02,\n",
       "         1.9223e-01,  1.6070e-01,  1.4300e-01, -1.7116e-01,  1.7153e-01,\n",
       "         2.5210e-01,  1.5237e-01, -9.3262e-02,  2.1593e-01,  9.6720e-02,\n",
       "         2.1912e-01, -3.8189e-02, -1.5195e-01, -3.5456e-01,  4.2098e-02,\n",
       "         3.6410e-01, -1.4690e-01,  3.5784e-01, -4.3433e-01,  4.3857e-01,\n",
       "        -1.2595e-01, -9.2475e-02, -3.0737e-03,  7.3586e-02, -1.7293e-01,\n",
       "        -2.0937e-01, -2.7100e-01, -2.8387e-01,  2.7053e+00, -8.0924e-02,\n",
       "         8.1491e-02, -3.6940e-01, -1.3932e-01,  3.7587e-01,  9.7684e-02,\n",
       "         2.1194e-01,  1.5841e+00,  1.8911e-01,  1.6617e-01,  2.8076e-01,\n",
       "        -1.4621e-01, -1.2978e-01, -2.1853e-01,  3.6890e-01,  3.4510e-01,\n",
       "         2.8858e-01, -1.4058e-01,  2.2742e-01,  1.8515e-01, -4.8645e-01,\n",
       "         9.6554e-02,  3.5819e-01, -1.3424e-01,  9.1154e-02, -1.8590e-01,\n",
       "        -2.7749e-01,  1.5687e-01, -7.1694e-01,  1.0853e-01,  8.2399e-02,\n",
       "         3.3857e-01,  9.9330e-01, -2.8679e-01,  2.3153e-01,  8.9166e-02,\n",
       "        -2.6954e-02, -8.0246e-02, -2.2707e-01, -2.8958e-01,  4.6964e-02,\n",
       "        -3.3167e-01,  6.3560e-01, -5.6677e-01,  6.6042e-02, -2.9372e-01,\n",
       "        -1.6715e-01, -9.4291e-02, -8.3590e-03,  1.8268e-01, -4.4814e-01,\n",
       "         9.0060e-02,  1.0373e-01,  1.1807e-01,  1.1378e-01, -7.2676e-01,\n",
       "        -2.2041e-01,  1.6066e-01,  1.4568e-01,  1.7253e-01, -8.7962e-02,\n",
       "        -2.6117e-01,  9.3809e-03,  6.2159e-03, -3.1519e-02,  5.2174e-01,\n",
       "        -1.8710e-01,  7.7536e-02, -2.1689e-01, -1.6130e-01,  2.2451e-01,\n",
       "        -2.4012e+00, -5.6470e-02,  2.6252e-01,  2.5408e-01, -3.6468e-02,\n",
       "        -1.8726e-01,  7.8837e-02, -1.0253e-01, -3.1516e-01,  8.4089e-02,\n",
       "        -1.9107e-01,  2.1423e+00, -1.9548e-02, -2.0493e-02, -1.6253e-01,\n",
       "         2.9921e-01,  1.5702e-01, -6.9366e-02,  1.0044e-01, -6.5444e-01,\n",
       "        -3.8037e-01,  1.6698e+00, -2.5186e-01,  1.1631e-01,  3.4977e-01,\n",
       "         6.5969e-02, -5.2367e-02,  1.0682e-01,  1.3227e-01, -1.9250e-01,\n",
       "         3.2262e-01,  2.7444e-01, -3.2508e-01], grad_fn=<CatBackward0>)"
      ]
     },
     "execution_count": 202,
     "metadata": {},
     "output_type": "execute_result"
    }
   ],
   "source": [
    "sent.embedding"
   ]
  },
  {
   "cell_type": "code",
   "execution_count": 163,
   "id": "7c7f25dd-d259-4960-b1e7-c0b3fa944aee",
   "metadata": {},
   "outputs": [
    {
     "name": "stdout",
     "output_type": "stream",
     "text": [
      "[POSITIVE (0.883)]\n",
      "[-0.0117     -0.09843334  0.0262     -0.154      -0.05664999  0.0582\n",
      " -0.21276666  0.09253333  0.13086665 -0.05003333 -0.03101667  0.14533333\n",
      " -0.10356667 -0.01455     0.02535    -0.06191667  0.10255001  0.01055\n",
      "  0.04751667  0.01098333 -0.08934999  0.07645    -0.0143      0.02733333\n",
      " -0.1129     -0.02193333  0.02179999 -0.2033      0.09135001  0.06205\n",
      "  0.02911667 -0.15066668  0.10981667 -0.03983334  0.0056     -0.13048334\n",
      " -0.2641     -0.04553333  0.08875     0.05386667 -0.08759999  0.27338332\n",
      "  0.03013333 -0.11103333 -0.0565     -0.02601667 -0.06943334 -0.1013\n",
      "  0.00188333  0.2805     -0.0576      0.10353333  0.15381666  0.0224\n",
      " -0.03456667  0.03865     0.01505    -0.21671666 -0.0949      0.00383334\n",
      "  0.07848334  0.05188334 -0.10708333 -0.21735    -0.02028334  0.07676666\n",
      " -0.11413334  0.06266667 -0.0296      0.12990001  0.01721667  0.06726667\n",
      "  0.0977      0.15916666 -0.07955001 -0.1122     -0.33784997 -0.1226\n",
      "  0.31068334 -0.1169      0.4466     -0.10999999  0.07691667  0.0347\n",
      "  0.0256      0.00853333  0.01691667 -0.14455001  0.05778332 -0.08145001\n",
      "  0.16925     0.19026667  0.01418333  0.05113333 -0.06795    -0.03293334\n",
      " -0.18056667 -0.01418333 -0.09606666 -0.07101666 -0.19551666  0.04438334\n",
      "  0.14215    -0.00708333 -0.07628334 -0.08331666 -0.0862      0.08230001\n",
      " -0.11993333 -0.00379999  0.20638333 -0.02905     0.08088334  0.10758334\n",
      " -0.33956668  0.05671667  0.14736666 -0.01943333  0.02891666 -0.01658333\n",
      " -0.07696667  0.0772     -0.06628333 -0.04196667 -0.00618333  0.01153333\n",
      " -0.00216667  0.03853333  0.2891      0.07261667 -0.05711667 -0.00596667\n",
      "  0.08103333  0.0983      0.2993     -0.01648334 -0.18366666 -0.01091666\n",
      "  0.02918333 -0.44536665  0.01718333 -0.11936667 -0.02111667  0.21421665\n",
      " -0.04136667 -0.18335001 -0.03423334  0.03063333 -0.01878333 -0.09633333\n",
      " -0.0484     -0.0147      0.04853334 -0.18233334  0.10345     0.01163333\n",
      "  0.10398334  0.08804999 -0.02459999  0.04105     0.5247833   0.09775\n",
      " -0.07803333 -0.09841666  0.10173333 -0.04341666  0.0408      0.07905\n",
      "  0.00786667 -0.08441667  0.02063333 -0.09471667 -0.22756667  0.07346667\n",
      " -0.05928333 -0.01876667 -0.13033332 -0.0602     -0.0599      0.02296667\n",
      " -0.0753      0.15988334 -0.04711667 -0.00996667  0.0884     -0.01705\n",
      " -0.06491666  0.03315    -0.17626667  0.00448333  0.00826667  0.01888333\n",
      " -0.12791665 -0.01178334  0.10966667 -0.11995     0.01938333 -0.04281667\n",
      "  0.1212     -0.06815     0.03291667 -0.0601     -0.07955001  0.15738334\n",
      "  0.02925     0.05821667 -0.09171667 -0.07105     0.11928333 -0.04266666\n",
      " -0.00776667  0.6062     -0.03601667 -0.03393333 -0.02493333 -0.0064\n",
      "  0.00486667 -0.09461666  0.08086666 -0.04338333  0.00865     0.31755\n",
      " -0.06681667 -0.0106     -0.18943334 -0.0358     -0.10221666  0.00118333\n",
      " -0.07815    -0.04211666  0.1444      0.00141667 -0.04241667  0.01701667\n",
      " -0.01238333 -0.06844999  0.0516     -0.13568333  0.09980001  0.07033333\n",
      "  0.02281667  0.08236667 -0.05840001 -0.00968334 -0.0077      0.05831667\n",
      "  0.12765001  0.0309     -0.16731668 -0.0361     -0.02106667  0.07611667\n",
      " -0.06291667 -0.06433333  0.03353333 -0.00776666  0.0225      0.11976667\n",
      "  0.00103333  0.12075    -0.07791666  0.0212      0.14698334  0.05623334\n",
      " -0.03255     0.03231667  0.03341667  0.08875    -0.1851      0.01775\n",
      " -0.14       -0.20548332 -0.05246666 -0.01378334 -0.10300001  0.02426667\n",
      " -0.17783333 -0.01248334  0.0413      0.13368334 -0.15271667 -0.07646666\n",
      "  0.0356     -0.21635     0.06115     0.06058333 -0.00203334  0.0601\n",
      " -0.01128333 -0.00533333 -0.02976666 -0.08203333 -0.08101667 -0.0904\n",
      " -0.01513333 -0.0184      0.00865    -0.06995     0.05031667 -0.03966666]\n"
     ]
    }
   ],
   "source": [
    "classifier.predict(sent)\n",
    "document_embeddings.embed(sent)\n",
    "print(sent.labels)\n",
    "print(sent.embedding.numpy())"
   ]
  },
  {
   "cell_type": "code",
   "execution_count": 181,
   "id": "21e8878b-8d64-41dd-865b-43c47fb67b7a",
   "metadata": {},
   "outputs": [],
   "source": [
    "pca = PCA(n_components=2)\n",
    "principalComponents = pca.fit_transform(embeddings)"
   ]
  },
  {
   "cell_type": "code",
   "execution_count": 182,
   "id": "79adf167-40c6-47bd-a291-183ccc9d78cc",
   "metadata": {},
   "outputs": [],
   "source": [
    "pca_control = pca.transform(sent.embedding.numpy().reshape(1, -1))"
   ]
  },
  {
   "cell_type": "code",
   "execution_count": 183,
   "id": "4d69a4bf-3ecf-4360-95b5-d1151786dd68",
   "metadata": {},
   "outputs": [
    {
     "data": {
      "text/plain": [
       "array([[-0.26368257,  0.12890395]])"
      ]
     },
     "execution_count": 183,
     "metadata": {},
     "output_type": "execute_result"
    }
   ],
   "source": [
    "pca_control"
   ]
  },
  {
   "cell_type": "code",
   "execution_count": 184,
   "id": "bf9f9899-b41b-4350-a355-5d55421ac4ef",
   "metadata": {},
   "outputs": [
    {
     "data": {
      "text/plain": [
       "array([[-0.10666933,  0.00883991],\n",
       "       [ 0.15761524,  0.07379045],\n",
       "       [ 0.23542562,  0.00361286],\n",
       "       ...,\n",
       "       [ 0.10172401, -0.02054322],\n",
       "       [-0.07583694, -0.03702399],\n",
       "       [-0.26368254,  0.12890529]])"
      ]
     },
     "execution_count": 184,
     "metadata": {},
     "output_type": "execute_result"
    }
   ],
   "source": [
    "principalComponents"
   ]
  },
  {
   "cell_type": "code",
   "execution_count": 185,
   "id": "b75f0de9-12a9-4ce8-84a9-40f442112d03",
   "metadata": {},
   "outputs": [],
   "source": [
    "df_2017[['pca_1', 'pca_2']] = principalComponents"
   ]
  },
  {
   "cell_type": "code",
   "execution_count": 186,
   "id": "5bf70033-18fa-40a0-9cf2-e53ce3ca0b46",
   "metadata": {},
   "outputs": [],
   "source": [
    "data = df_2017.groupby('speaker').agg({'numOccurrences': 'sum', 'pca_1': 'mean', 'pca_2': 'mean'})"
   ]
  },
  {
   "cell_type": "code",
   "execution_count": 187,
   "id": "acfab430-e7c3-4b7a-8643-03f460aae9c4",
   "metadata": {},
   "outputs": [],
   "source": [
    "data = data.sort_values('numOccurrences', ascending=False)[:100]"
   ]
  },
  {
   "cell_type": "code",
   "execution_count": 188,
   "id": "d3d798df-dae1-414a-ac5d-5cf5ee3f1dd7",
   "metadata": {},
   "outputs": [],
   "source": [
    "df = pd.merge(data, speakers_2017, how=\"left\", on=\"speaker\")"
   ]
  },
  {
   "cell_type": "code",
   "execution_count": 189,
   "id": "56725c89-cc9f-491a-9edf-e836d5901a0c",
   "metadata": {},
   "outputs": [
    {
     "data": {
      "text/html": [
       "<div>\n",
       "<style scoped>\n",
       "    .dataframe tbody tr th:only-of-type {\n",
       "        vertical-align: middle;\n",
       "    }\n",
       "\n",
       "    .dataframe tbody tr th {\n",
       "        vertical-align: top;\n",
       "    }\n",
       "\n",
       "    .dataframe thead th {\n",
       "        text-align: right;\n",
       "    }\n",
       "</style>\n",
       "<table border=\"1\" class=\"dataframe\">\n",
       "  <thead>\n",
       "    <tr style=\"text-align: right;\">\n",
       "      <th></th>\n",
       "      <th>numOccurrences</th>\n",
       "      <th>pca_1</th>\n",
       "      <th>pca_2</th>\n",
       "    </tr>\n",
       "    <tr>\n",
       "      <th>speaker</th>\n",
       "      <th></th>\n",
       "      <th></th>\n",
       "      <th></th>\n",
       "    </tr>\n",
       "  </thead>\n",
       "  <tbody>\n",
       "    <tr>\n",
       "      <th>Donald Trump</th>\n",
       "      <td>9046</td>\n",
       "      <td>0.035908</td>\n",
       "      <td>0.026287</td>\n",
       "    </tr>\n",
       "    <tr>\n",
       "      <th>Scott Pruitt</th>\n",
       "      <td>3386</td>\n",
       "      <td>-0.006908</td>\n",
       "      <td>0.028098</td>\n",
       "    </tr>\n",
       "    <tr>\n",
       "      <th>Angela Merkel</th>\n",
       "      <td>3106</td>\n",
       "      <td>-0.008584</td>\n",
       "      <td>0.011113</td>\n",
       "    </tr>\n",
       "    <tr>\n",
       "      <th>António Guterres</th>\n",
       "      <td>2638</td>\n",
       "      <td>0.043186</td>\n",
       "      <td>0.005236</td>\n",
       "    </tr>\n",
       "    <tr>\n",
       "      <th>Jerry Brown</th>\n",
       "      <td>2620</td>\n",
       "      <td>-0.008250</td>\n",
       "      <td>0.023806</td>\n",
       "    </tr>\n",
       "  </tbody>\n",
       "</table>\n",
       "</div>"
      ],
      "text/plain": [
       "                  numOccurrences     pca_1     pca_2\n",
       "speaker                                             \n",
       "Donald Trump                9046  0.035908  0.026287\n",
       "Scott Pruitt                3386 -0.006908  0.028098\n",
       "Angela Merkel               3106 -0.008584  0.011113\n",
       "António Guterres            2638  0.043186  0.005236\n",
       "Jerry Brown                 2620 -0.008250  0.023806"
      ]
     },
     "execution_count": 189,
     "metadata": {},
     "output_type": "execute_result"
    }
   ],
   "source": [
    "data.head()"
   ]
  },
  {
   "cell_type": "code",
   "execution_count": 190,
   "id": "7f976886-c989-4eb6-93da-29cc8e2c0d1f",
   "metadata": {},
   "outputs": [],
   "source": [
    "df = df_2017[df_2017.speaker.isin([\"Donald Trump\", \"Angela Merkel\"])]"
   ]
  },
  {
   "cell_type": "code",
   "execution_count": 191,
   "id": "dc7808d3-bd15-483a-ad33-aa4d68dfc537",
   "metadata": {},
   "outputs": [
    {
     "data": {
      "text/plain": [
       "<AxesSubplot:xlabel='pca_1', ylabel='pca_2'>"
      ]
     },
     "execution_count": 191,
     "metadata": {},
     "output_type": "execute_result"
    },
    {
     "data": {
      "image/png": "[encoded data removed]",
      "text/plain": [
       "<Figure size 432x288 with 1 Axes>"
      ]
     },
     "metadata": {
      "needs_background": "light"
     },
     "output_type": "display_data"
    }
   ],
   "source": [
    "sns.scatterplot(x=\"pca_1\", y=\"pca_2\", data=df, hue=df.speaker)\n"
   ]
  },
  {
   "cell_type": "code",
   "execution_count": 54,
   "id": "8f3df2fb-78bd-4d33-a980-17b315bee5a2",
   "metadata": {},
   "outputs": [],
   "source": [
    "speakers_2017 = pd.read_pickle('data/speakers_2017.pkl')"
   ]
  },
  {
   "cell_type": "code",
   "execution_count": 55,
   "id": "a5caa079-0ca2-4398-9eff-3fbfb9a2d002",
   "metadata": {},
   "outputs": [
    {
     "data": {
      "text/html": [
       "<div>\n",
       "<style scoped>\n",
       "    .dataframe tbody tr th:only-of-type {\n",
       "        vertical-align: middle;\n",
       "    }\n",
       "\n",
       "    .dataframe tbody tr th {\n",
       "        vertical-align: top;\n",
       "    }\n",
       "\n",
       "    .dataframe thead th {\n",
       "        text-align: right;\n",
       "    }\n",
       "</style>\n",
       "<table border=\"1\" class=\"dataframe\">\n",
       "  <thead>\n",
       "    <tr style=\"text-align: right;\">\n",
       "      <th></th>\n",
       "      <th>speaker</th>\n",
       "      <th>quotation_count</th>\n",
       "      <th>gender</th>\n",
       "      <th>age</th>\n",
       "      <th>nationality</th>\n",
       "      <th>political_party</th>\n",
       "      <th>occupation</th>\n",
       "    </tr>\n",
       "  </thead>\n",
       "  <tbody>\n",
       "    <tr>\n",
       "      <th>0</th>\n",
       "      <td>Donald Trump</td>\n",
       "      <td>910</td>\n",
       "      <td>male</td>\n",
       "      <td>75.0</td>\n",
       "      <td>United States of America</td>\n",
       "      <td>Republican Party</td>\n",
       "      <td>business magnate</td>\n",
       "    </tr>\n",
       "    <tr>\n",
       "      <th>1</th>\n",
       "      <td>Scott Pruitt</td>\n",
       "      <td>417</td>\n",
       "      <td>male</td>\n",
       "      <td>53.0</td>\n",
       "      <td>United States of America</td>\n",
       "      <td>Republican Party</td>\n",
       "      <td>lawyer</td>\n",
       "    </tr>\n",
       "    <tr>\n",
       "      <th>2</th>\n",
       "      <td>Al Gore</td>\n",
       "      <td>361</td>\n",
       "      <td>male</td>\n",
       "      <td>73.0</td>\n",
       "      <td>United States of America</td>\n",
       "      <td>Democratic Party</td>\n",
       "      <td>politician</td>\n",
       "    </tr>\n",
       "    <tr>\n",
       "      <th>3</th>\n",
       "      <td>Jerry Brown</td>\n",
       "      <td>344</td>\n",
       "      <td>male</td>\n",
       "      <td>83.0</td>\n",
       "      <td>United States of America</td>\n",
       "      <td>Democratic Party</td>\n",
       "      <td>lawyer</td>\n",
       "    </tr>\n",
       "    <tr>\n",
       "      <th>4</th>\n",
       "      <td>Catherine McKenna</td>\n",
       "      <td>255</td>\n",
       "      <td>female</td>\n",
       "      <td>50.0</td>\n",
       "      <td>Canada</td>\n",
       "      <td>Liberal Party of Canada</td>\n",
       "      <td>lawyer</td>\n",
       "    </tr>\n",
       "  </tbody>\n",
       "</table>\n",
       "</div>"
      ],
      "text/plain": [
       "             speaker  quotation_count  gender   age               nationality  \\\n",
       "0       Donald Trump              910    male  75.0  United States of America   \n",
       "1       Scott Pruitt              417    male  53.0  United States of America   \n",
       "2            Al Gore              361    male  73.0  United States of America   \n",
       "3        Jerry Brown              344    male  83.0  United States of America   \n",
       "4  Catherine McKenna              255  female  50.0                    Canada   \n",
       "\n",
       "           political_party        occupation  \n",
       "0         Republican Party  business magnate  \n",
       "1         Republican Party            lawyer  \n",
       "2         Democratic Party        politician  \n",
       "3         Democratic Party            lawyer  \n",
       "4  Liberal Party of Canada            lawyer  "
      ]
     },
     "execution_count": 55,
     "metadata": {},
     "output_type": "execute_result"
    }
   ],
   "source": [
    "speakers_2017.head()"
   ]
  },
  {
   "cell_type": "code",
   "execution_count": null,
   "id": "b2e9ae77-d87b-47c5-b9d5-4ae722685258",
   "metadata": {},
   "outputs": [],
   "source": []
  }
 ],
 "metadata": {
  "kernelspec": {
   "display_name": "Python 3 (ipykernel)",
   "language": "python",
   "name": "python3"
  },
  "language_info": {
   "codemirror_mode": {
    "name": "ipython",
    "version": 3
   },
   "file_extension": ".py",
   "mimetype": "text/x-python",
   "name": "python",
   "nbconvert_exporter": "python",
   "pygments_lexer": "ipython3",
   "version": "3.9.7"
  }
 },
 "nbformat": 4,
 "nbformat_minor": 5
}
