{
 "cells": [
  {
   "cell_type": "markdown",
   "id": "0264adaf-1cb9-4741-bcbe-764b805d14fc",
   "metadata": {},
   "source": [
    "# Web request for words similar to \"Climate change\""
   ]
  },
  {
   "cell_type": "code",
   "execution_count": 2,
   "id": "de484421-c6fb-497f-b320-295953a4538d",
   "metadata": {
    "execution": {
     "iopub.execute_input": "2021-11-07T15:40:56.418676Z",
     "iopub.status.busy": "2021-11-07T15:40:56.418218Z",
     "iopub.status.idle": "2021-11-07T15:40:57.223373Z",
     "shell.execute_reply": "2021-11-07T15:40:57.222987Z",
     "shell.execute_reply.started": "2021-11-07T15:40:56.418657Z"
    },
    "tags": []
   },
   "outputs": [],
   "source": [
    "# Import libraries\n",
    "import requests\n",
    "from bs4 import BeautifulSoup\n",
    "import json\n",
    "import nltk\n",
    "from nltk.stem import LancasterStemmer\n",
    "import pandas as pd"
   ]
  },
  {
   "cell_type": "markdown",
   "id": "a6743ec0-41cc-4515-adc4-c20d4cb55a11",
   "metadata": {},
   "source": [
    "We are now going to perform the query for words related to \"climate change\". The website from which we are quering, uses multiple algorithms to extract the words that are the most similar to \"climate change\". The further away they are on the list, the least similar they are."
   ]
  },
  {
   "cell_type": "code",
   "execution_count": 3,
   "id": "85b28207-e179-49e6-bba0-4d1b079749a9",
   "metadata": {
    "execution": {
     "iopub.execute_input": "2021-11-07T15:40:57.403580Z",
     "iopub.status.busy": "2021-11-07T15:40:57.403216Z",
     "iopub.status.idle": "2021-11-07T15:40:57.493537Z",
     "shell.execute_reply": "2021-11-07T15:40:57.493170Z",
     "shell.execute_reply.started": "2021-11-07T15:40:57.403562Z"
    },
    "tags": []
   },
   "outputs": [],
   "source": [
    "# Make the request\n",
    "r = requests.get('https://relatedwords.org/relatedto/climate%20change')\n",
    "\n",
    "# Parse content\n",
    "soup = BeautifulSoup(r.text, 'html.parser')\n",
    "\n",
    "# Extract words with score and source\n",
    "for words in soup.find_all('script', attrs={\"id\" : \"preloadedDataEl\", \"type\" : \"text/json\"}):\n",
    "    words_json_format = json.loads(words.string)"
   ]
  },
  {
   "cell_type": "markdown",
   "id": "a811b3dc-20ec-470e-b0ad-6764e1497320",
   "metadata": {},
   "source": [
    "Now that we have extracted what we wanted, we will transfrom the content into something we can use for analysis."
   ]
  },
  {
   "cell_type": "code",
   "execution_count": 4,
   "id": "7380a6b7-4fc4-48e7-ad63-2ace4b473d28",
   "metadata": {
    "execution": {
     "iopub.execute_input": "2021-11-07T15:40:58.909682Z",
     "iopub.status.busy": "2021-11-07T15:40:58.909296Z",
     "iopub.status.idle": "2021-11-07T15:40:58.912737Z",
     "shell.execute_reply": "2021-11-07T15:40:58.912245Z",
     "shell.execute_reply.started": "2021-11-07T15:40:58.909665Z"
    },
    "tags": []
   },
   "outputs": [],
   "source": [
    "# Transform into python list fo scores associated to words\n",
    "words_with_score = []\n",
    "words_only = []\n",
    "\n",
    "for term in words_json_format['terms']:\n",
    "    words_with_score.append((term['word'], term['score']))\n",
    "    words_only.append(term['word'])"
   ]
  },
  {
   "cell_type": "markdown",
   "id": "64885d7f-0a10-4d75-ac61-dd054930d842",
   "metadata": {
    "execution": {
     "iopub.execute_input": "2021-11-07T14:47:24.337588Z",
     "iopub.status.busy": "2021-11-07T14:47:24.337229Z",
     "iopub.status.idle": "2021-11-07T14:47:24.341444Z",
     "shell.execute_reply": "2021-11-07T14:47:24.341015Z",
     "shell.execute_reply.started": "2021-11-07T14:47:24.337566Z"
    },
    "tags": []
   },
   "source": [
    "# Stemming"
   ]
  },
  {
   "cell_type": "code",
   "execution_count": 5,
   "id": "0087bf55-d2fc-40f3-bced-6b96eace47d8",
   "metadata": {
    "execution": {
     "iopub.execute_input": "2021-11-07T15:41:00.448135Z",
     "iopub.status.busy": "2021-11-07T15:41:00.447709Z",
     "iopub.status.idle": "2021-11-07T15:41:00.450733Z",
     "shell.execute_reply": "2021-11-07T15:41:00.450390Z",
     "shell.execute_reply.started": "2021-11-07T15:41:00.448117Z"
    },
    "tags": []
   },
   "outputs": [],
   "source": [
    "# Stemming\n",
    "def stem_list(words_list):\n",
    "    stemmed_words = []\n",
    "    lancaster = LancasterStemmer()\n",
    "\n",
    "    for word in words_only:\n",
    "        stemmed_words.append(lancaster.stem(word))\n",
    "        \n",
    "    return stemmed_words"
   ]
  },
  {
   "cell_type": "markdown",
   "id": "75bf5a88-0e6d-4012-9f9f-9a13dc83da6f",
   "metadata": {
    "tags": []
   },
   "source": [
    "# Extracting and stemming data from dataset"
   ]
  },
  {
   "cell_type": "code",
   "execution_count": 6,
   "id": "28e52e92-8128-4f2b-ac42-0c519a205bc4",
   "metadata": {
    "execution": {
     "iopub.execute_input": "2021-11-07T15:41:02.509848Z",
     "iopub.status.busy": "2021-11-07T15:41:02.509522Z",
     "iopub.status.idle": "2021-11-07T15:41:02.512758Z",
     "shell.execute_reply": "2021-11-07T15:41:02.512415Z",
     "shell.execute_reply.started": "2021-11-07T15:41:02.509831Z"
    },
    "tags": []
   },
   "outputs": [],
   "source": [
    "# Load data\n",
    "df = pd.read_json('data/quotebank/quotes-2020.json.bz2', lines=True, compression='bz2', chunksize =10)"
   ]
  },
  {
   "cell_type": "code",
   "execution_count": 7,
   "id": "12d94079-b27b-49cf-a394-92a994fdb2b3",
   "metadata": {
    "execution": {
     "iopub.execute_input": "2021-11-07T15:41:03.521158Z",
     "iopub.status.busy": "2021-11-07T15:41:03.520708Z",
     "iopub.status.idle": "2021-11-07T15:41:03.533252Z",
     "shell.execute_reply": "2021-11-07T15:41:03.532835Z",
     "shell.execute_reply.started": "2021-11-07T15:41:03.521107Z"
    },
    "tags": []
   },
   "outputs": [],
   "source": [
    "# Setup set of words we're using for searching\n",
    "stemmed_words = stem_list(words_only)\n",
    "stemmed_words = set(stemmed_words[:10]) #Only use 10 first words for now"
   ]
  },
  {
   "cell_type": "code",
   "execution_count": 15,
   "id": "2c928b47-95af-4b34-8d4c-d49730ad7fbd",
   "metadata": {
    "execution": {
     "iopub.execute_input": "2021-11-07T15:45:32.935364Z",
     "iopub.status.busy": "2021-11-07T15:45:32.935039Z",
     "iopub.status.idle": "2021-11-07T15:45:32.941899Z",
     "shell.execute_reply": "2021-11-07T15:45:32.941440Z",
     "shell.execute_reply.started": "2021-11-07T15:45:32.935346Z"
    },
    "tags": []
   },
   "outputs": [
    {
     "ename": "AttributeError",
     "evalue": "'JsonReader' object has no attribute 'id'",
     "output_type": "error",
     "traceback": [
      "\u001b[0;31m---------------------------------------------------------------------------\u001b[0m",
      "\u001b[0;31mAttributeError\u001b[0m                            Traceback (most recent call last)",
      "\u001b[0;32m/tmp/ipykernel_80288/3759953067.py\u001b[0m in \u001b[0;36m<module>\u001b[0;34m\u001b[0m\n\u001b[1;32m      6\u001b[0m     \u001b[0;31m#climate_quotes.append(df)\u001b[0m\u001b[0;34m\u001b[0m\u001b[0;34m\u001b[0m\u001b[0;34m\u001b[0m\u001b[0m\n\u001b[1;32m      7\u001b[0m \u001b[0;34m\u001b[0m\u001b[0m\n\u001b[0;32m----> 8\u001b[0;31m \u001b[0mprint\u001b[0m\u001b[0;34m(\u001b[0m\u001b[0mdf\u001b[0m\u001b[0;34m.\u001b[0m\u001b[0mid\u001b[0m\u001b[0;34m)\u001b[0m\u001b[0;34m\u001b[0m\u001b[0;34m\u001b[0m\u001b[0m\n\u001b[0m",
      "\u001b[0;31mAttributeError\u001b[0m: 'JsonReader' object has no attribute 'id'"
     ]
    }
   ],
   "source": [
    "#%%time\n",
    "#climate_quotes = []\n",
    "#for row in df:\n",
    "#    print(row['quotation'])\n",
    "    #df = chunk[chunk.quotation.str).contains('climate', case=False, na=False)]\n",
    "    #climate_quotes.append(df)\n",
    "# load data using Python JSON module\n",
    "with open('data/quotebank/quotes-2020.json.bz2','r') as f:\n",
    "    data = json.loads(f.read())\n",
    "# Normalizing data\n",
    "multiple_level_data = pd.json_normalize(data, record_path =['Results'], meta =['original_number_of_clusters','Scaler','family_min_samples_percentage'], meta_prefix='config_params_', record_prefix='dbscan_')\n",
    "# Saving to CSV format\n",
    "multiple_level_data.to_csv('multiplelevel_normalized_data.csv', index=False)"
   ]
  }
 ],
 "metadata": {
  "kernelspec": {
   "display_name": "Python 3 (ipykernel)",
   "language": "python",
   "name": "python3"
  },
  "language_info": {
   "codemirror_mode": {
    "name": "ipython",
    "version": 3
   },
   "file_extension": ".py",
   "mimetype": "text/x-python",
   "name": "python",
   "nbconvert_exporter": "python",
   "pygments_lexer": "ipython3",
   "version": "3.8.12"
  }
 },
 "nbformat": 4,
 "nbformat_minor": 5
}
