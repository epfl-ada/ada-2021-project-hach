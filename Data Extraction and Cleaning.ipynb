{
 "cells": [
  {
   "cell_type": "markdown",
   "id": "0264adaf-1cb9-4741-bcbe-764b805d14fc",
   "metadata": {},
   "source": [
    "# Web request for words similar to \"Climate change\""
   ]
  },
  {
   "cell_type": "code",
   "execution_count": 1,
   "id": "de484421-c6fb-497f-b320-295953a4538d",
   "metadata": {
    "tags": []
   },
   "outputs": [],
   "source": [
    "# Import libraries\n",
    "import requests\n",
    "from bs4 import BeautifulSoup\n",
    "import json\n",
    "import nltk\n",
    "from nltk.stem import LancasterStemmer\n",
    "import pandas as pd\n",
    "import numpy as np\n",
    "import re"
   ]
  },
  {
   "cell_type": "markdown",
   "id": "a6743ec0-41cc-4515-adc4-c20d4cb55a11",
   "metadata": {},
   "source": [
    "We are now going to perform the query for words related to \"climate change\". The website from which we are quering, uses multiple algorithms to extract the words that are the most similar to \"climate change\". The further away they are on the list, the least similar they are."
   ]
  },
  {
   "cell_type": "code",
   "execution_count": 2,
   "id": "85b28207-e179-49e6-bba0-4d1b079749a9",
   "metadata": {
    "tags": []
   },
   "outputs": [],
   "source": [
    "# Make the request\n",
    "r = requests.get('https://relatedwords.org/relatedto/climate%20change')\n",
    "\n",
    "# Parse content\n",
    "soup = BeautifulSoup(r.text, 'html.parser')\n",
    "\n",
    "# Extract words with score and source\n",
    "for words in soup.find_all('script', attrs={\"id\" : \"preloadedDataEl\", \"type\" : \"text/json\"}):\n",
    "    words_json_format = json.loads(words.string)"
   ]
  },
  {
   "cell_type": "markdown",
   "id": "a811b3dc-20ec-470e-b0ad-6764e1497320",
   "metadata": {},
   "source": [
    "Now that we have extracted what we wanted, we will transfrom the content into something we can use for analysis."
   ]
  },
  {
   "cell_type": "code",
   "execution_count": 3,
   "id": "7380a6b7-4fc4-48e7-ad63-2ace4b473d28",
   "metadata": {
    "tags": []
   },
   "outputs": [],
   "source": [
    "# Transform into python list fo scores associated to words\n",
    "words_with_score = []\n",
    "words_only = []\n",
    "\n",
    "for term in words_json_format['terms']:\n",
    "    words_with_score.append((term['word'], term['score']))\n",
    "    words_only.append(term['word'])"
   ]
  },
  {
   "cell_type": "markdown",
   "id": "64885d7f-0a10-4d75-ac61-dd054930d842",
   "metadata": {
    "execution": {
     "iopub.execute_input": "2021-11-07T14:47:24.337588Z",
     "iopub.status.busy": "2021-11-07T14:47:24.337229Z",
     "iopub.status.idle": "2021-11-07T14:47:24.341444Z",
     "shell.execute_reply": "2021-11-07T14:47:24.341015Z",
     "shell.execute_reply.started": "2021-11-07T14:47:24.337566Z"
    },
    "tags": []
   },
   "source": [
    "# Stemming"
   ]
  },
  {
   "cell_type": "code",
   "execution_count": 5,
   "id": "0087bf55-d2fc-40f3-bced-6b96eace47d8",
   "metadata": {
    "tags": []
   },
   "outputs": [],
   "source": [
    "# Stemming\n",
    "def stem_list(words_list):\n",
    "    stemmed_words = []\n",
    "    lancaster = LancasterStemmer()\n",
    "\n",
    "    for word in words_only:\n",
    "        stemmed_words.append(lancaster.stem(word))\n",
    "        \n",
    "    return stemmed_words"
   ]
  },
  {
   "cell_type": "markdown",
   "id": "75bf5a88-0e6d-4012-9f9f-9a13dc83da6f",
   "metadata": {
    "tags": []
   },
   "source": [
    "# Extracting and stemming data from dataset"
   ]
  },
  {
   "cell_type": "code",
   "execution_count": 6,
   "id": "28e52e92-8128-4f2b-ac42-0c519a205bc4",
   "metadata": {
    "tags": []
   },
   "outputs": [],
   "source": [
    "# Load data\n",
    "df_reader = pd.read_json('data/quotebank/quotes-2020.json.bz2', lines=True, compression='bz2', chunksize =100000)"
   ]
  },
  {
   "cell_type": "code",
   "execution_count": 7,
   "id": "12d94079-b27b-49cf-a394-92a994fdb2b3",
   "metadata": {
    "tags": []
   },
   "outputs": [],
   "source": [
    "# Setup set of words we're using for searching\n",
    "stemmed_words = stem_list(words_only)\n",
    "stemmed_words = set(stemmed_words[:10]) #Only use 10 first words for now"
   ]
  },
  {
   "cell_type": "markdown",
   "id": "d0346e97-cc31-4c8a-a54e-f8cc2c1c85eb",
   "metadata": {},
   "source": [
    "### Extracting quotes related to the dataset\n",
    "We're using chunks to perform our operations, as accessing the whole dataset at once requires huge computing power."
   ]
  },
  {
   "cell_type": "code",
   "execution_count": 8,
   "id": "2c928b47-95af-4b34-8d4c-d49730ad7fbd",
   "metadata": {
    "tags": []
   },
   "outputs": [
    {
     "name": "stdout",
     "output_type": "stream",
     "text": [
      "CPU times: user 5min 20s, sys: 6.78 s, total: 5min 27s\n",
      "Wall time: 5min 27s\n"
     ]
    }
   ],
   "source": [
    "%%time\n",
    "\n",
    "climate_like_quotes = []\n",
    "\n",
    "reg_query = \"|\".join(np.array(words_only)[[0, 1, 2, 3, 4, 5, 6]])\n",
    "\n",
    "for chunk in df_reader:\n",
    "    df = chunk[chunk.quotation.str.contains(reg_query, case=False, na=False)]\n",
    "    climate_like_quotes.append(df)"
   ]
  },
  {
   "cell_type": "markdown",
   "id": "c0166a6e-c0d1-46f8-85b2-a64a91f88410",
   "metadata": {},
   "source": [
    "### Adding notion of score and sorting according to it\n",
    "We are counting the number of words from the regex in each quotation and sorting according to the quotations with the higher scores. The higher the score the more related the quotations are to our topic."
   ]
  },
  {
   "cell_type": "code",
   "execution_count": 9,
   "id": "73c2186d-c464-42c3-aefc-580fe34aa1bb",
   "metadata": {},
   "outputs": [],
   "source": [
    "# Sorting quotes\n",
    "df_climate = pd.concat(climate_like_quotes) # Transform the previous list of dataframes obtained into one dataframe\n",
    "scores = [] # Create list to store scores\n",
    "\n",
    "for index, row in df_climate.iterrows():\n",
    "    scores.append(len(re.findall(reg_query, row['quotation'])))\n",
    "    \n",
    "df_climate['score'] = scores\n",
    "df_climate = df_climate.sort_values(by=['score'], ascending=False)"
   ]
  },
  {
   "cell_type": "code",
   "execution_count": 10,
   "id": "da80282d-210d-4484-baad-274f1e2cfcb4",
   "metadata": {},
   "outputs": [
    {
     "data": {
      "text/html": [
       "<div>\n",
       "<style scoped>\n",
       "    .dataframe tbody tr th:only-of-type {\n",
       "        vertical-align: middle;\n",
       "    }\n",
       "\n",
       "    .dataframe tbody tr th {\n",
       "        vertical-align: top;\n",
       "    }\n",
       "\n",
       "    .dataframe thead th {\n",
       "        text-align: right;\n",
       "    }\n",
       "</style>\n",
       "<table border=\"1\" class=\"dataframe\">\n",
       "  <thead>\n",
       "    <tr style=\"text-align: right;\">\n",
       "      <th></th>\n",
       "      <th>quoteID</th>\n",
       "      <th>quotation</th>\n",
       "      <th>speaker</th>\n",
       "      <th>qids</th>\n",
       "      <th>date</th>\n",
       "      <th>numOccurrences</th>\n",
       "      <th>probas</th>\n",
       "      <th>urls</th>\n",
       "      <th>phase</th>\n",
       "      <th>score</th>\n",
       "    </tr>\n",
       "  </thead>\n",
       "  <tbody>\n",
       "    <tr>\n",
       "      <th>3353517</th>\n",
       "      <td>2020-03-31-049406</td>\n",
       "      <td>The abstract from Pongratz et. al. report coup...</td>\n",
       "      <td>None</td>\n",
       "      <td>[]</td>\n",
       "      <td>2020-03-31 21:42:09</td>\n",
       "      <td>1</td>\n",
       "      <td>[[None, 0.5255], [Julia Pongratz, 0.4745]]</td>\n",
       "      <td>[https://www.commdiginews.com/environment/moth...</td>\n",
       "      <td>E</td>\n",
       "      <td>10</td>\n",
       "    </tr>\n",
       "    <tr>\n",
       "      <th>1412716</th>\n",
       "      <td>2020-02-04-079117</td>\n",
       "      <td>The climate crisis poses one of the most serio...</td>\n",
       "      <td>Amber Rudd</td>\n",
       "      <td>[Q479171]</td>\n",
       "      <td>2020-02-04 12:36:00</td>\n",
       "      <td>1</td>\n",
       "      <td>[[Amber Rudd, 0.9], [None, 0.1]]</td>\n",
       "      <td>[https://www.miragenews.com/amber-rudd-joins-c...</td>\n",
       "      <td>E</td>\n",
       "      <td>8</td>\n",
       "    </tr>\n",
       "    <tr>\n",
       "      <th>1306081</th>\n",
       "      <td>2020-01-28-111450</td>\n",
       "      <td>Who, in all history, ever suffered unpopularit...</td>\n",
       "      <td>Scientific American</td>\n",
       "      <td>[Q7433741]</td>\n",
       "      <td>2020-01-28 00:00:00</td>\n",
       "      <td>1</td>\n",
       "      <td>[[Scientific American, 0.6878], [None, 0.3122]]</td>\n",
       "      <td>[https://jamanetwork.com/journals/jama/fullart...</td>\n",
       "      <td>E</td>\n",
       "      <td>8</td>\n",
       "    </tr>\n",
       "    <tr>\n",
       "      <th>1164670</th>\n",
       "      <td>2020-02-25-080564</td>\n",
       "      <td>We try and look at the scientific evidence aro...</td>\n",
       "      <td>John Neal</td>\n",
       "      <td>[Q1315962, Q6250190, Q6250195]</td>\n",
       "      <td>2020-02-25 00:00:00</td>\n",
       "      <td>1</td>\n",
       "      <td>[[John Neal, 0.8669], [None, 0.1331]]</td>\n",
       "      <td>[http://www.wlrn.org/post/sunshine-economy-llo...</td>\n",
       "      <td>E</td>\n",
       "      <td>7</td>\n",
       "    </tr>\n",
       "    <tr>\n",
       "      <th>3751810</th>\n",
       "      <td>2020-01-09-014127</td>\n",
       "      <td>Companies should be increasingly focused on pu...</td>\n",
       "      <td>Andrew Winston</td>\n",
       "      <td>[Q42723260]</td>\n",
       "      <td>2020-01-09 00:00:00</td>\n",
       "      <td>1</td>\n",
       "      <td>[[Andrew Winston, 0.9269], [None, 0.0731]]</td>\n",
       "      <td>[https://www.forbes.com/sites/susanmcpherson/2...</td>\n",
       "      <td>E</td>\n",
       "      <td>7</td>\n",
       "    </tr>\n",
       "  </tbody>\n",
       "</table>\n",
       "</div>"
      ],
      "text/plain": [
       "                   quoteID                                          quotation  \\\n",
       "3353517  2020-03-31-049406  The abstract from Pongratz et. al. report coup...   \n",
       "1412716  2020-02-04-079117  The climate crisis poses one of the most serio...   \n",
       "1306081  2020-01-28-111450  Who, in all history, ever suffered unpopularit...   \n",
       "1164670  2020-02-25-080564  We try and look at the scientific evidence aro...   \n",
       "3751810  2020-01-09-014127  Companies should be increasingly focused on pu...   \n",
       "\n",
       "                     speaker                            qids  \\\n",
       "3353517                 None                              []   \n",
       "1412716           Amber Rudd                       [Q479171]   \n",
       "1306081  Scientific American                      [Q7433741]   \n",
       "1164670            John Neal  [Q1315962, Q6250190, Q6250195]   \n",
       "3751810       Andrew Winston                     [Q42723260]   \n",
       "\n",
       "                       date  numOccurrences  \\\n",
       "3353517 2020-03-31 21:42:09               1   \n",
       "1412716 2020-02-04 12:36:00               1   \n",
       "1306081 2020-01-28 00:00:00               1   \n",
       "1164670 2020-02-25 00:00:00               1   \n",
       "3751810 2020-01-09 00:00:00               1   \n",
       "\n",
       "                                                  probas  \\\n",
       "3353517       [[None, 0.5255], [Julia Pongratz, 0.4745]]   \n",
       "1412716                 [[Amber Rudd, 0.9], [None, 0.1]]   \n",
       "1306081  [[Scientific American, 0.6878], [None, 0.3122]]   \n",
       "1164670            [[John Neal, 0.8669], [None, 0.1331]]   \n",
       "3751810       [[Andrew Winston, 0.9269], [None, 0.0731]]   \n",
       "\n",
       "                                                      urls phase  score  \n",
       "3353517  [https://www.commdiginews.com/environment/moth...     E     10  \n",
       "1412716  [https://www.miragenews.com/amber-rudd-joins-c...     E      8  \n",
       "1306081  [https://jamanetwork.com/journals/jama/fullart...     E      8  \n",
       "1164670  [http://www.wlrn.org/post/sunshine-economy-llo...     E      7  \n",
       "3751810  [https://www.forbes.com/sites/susanmcpherson/2...     E      7  "
      ]
     },
     "execution_count": 10,
     "metadata": {},
     "output_type": "execute_result"
    }
   ],
   "source": [
    "df_climate.head()"
   ]
  },
  {
   "cell_type": "code",
   "execution_count": 11,
   "id": "31a6a919-6430-4f7a-97a3-5a103ff4624c",
   "metadata": {},
   "outputs": [
    {
     "name": "stdout",
     "output_type": "stream",
     "text": [
      "The abstract from Pongratz et. al. report coupled climate -- carbon simulations that indicate minor global effects of wars and epidemics on atmospheric CO2 between ad 800 and 1850 reporting: Historic events such as wars and epidemics have been suggested as explanation for decreases in atmospheric CO2 reconstructed from ice cores because of their potential to take up carbon in forests regrowing on abandoned agricultural land. (emphasis added) READ ALSO: From GM creating ventilators, to new deals, the auto industry is reacting to COVID-19 Here, we use a coupled climate -- carbon cycle model to assess the carbon and climate effects of the Mongol invasion (~ 1200 to ~ 1380), the Black Death (~ 1347 to ~ 1400), the conquest of the Americas (~ 1519 to ~ 1700), and the fall of the Ming Dynasty (~ 1600 to ~ 1650). We calculate their impact on atmospheric CO2 including the response of the global land and ocean carbon pools. It has been hypothesized that these events have contributed to significant increases in land carbon stocks. However, we find that slow regrowth and delayed emissions from past land cover change allow for small increases of the land biosphere carbon storage only during long-lasting events. The effect of these small increases in land biosphere storage on global CO2 is reduced by the response of the global carbon pools and largely offset by concurrent emissions from the rest of the world. None of these events would therefore have affected the atmospheric CO2 concentration by more than 1 ppm. Only the Mongol invasion could have lowered global CO2, but by an amount too small to be resolved by ice cores.\n",
      "\n",
      "The climate crisis poses one of the most serious long-term risks to economic and national security globally, but also one of the biggest opportunities. The Climate Group is a world leading non-profit driving faster climate action. Their work with now over 300 large global businesses to speed-up the move to electric vehicles, and clean, smart energy is helping to shift markets and policies. Together with its role running the global states and regions alliance for climate action, the Under2 Coalition, they are showing how climate change is too big a problem to be left to national governments and politicians alone. I look forward to supporting The Climate Group in its ambition to drive more climate action at an even greater pace and scale.\n",
      "\n",
      "Who, in all history, ever suffered unpopularity more widespread and more undeserved than the weather man? When his prophecies hit the mark, this is taken as a matter of course, and tomorrow will forget today's success. But his occasional failures -- especially if rain comes when he had given his sanction to our plans for an outing -- such impardonable failures are recorded in indelible writing, with illuminated capitals to impress the event on the memory. And, strangely enough, in this atmosphere of unforgiving criticism, the charlatan weather prophet still flourishes, and with blatant self-confidence foretells to a congregation of believers the weather for each and every day next year or the year after, or any other year. Old myths, negated anew by each year's experience, seem to have a charmed life, proof against the bullets of obvious fact. The scientific weather man, in modesty, forbears to predict anything but the immediate future -- tomorrow, and perhaps the day after. Beyond this lies uncertainty. He hopes, indeed, for a future development of his science when, aided by more complete equipment, he may be able to give at least an approximate indication of more remote events. As yet, however, this is but a pious hope. But the charlatan is not encumbered with any such impediments of modesty. It is just as easy to foretell the weather a hundred years ahead as a hundred hours or minutes -- it is even easier, for there will be none to call you to account if you miss the mark. In this the popular attitude is much the same as in the matter of medical attention. The doctor's successes are soon forgotten; his inevitable failures -- for the foe is in the end invincible -- are burnt into the memory. And those who are most vociferous in their criticism of the bona fide physician faithfully plying his science, are commonly the first to turn to the charlatan for aid in the time of trouble. Truly, they receive their reward. The harm done is perhaps not so very great. The physician goes on his rounds regardless of undeserved fault-finding; and the weather man continues to publish his bulletin day by day, undisturbed by criticism. Yet our sense of justice impels us to plead: In mercy, good people, be charitable, and remember that the weather man only foretells, he does not make the weather.\n",
      "\n",
      "We try and look at the scientific evidence around the changing climate and try and plot what we think that will do to weather next year and in two years time. Our immediate horizon thing is around weather more than climate. But we would turn around and say as an industry, we've got a lot of weather data and that weather data ought to be helpful in informing the climate conversation.\n",
      "\n",
      "Companies should be increasingly focused on purpose and their role in society, feeling more pressure from employees and the young people of the world to take a stand on issues -- especially climate change. Given the quasi-failure of the global climate negotiations, the responsibility to keep carbon reductions moving will fall to business even more. Of course 2020 will also bring in a critical election in the U.S.. It's hard to tackle climate change globally without the U.S. as a willing participant, and we have deniers in charge. It's also hard to move on climate, inequality, and other priorities without a functioning democracy with respect for the rule of law. Companies will likely be stepping more into politics -- at least on climate policy -- than ever before. And the rush to clean tech, renewable energy, electric vehicles, and more will continue to surprise.\n",
      "\n",
      "Major and urgent global emissions reductions are necessary in order to avoid significant, severe or catastrophic global security consequences in the future. We also need to climate-proof all elements of security -- including infrastructure, institutions and policies. That's our judgment from a military perspective. For example, 93% of the climate security and military experts surveyed in our World Climate and Security Report assess that climate-driven water insecurity will pose a significant or higher risk to global security by 2030. That's unacceptable, and the world's security leaders must do as much as they can to avoid that future. We hope that the Munich Security Conference is the beginning of a major effort by the security community to address this global threat.\n",
      "\n",
      "These short-term global fluctuations are associated principally with natural oscillations of tropical Pacific sea surface temperatures summarized in the Nino index in the lower part of the figure. 2012 is nominally the 9th warmest year, but it is indistinguishable in rank with several other years, as shown by the error estimate for comparing nearby years. Note that the 10 warmest years in the record all occurred since 1998. The long-term warming trend, including continual warming since the mid-1970s, has been conclusively associated with the predominant global climate forcing, human-made greenhouse gases, which began to grow substantially early in the 20th century. The approximate stand-still of global temperature during 1940-1975 is generally attributed to an approximate balance of aerosol cooling and greenhouse gas warming during a period of rapid growth of fossil fuel use with little control on particulate air pollution [... ]\n",
      "\n",
      "Avaaz examined 5,537 videos retrieved by the search terms `climate change' , `global warming' and `climate manipulation' , and then the videos most likely to be suggested next by YouTube's `up next' sidebar. For each of those search terms respectively, 8%, 16% and 21% of the Top 100 related videos included by YouTube in the `up-next' feature contained information that goes against the scientific consensus on climate change -- such as denying climate change is taking place, or claiming that human activity is not a cause of climate change.\n",
      "\n",
      "Coal phase-out has a positive synergy between the global climate challenge and local environmental pollution. In international climate negotiations, governments need to factor-in that exiting coal is a cheap way to substantially reduce global greenhouse gas emissions and has huge co-benefits at home. Our study shows that national and global interests are not necessarily trading-off, but can go hand in hand.\n",
      "\n",
      "If the best current scientific and economic evidence is to be believed, and climate change could be a real and serious problem, the appropriate response is to institute today a climate change tax equal to the mean estimate of the damage caused by a tonne of CO2 emissions. The raw calculations from the default PAGE09 model suggest the tax should be about $100 per tonne of CO2 in the EU. But correcting for the limited time horizon of the model, and bringing the calculations forward to 2102 [ 2012 ], in year 2012 dollars, brings the suggested tax up to about $150 per tonne of CO2. There are good arguments for setting the initial tax at about $250 per tonne of CO2 in the US, while starting off at a much lower level, maybe $15 per tonne of CO2, in the poorest regions of the world, all in the year 2012, in year 2012 dollars. That such policy advice would not pass the laugh test, particularly in the US [ and Australia ], shows that the rhetoric about getting to grips with climate change has not been seriously thought through to its logical conclusion. As a result, rather than falling, greenhouse gas emissions are continuing to rise (Le Quere et al, 2009). A fiscally neutral significant climate change tax is the best chance we have of bringing the climate change problem under control\n",
      "\n"
     ]
    }
   ],
   "source": [
    "for i in range(10):\n",
    "    print(df_climate.iloc[i]['quotation'])\n",
    "    print()"
   ]
  },
  {
   "cell_type": "markdown",
   "id": "0c30d4ac-f0a8-4f5b-9f8b-4ad003bdeea8",
   "metadata": {},
   "source": [
    "# Storing file"
   ]
  },
  {
   "cell_type": "code",
   "execution_count": 12,
   "id": "8c56473b-527a-4049-8d95-02c1d812d8af",
   "metadata": {},
   "outputs": [],
   "source": [
    "df_climate.to_pickle('data/climate_df_score_related-2020.pkl')"
   ]
  },
  {
   "cell_type": "markdown",
   "id": "4dd1587b-fb1c-484c-806e-fa74b832045d",
   "metadata": {},
   "source": [
    "# Next Steps\n",
    "Each word has its own score of similartiy to the term we searched for (i.e., \"climate change\") and we will give bigger weight to quotes containing words with higher score of similarity. But the current score approach, already allows us to have a relevant score system.\n",
    "We will also take into account the length of the quotes, because bigger quotes have more words and so more chances of getting more words."
   ]
  },
  {
   "cell_type": "markdown",
   "id": "9d1f21a2-02ae-4783-869d-f49f504be329",
   "metadata": {},
   "source": [
    "# Current situation\n",
    "The rest of the notebook was based on an extraction of quotes containing \"climate change\" without any stemming or search for related words. We decided to do this because we did not want to loose time with computing and just wanted to show our pipeline is working."
   ]
  }
 ],
 "metadata": {
  "kernelspec": {
   "display_name": "Python 3 (ipykernel)",
   "language": "python",
   "name": "python3"
  },
  "language_info": {
   "codemirror_mode": {
    "name": "ipython",
    "version": 3
   },
   "file_extension": ".py",
   "mimetype": "text/x-python",
   "name": "python",
   "nbconvert_exporter": "python",
   "pygments_lexer": "ipython3",
   "version": "3.9.7"
  }
 },
 "nbformat": 4,
 "nbformat_minor": 5
}
