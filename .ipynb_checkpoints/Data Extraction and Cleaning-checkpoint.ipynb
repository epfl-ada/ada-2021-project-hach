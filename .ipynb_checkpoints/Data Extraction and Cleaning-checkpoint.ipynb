{
 "cells": [
  {
   "cell_type": "markdown",
   "id": "0264adaf-1cb9-4741-bcbe-764b805d14fc",
   "metadata": {},
   "source": [
    "# Web request for words similar to \"Climate change\""
   ]
  },
  {
   "cell_type": "code",
   "execution_count": 64,
   "id": "de484421-c6fb-497f-b320-295953a4538d",
   "metadata": {
    "execution": {
     "iopub.execute_input": "2021-11-07T15:19:32.284838Z",
     "iopub.status.busy": "2021-11-07T15:19:32.284284Z",
     "iopub.status.idle": "2021-11-07T15:19:32.486363Z",
     "shell.execute_reply": "2021-11-07T15:19:32.485859Z",
     "shell.execute_reply.started": "2021-11-07T15:19:32.284817Z"
    },
    "tags": []
   },
   "outputs": [],
   "source": [
    "# Import libraries\n",
    "import requests\n",
    "from bs4 import BeautifulSoup\n",
    "import json\n",
    "import nltk\n",
    "from nltk.stem import LancasterStemmer\n",
    "import pandas as pd"
   ]
  },
  {
   "cell_type": "markdown",
   "id": "a6743ec0-41cc-4515-adc4-c20d4cb55a11",
   "metadata": {},
   "source": [
    "We are now going to perform the query for words related to \"climate change\". The website from which we are quering, uses multiple algorithms to extract the words that are the most similar to \"climate change\". The further away they are on the list, the least similar they are."
   ]
  },
  {
   "cell_type": "code",
   "execution_count": 46,
   "id": "85b28207-e179-49e6-bba0-4d1b079749a9",
   "metadata": {
    "execution": {
     "iopub.execute_input": "2021-11-07T14:42:44.445796Z",
     "iopub.status.busy": "2021-11-07T14:42:44.445428Z",
     "iopub.status.idle": "2021-11-07T14:42:44.553349Z",
     "shell.execute_reply": "2021-11-07T14:42:44.552988Z",
     "shell.execute_reply.started": "2021-11-07T14:42:44.445778Z"
    },
    "tags": []
   },
   "outputs": [],
   "source": [
    "# Make the request\n",
    "r = requests.get('https://relatedwords.org/relatedto/climate%20change')\n",
    "\n",
    "# Parse content\n",
    "soup = BeautifulSoup(r.text, 'html.parser')\n",
    "\n",
    "# Extract words with score and source\n",
    "for words in soup.find_all('script', attrs={\"id\" : \"preloadedDataEl\", \"type\" : \"text/json\"}):\n",
    "    words_json_format = json.loads(words.string)"
   ]
  },
  {
   "cell_type": "markdown",
   "id": "a811b3dc-20ec-470e-b0ad-6764e1497320",
   "metadata": {},
   "source": [
    "Now that we have extracted what we wanted, we will transfrom the content into something we can use for analysis."
   ]
  },
  {
   "cell_type": "code",
   "execution_count": 52,
   "id": "7380a6b7-4fc4-48e7-ad63-2ace4b473d28",
   "metadata": {
    "execution": {
     "iopub.execute_input": "2021-11-07T14:47:08.651143Z",
     "iopub.status.busy": "2021-11-07T14:47:08.650812Z",
     "iopub.status.idle": "2021-11-07T14:47:08.654423Z",
     "shell.execute_reply": "2021-11-07T14:47:08.654007Z",
     "shell.execute_reply.started": "2021-11-07T14:47:08.651124Z"
    },
    "tags": []
   },
   "outputs": [],
   "source": [
    "# Transform into python list fo scores associated to words\n",
    "words_with_score = []\n",
    "words_only = []\n",
    "\n",
    "for term in words_json_format['terms']:\n",
    "    words_with_score.append((term['word'], term['score']))\n",
    "    words_only.append(term['word'])"
   ]
  },
  {
   "cell_type": "markdown",
   "id": "64885d7f-0a10-4d75-ac61-dd054930d842",
   "metadata": {
    "execution": {
     "iopub.execute_input": "2021-11-07T14:47:24.337588Z",
     "iopub.status.busy": "2021-11-07T14:47:24.337229Z",
     "iopub.status.idle": "2021-11-07T14:47:24.341444Z",
     "shell.execute_reply": "2021-11-07T14:47:24.341015Z",
     "shell.execute_reply.started": "2021-11-07T14:47:24.337566Z"
    },
    "tags": []
   },
   "source": [
    "# Stemming"
   ]
  },
  {
   "cell_type": "code",
   "execution_count": 62,
   "id": "0087bf55-d2fc-40f3-bced-6b96eace47d8",
   "metadata": {
    "execution": {
     "iopub.execute_input": "2021-11-07T15:17:32.090064Z",
     "iopub.status.busy": "2021-11-07T15:17:32.089539Z",
     "iopub.status.idle": "2021-11-07T15:17:32.093008Z",
     "shell.execute_reply": "2021-11-07T15:17:32.092491Z",
     "shell.execute_reply.started": "2021-11-07T15:17:32.090038Z"
    },
    "tags": []
   },
   "outputs": [],
   "source": [
    "# Stemming\n",
    "def stem_list(words_list):\n",
    "    stemmed_words = []\n",
    "    lancaster = LancasterStemmer()\n",
    "\n",
    "    for word in words_only:\n",
    "        stemmed_words.append(lancaster.stem(word))\n",
    "        \n",
    "    return stemmed_words"
   ]
  },
  {
   "cell_type": "markdown",
   "id": "75bf5a88-0e6d-4012-9f9f-9a13dc83da6f",
   "metadata": {
    "tags": []
   },
   "source": [
    "# Extracting and stemming data from dataset"
   ]
  },
  {
   "cell_type": "code",
   "execution_count": 73,
   "id": "28e52e92-8128-4f2b-ac42-0c519a205bc4",
   "metadata": {
    "execution": {
     "iopub.execute_input": "2021-11-07T15:27:31.487866Z",
     "iopub.status.busy": "2021-11-07T15:27:31.487371Z",
     "iopub.status.idle": "2021-11-07T15:27:31.490520Z",
     "shell.execute_reply": "2021-11-07T15:27:31.490106Z",
     "shell.execute_reply.started": "2021-11-07T15:27:31.487846Z"
    },
    "tags": []
   },
   "outputs": [],
   "source": [
    "# Load data\n",
    "df = pd.read_json('data/quotebank/quotes-2020.json.bz2', lines=True, compression='bz2', chunksize =10000)"
   ]
  },
  {
   "cell_type": "code",
   "execution_count": 70,
   "id": "12d94079-b27b-49cf-a394-92a994fdb2b3",
   "metadata": {
    "execution": {
     "iopub.execute_input": "2021-11-07T15:25:27.665846Z",
     "iopub.status.busy": "2021-11-07T15:25:27.665509Z",
     "iopub.status.idle": "2021-11-07T15:25:27.680750Z",
     "shell.execute_reply": "2021-11-07T15:25:27.680015Z",
     "shell.execute_reply.started": "2021-11-07T15:25:27.665825Z"
    },
    "tags": []
   },
   "outputs": [],
   "source": [
    "# Setup set of words we're using for searching\n",
    "stemmed_words = stem_list(words_only)\n",
    "stemmed_words = set(stemmed_words[:10]) #Only use 10 first words for now"
   ]
  },
  {
   "cell_type": "code",
   "execution_count": null,
   "id": "2c928b47-95af-4b34-8d4c-d49730ad7fbd",
   "metadata": {
    "tags": []
   },
   "outputs": [],
   "source": [
    "%%time\n",
    "climate_quotes = []\n",
    "for line in df:\n",
    "    print(line['quotation'])\n",
    "    #df = chunk[chunk.quotation.str).contains('climate', case=False, na=False)]\n",
    "    #climate_quotes.append(df)"
   ]
  }
 ],
 "metadata": {
  "kernelspec": {
   "display_name": "Python 3 (ipykernel)",
   "language": "python",
   "name": "python3"
  },
  "language_info": {
   "codemirror_mode": {
    "name": "ipython",
    "version": 3
   },
   "file_extension": ".py",
   "mimetype": "text/x-python",
   "name": "python",
   "nbconvert_exporter": "python",
   "pygments_lexer": "ipython3",
   "version": "3.8.12"
  }
 },
 "nbformat": 4,
 "nbformat_minor": 5
}
